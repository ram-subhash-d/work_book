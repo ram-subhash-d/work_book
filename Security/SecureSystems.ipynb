{
 "cells": [
  {
   "cell_type": "markdown",
   "id": "e730dfd3",
   "metadata": {},
   "source": [
    "# Introduction\n",
    "Flaws in a computer system would allow the attacker to access the system. Flaws can be design flaws, hardware flaws(hardware trojans), flaws in software programs and human factor. Attacker needs just one of these flaws to gain access to your system. There are a quite a few software programming flaws at application and system software level that can be exploited. Of these 1. Buffer overflows and overreads 2. Heap: double free, use after free 3. Interger overflows and 4. Format strings are well known system software flaws.  \n",
    "Approaches to build secure systems\n",
    "* Design flawless systems : Not practicle to delvelop these systems with windows and linux in real world.\n",
    "* Isolate systems : We build systems with flaws and then encapsulte these systems in sandbox environments, virtual machines and trusted execution environments.\n",
    "* Detect and mitigate attacks : Anti-virus software would detect malicious code, based on certain characteristics during execution or based on certain characteristics of the binary of that particular executable."
   ]
  },
  {
   "cell_type": "markdown",
   "id": "0f29b000",
   "metadata": {},
   "source": [
    "## Program binaries\n",
    "Executables(.elf(executable linker format) on linux, .exe on windows) are stored in hard disk. When you run the executable, the operating system creates a process, runs the excutable in the process on the RAM.\n",
    "\n",
    "ELF format : It is a format for object files, libraries and executables.  \n",
    "\n",
    "Object files start with the ELF header which describes the file organization, followed by different sections for code, data, symbols etc. At the end it has a section header table, which will help to locate the various sections.\n",
    " * ELF header : It has a identication, a magic number indicating that it is a .elf file. Type, weather the file is object file, shared obejct, executable or a core file. Machine type, for which processor this file is compiled for. Entry, virtual address where program begins execution(for executables). It also has a pointer to the section header table and the number of sections.\n",
    " * Section header table : This table has the section name, type of the section(PROGBITS, SYMTAB, NOBITS etc), virtual address where each section will be loaded(for executable), offset of the section within the file, size of the section and a few other columns.\n",
    " \n",
    "Executables also have a similar structure. Executable files have segments instead of sections, it has program header table instead of section header table. The remaining is the same. Program header table helps to locate various file's segments. Again the segments could be for code, data, symbol table etc.\n",
    "* Program header table : This table has type of the segment(loadable segment/shared lib/etc), offset of the segment in the ELF file, virtual address where the segment is to be loaded when exeuted, size of the segment and flags(read/write/execute) columns.\n",
    "\n",
    "Process : When we run the executable from the shell, operating system calls fork() method which creates a new child process of the shell process. Child process will call execlp(\"hello\", \"\", NULL) method to run the executable. The parent process(shell in this case) will call wait() method to wait for the child to complete execution and return.  \n",
    "When the execlp system call is made, the OS would create a new virtual address base for the new process. Then it would load segments from elf file into this virtual address base segments. Code and intructions will be copied to the text segment of the virtual address base, global data members of the program will be copied into the data segment, dynamic data(new/malloc) will be allocated in the heap segment and local variables/function calls will be loaded into the stack segment of the virtual address base.\n",
    "\n",
    "Example commands\n",
    "* readelf -h hello.o : Command to get the ELF header details of hello.o object file.\n",
    "* readelf -S hello.o : Command to get the ELF section header table.\n",
    "* readelf -l hello : Command to get the ELF program header table of hello executable file.\n",
    "* objdump --disassemble -all hello : Command to get assembly code from ELF files.\n",
    "* ps -ae | grep hello : Get the pid of the running hello executable.\n",
    "* sudo cat /proc/6757/maps : Display the virtual address base map of the process(6757 is pid)."
   ]
  },
  {
   "cell_type": "markdown",
   "id": "a4926c7a",
   "metadata": {},
   "source": [
    "## Buffer Overflows\n",
    "Buffer overflows can be in the stack, in the heap or it can be a return-to-libc attack. If we try to access memory outside the allocated size then it is called a buffer overflow, for example with char buffer\\[10\\], if we try to access buffer\\[10\\] then it is a buffer overflow, this will return the value at location after buffer in the stack(which could be anything on the program stack, other variables, frame pointer, return address etc.). Using buffer overflow an attacker can modify return address to point to his attack code, which will run his code when the current function returns. Normally the attacker will fill the buffer with his attack code, and then use buffer overflow to modify current stack frame return address to point to his code. This is known as the buffer overflow attack. The attacker must fill the buffer with the machine code of his attack code, they use tools like obejctdump to get the machine code. For example the below code can be used for buffer overflow attack, as strcpy tries to copy till it see's a NULL('\\0') character and the program is trying to copy a bigger array into a smaller one.\n",
    "```\n",
    "char large_string[128];\n",
    "char buffer[48];              //defined on stack\n",
    "...\n",
    "strcpy(buffer, large_string);\n",
    "```\n",
    "The attacker fills up the start of the large_string with his attack code and the remaining bytes with the address to his attack code(buffer start address). In this way he can get the buffer to overflow into the stack and fill the return address with his attack code address.\n",
    "\n",
    "Example commands\n",
    "* (gdb)info registers eip esp ebp : Display the contents of the registers, instruction pointer, stack pointer, current stack frame base pointer.\n",
    "* (gdb)x/32x $esp : Display the contents at the stack pointer, 32 words(memory locations) in hexa.\n",
    "* (gdb)disassemble : Display the assembly code.\n",
    "* (gdb)si 3 : Runs 3 assembly instructions(si runs a single assembly instructions).\n",
    "* (gdb)info local : Display the contents of all locals variables."
   ]
  },
  {
   "cell_type": "markdown",
   "id": "cf49d542",
   "metadata": {},
   "source": [
    "## Buffer Overflow Example\n",
    "In this example we demonstrate how to run the shell from the attack code, this gives the attacker access to the system via the shell.\n",
    "```\n",
    "int copier(char *str)\n",
    "{\n",
    "    char buffer[100];\n",
    "    strcpy(buffer, str);\n",
    "}\n",
    "\n",
    "int main(int argc, char *argv[])\n",
    "{\n",
    "    copier(argv[1]);\n",
    "    printf(\"Done!\\n\");\n",
    "}\n",
    "```\n",
    "Here if arg\\[1\\] is greater than 100 bytes then a overflow will occur. If the overflow crosses the function stack frame then previous stack frame pointer and return address will be modified. If only previous stack frame pointer is modified and return address is not modified, program will return to main and continue to execute when exiting main it gives a segmentation fault."
   ]
  },
  {
   "cell_type": "markdown",
   "id": "f402dfc2",
   "metadata": {},
   "source": [
    "## Preventing Buffer Overflows\n",
    "There are two prevention techniques canaries and non executable stack.\n",
    "* Canaries : It is a compiler defence mechanism. When ever a stack frame gets created(for a function) the compiler would insert a canary in the stack after the frame pointer by adding additional instructions. Canary is a random number, if this number is modified then the compiler would throw stack overflow error at the time of returning from the function(additional instructions inserted for this check), thus preventing buffer overflow attacks. For GCC we have to use -fstack-protector compiler option to enable canaries.\n",
    "* Non executable stack : This is implemented in the hardware, processor. This is implemented with a W^X bit(write exclusive or execute), when this bit is enabled for a segment(for example say the stack segment) then one can either write to that segment or execute from that segment, we cannot do both. The stack segment W^X bit is set, thus preventing buffer overflow attacks. Both Intel and AMD processors support this bit. Very effective as it is done by hardware and uses only a single bit per segment, but there are legitimate cases to execute code from stack, like the java just-in-time runtime, which generates code at runtime in stack and runs it. This is not possible with this bit."
   ]
  },
  {
   "cell_type": "markdown",
   "id": "8cf6924b",
   "metadata": {},
   "source": [
    "## Return to libc buffer overflow attack\n",
    "In this attack code is not executed from the stack, this way the attack would run even if the W^X bit is set for that stack. libc is the standard c library. The return to libc attack also would overflow the buffer and modify the return address to some arbitary address. But this arbitary address points to some function in libc. As this code is present in code segment of the process(not stack), it executes. system is one such function that the attackers can use from libc. For example system(\"/bin/bash\") will open the bash for the attacker, then the attacker can run any command from bash.    \n",
    "So the attacker needs to find the address of the system function in libc, overflow the buffer with this address and fill up the return address with it. Then fill up the next location in stack with an address that points to the string /bin/bash(in virtual memory). We can get both these addresses with gdb from libc.  \n",
    "\n",
    "Example commands\n",
    "* (gdb)p system : Prints the address of the system function in libc.\n",
    "* (gdb)info proc map : Displays the memory mappings of the current process, which also has the memory range of libc.\n",
    "* (gdb)find 0xf7e08000,0xf7fb9000,\"/bin/sh\" : Find the string in the given address range and return its address.\n",
    "* (gdb)x/s 0xf7f6102b : Dump the string at the given address."
   ]
  },
  {
   "cell_type": "markdown",
   "id": "edc430ab",
   "metadata": {},
   "source": [
    "## Return oriented programming attacks(ROP)\n",
    "Return to libc attack is limited to only using functions from libc. ROP is not limited to using functions only from libc, it can execute any arbitary code. We have to build the instructions(code) that we want to execute. To build the attack code we have to find the gadgets in libc code by statistically analysing the libc code. Gadget is a small sequence of instructions followed by a return. Then find and stitch the gadgets to build the target payload. To stitch the gadgets we have to place the gadgets in the stack one top another in order required. With each gadget having a return statement, these gadgets execute one after the other. To find all the gadgets in libc we find all the return op codes, once we find the return op code we look at the previous instructions and try to form useful gadgets. "
   ]
  },
  {
   "cell_type": "markdown",
   "id": "e09acf71",
   "metadata": {},
   "source": [
    "## Address Space Layout Randomization(ASLR)\n",
    "Address space layout randomization is a technique used to prevent attacks like return to libc and ROP. These attacks are highly dependent upon knowing where these functions reside in memory, assumes that many systems use the same address mapping, therefore one attack may spread easily. ASLR randomizes the address space layout of the process, each process execution would have a different memory map(randomize the location of libraries, heap, stack, etc for each run of the application), thus making it difficult for the attacker to run exploits. There are 2 well known techniques to implement ALSR, load time relocatable and position independent executable/programmable independent code.\n",
    "* Load Time Relocatable(LTR) : Here the work is done by the loader, modifies the executable while loading, moves the code segments randomly. This means the compiled code can only have place holders for addresses, these palce holders will be filled in during load time using relocatable tables(present in compiled libraries and executable). Limitations are that it has slower load time, it needs writable code segment which could pose security problems and each program needs a customised copy of a shared library instead of using the same copy of the shared library.  \n",
    "* Programmable Independent Code(PIC) : This tecnique gets rid of all the limitations in LTR. Here instead of relying on the loader to change all the addresses, it uses relative addressing and a special table called global offset table(GOT) is used. GOT has the location of the absolute address of varaibles and functions, assembly instructions are updated to use the addresses from the GOT. GOT is present in the data segment and constructed/filled just once during execution. Limitation is that the runtime overheads have increased.  \n",
    "Attackers managed to bypass ASLR, techniques like brute force, timing attacks, return-to-plt and overwriting the GOT are used.\n",
    "\n",
    "Example commands\n",
    "* cat /proc/sys/kernel/randomize_va_space : Check if ALSR is enabled in the linux kernel, a value 2 means a highest level of randomization.\n",
    "* cat /proc/14621/maps : Display the memory map of the process with the process id 14621.\n",
    "* readelf -r libmylib.so : Get the relocatable table for libmylib.so library.\n",
    "* (gdb) disassemble set_mylib_int : Disassemble the assembly code of the function set_mylib_int."
   ]
  },
  {
   "cell_type": "markdown",
   "id": "a00d600d",
   "metadata": {},
   "source": [
    "## Buffer Overreads\n",
    "If a program in some way allows to read data past the buffer size then it is known as buffer overread. If the data after the buffer is some sensitive data, then the attacker can be hold of that sensitive data. Below is a simple example of a buffer overread.\n",
    "```\n",
    "char some_data[] = \"some data\";\n",
    "char secret_data[] = \"TOPSECRET\";\n",
    "\n",
    "void main(int argc, char **argv)\n",
    "{\n",
    "    int i = 0;\n",
    "    int len = atoi(argv[1]); //length to be printed\n",
    "    \n",
    "    while(i < len)\n",
    "    {\n",
    "        printf(\"%c\", some_data[i]);\n",
    "        i++;\n",
    "    }\n",
    "    \n",
    "    printf(\"\\n\");\n",
    "}\n",
    "```\n",
    "Here some_data array has been initialized to some specific size but the user can read more data than what is in some_data array(from adjacent memory) by inputting a higher length to print(program's first argument).In this example \"TOPSECRET\" will be present in the adjacent memory hence it is a vulnerability. One real world example of buffer overread was the heartbleed attack which tagetted OpenSSL to steel information, OpenSSL did not check for the maximum length of the heartbeat message(payload length is present in the message), which ment the attacker could read past the buffer."
   ]
  },
  {
   "cell_type": "markdown",
   "id": "49fb74ab",
   "metadata": {},
   "source": [
    "## Format String Vulnerabilities\n",
    "Format string is used quite often by functions like printf, scanf and C++ stream objects, this could lead to a vulnerability. Normally the format string will have the format specifiers(like %d(int), %x(hexa decimal), %s(string)), format specifiers will be replaced with the arguments when forming the resulting string. One of the vulnerability of format string is insufficient arguments, example printf(\"%d %d %d\\n\", a, b), 3 format specifiers but only 2 arguments. In this case the value in location above b in the stack is printed for the 3rd format specifier. printf(\"%s%s%s%s%s%s\"), may crash as this would try to get strings from arbitary locations present in the satck as there are no arguments to printf. The below code has the vulnerability to print contents of any memory location of the program.\n",
    "```\n",
    "static char s[1024] = \"THIS IS A TOP SECRET MESSAGE!!!\";\n",
    "void main()\n",
    "{\n",
    "    char user_string[100];\n",
    "    strcpy(user_string, \"\\xc0 \\x96 \\x04 \\x08 %x %x %x %x %x %x %s\");\n",
    "    printf(user_string);\n",
    "}\n",
    "```\n",
    "The purpose of this attack is to print the contents of s. In a real world example the user_string could be taken from the user or recieved on the network. '\\xc0 \\x96 \\x04 \\x08' is the address for the string s. printf works using 2 pointers, printer p points to the format specifiers in the stack and pointer ap which points to the arguments in the stack. %x's are added to the format string so that ap points to '\\xc0 \\x96 \\x04 \\x08' in the stack when %s format is being resolved by printf, this way the attacker can get the secret message.  \n",
    "printf also has format specifiers that can change a value at a memory location, not just read. For example printf(\"12345%n\", &i), the %n format specifier here would return the number of characters printed so far and load it to i. Using the same technique above to read any memory location, we can use the %n format specifier to write to any desired memory location with the number of bytes that printf has printed so far."
   ]
  }
 ],
 "metadata": {
  "kernelspec": {
   "display_name": "Python 3 (ipykernel)",
   "language": "python",
   "name": "python3"
  },
  "language_info": {
   "codemirror_mode": {
    "name": "ipython",
    "version": 3
   },
   "file_extension": ".py",
   "mimetype": "text/x-python",
   "name": "python",
   "nbconvert_exporter": "python",
   "pygments_lexer": "ipython3",
   "version": "3.9.7"
  }
 },
 "nbformat": 4,
 "nbformat_minor": 5
}
