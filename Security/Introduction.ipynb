{
 "cells": [
  {
   "cell_type": "markdown",
   "id": "de8f1afc",
   "metadata": {},
   "source": [
    "## Introduction \n",
    "Here is a basic introduction to the core technologies, concepts and terms of Cyber Security. It is a good starting point to get a basic understanding of Cyber Security. Once we have this overall understanding we can deep dive into specific Cyber Security technologies and concepts."
   ]
  },
  {
   "cell_type": "markdown",
   "id": "a542c9c8",
   "metadata": {},
   "source": [
    "## Confidentiality, Integrity, Availability and Authenticity\n",
    "* Confidentiality : Ensure data is hidden and only visible to authorized users. Enforced through encryption.\n",
    "* Integrity : Ensure that data has not been modified, its accurate and complete. Enforced through hashing data and using it as checksum.\n",
    "* Availabilty : Ensure data is available when required. Enforced through redundancy.\n",
    "* Authenticity : Is the sender who is sending you message, mail, file etc, are they really the one who they claim to be. Enfored through signing."
   ]
  },
  {
   "cell_type": "markdown",
   "id": "e254e19e",
   "metadata": {},
   "source": [
    "## Identity and Access Management\n",
    "* Identification : This refers to just idenfying an entity. Examples : Your name or your user name.\n",
    "* Authentication : Prove your identify. Examples : Your Id card, passwords, biometric etc. It provides non-repudiation, means you cannot claim that it was not you who performed some actions on a system once you authenticate.\n",
    "* Authorization : Access control lists, groups, roles and previliges to different parts of the system.\n",
    "* Accountability : Holding users responsible for their actions. Done through account audits and log reviews.\n",
    "\n",
    "Token based authentication : When the user logs into a web server, the web server authenticates and sends a token to the user. Subsequent interactions with the server will have this token so that the server can autenticate every request. Tokens are short lived for security reasons. Within the same session, token will be regenerated and sent to the user by the web server.\n",
    "\n",
    "Identity Federation : When you go to a new web site(service provider) you can either create a new account or you can use your existing gmail/facebook(identity provider) account to login, this is powered by identity federation. Identity federation provides the framework under which 2 different entities can establish trust relationships so that the user need not create multiple redundant accounts. Here the service provider simply forwards the autentication request to the identity provider, identity provider creates the token and sends it to the service provider.\n",
    "\n",
    "Single sign-on : It is sub set of identity federation, it meant for a single organization. One login for all the different applications and systems within the oraganization.\n",
    "\n",
    "Identity Federation Protocols : \n",
    " * Security Assertion Markup Language(SAML) - Standard for single sign-on, provides authentication between 2 parties. \n",
    " * OAuth - Standard for authorization between 2 parties. \n",
    " * OpenID Connect(OIDC) - Again a standard for single sign-on, built on top of OAuth."
   ]
  },
  {
   "cell_type": "markdown",
   "id": "b1f87830",
   "metadata": {},
   "source": [
    "## Intellectual Property (IP)\n",
    "An intangible type of property that has been created using the human intellect. Tools to protect IP are\n",
    "* Trademark : Gives the owner exclusive right to the use of phrase, symbol or design.\n",
    "* Copyright : Protects creative or intellectual work such as images, music, other works of art.\n",
    "* Patent : Prevents anyone from making, using or selling the patented invention."
   ]
  },
  {
   "cell_type": "markdown",
   "id": "7cb2531e",
   "metadata": {},
   "source": [
    "## Cryptography\n",
    "Its the study and application of methods and techniques to protect information, by using codes for secure communication. It is broadly divided into 2 categories\n",
    "* Symmetric Encryption : It uses only 1 private key, this same key is used for both encryption and decryption. Also the same algorithm(cipher) is used for both encryption and decryption. Private key length determines the strength, longer the better. These algorithms are very fast. Popular algorithms are AES, RC5, Twofish.\n",
    "<br/><br/>\n",
    "* Asymmetric Encryption : It uses 1 public key(know to the world) and 1 private key(secure). Public key is sent by the destination to the sender. Here anything that has been encrypted with the public key can only be decrypted with the private key that is available only at the destination. Here encryption and decryption algorithms are different. These algorithms were needed as private keys cannot be safely exchanged on public networks and symmetric encryption was not easily scalable as N private keys are needed to make N connections in comparision to 2 keys(public and private) for asymmetric encryption. Popular algorithms are Diffie Hellman, RSA, ECC."
   ]
  },
  {
   "cell_type": "markdown",
   "id": "48d9f204",
   "metadata": {},
   "source": [
    "## Digital Signatures\n",
    "This also uses asymmetric encryption, but it goes the other way around. Destination encrypts the document using the private key, then the source can decrypt it as every one knows the public key. This is no longer security, it is just a assurance that if I make a document using my private key then only my public key can be used to decrypt it for use. This is just to check if the document has come from the correct sender, they provide authenticity."
   ]
  },
  {
   "cell_type": "markdown",
   "id": "08d717e3",
   "metadata": {},
   "source": [
    "## Hashing\n",
    "When you give a document/data contents to a one-way hashing function it generates a fixed size message digest/summary/checksum. Irrespective of the size of the document, the generated message digest size remains fixed. Hashing functions are one way, we cannot get the original document from the message digest. Two different inputs will lead to different hashes. If 2 different inputs lead to the same hash then it is called a collision. Hashing functions which lead to collisions are considered poor. Major application of hashing is to maintain file/data integrity. Popular algorithms are MD5, SHA-2.\n",
    "\n",
    "In some cases hashing and digital signatures are used together. At the source the hash value is encrypted using the private key and sent to the destination along with the data, the destination should decrypt this hash using the public key. "
   ]
  },
  {
   "cell_type": "markdown",
   "id": "1c67b8be",
   "metadata": {},
   "source": [
    "## Network Stack/Protocols\n",
    "* OSI and TCP/IP are divided into multiple layers and stacked on top of each other, this is done for abstraction so that each layer can perform a specilized function and change independently without affecting other layers. You can also add new protocols at any layer without affecting other layers. OSI is a 7 layer theoretical model. TCP/IP is a 5 layer protocol stack built on OSI fundations. The 5 layers of TCP/IP are\n",
    "  * Application: Interact with the user, run applications\n",
    "  * Transport: Deliver data from application to application, example from source skype to desitnation skype\n",
    "  * Network: Route data from computer to computer, uses routing, ip adresses etc.\n",
    "  * Link: Transfer the data over one link, individual jump from one divice to the next in the route\n",
    "  * Physical: Converts the bits to electromagnetic signals to transmit over wire or wireless medium\n",
    "<br/><br/>\n",
    "* While sending data each layer will consider what it received from the previous layer as data and add its header which in turn is passed to the next lower layer as data. The reverse happens on receiving the data, each layer extracts its header do the necessary processing and pass the remainder of the packet to the higher layer.\n",
    "<br/><br/>\n",
    "* Protocol Stack : There are lots of protocols which reside at different layers of the stack, and we have the flexibility to use any combination we want. For example HTTP, SMTP, FTP are application layer protocols. TCP, UDP are transport layer protocols. IP, ICMP are network layer protocols. Wi-Fi, Wired are link layer protocols.\n",
    "<br/><br/>\n",
    "* Application Layer : Most popular protocol is Hyper Text Transfer Protocol(HTTP), used for fetching HTML file/objects. It uses the reliable TCP protocol on the transport layer, if there is a packet loss TCP will resend the request and make sure that the object is retrived always.\n",
    "<br/><br/>\n",
    "* Transport Layer : Most popular protocol is Transmission Control Protocol(TCP), used by HTTP, FTP and SMTP. TCP is reliable, each packet is acknowledged, if the acknowledge is not recieved then the packet is resend. It also ensures ordered delivery, TCP is responsible for re-ordering packets at the destination before sending it to the application layer. It can tolerate delay but not loss. The second major protocol is User Datagram Protocol(UDP), widely used in multimedia. It is connectionless, unreliable and unordered. However this is ideal for multimedia communication, one frame lost in a vedio would not make a difference at the destination. Data transfer is very quick. Video streaming, audio calls and live streaming use UDP.\n",
    "<br/><br/>\n",
    "* Socket ports are on the transport layer. Each application uses a unique port. Socket = IP Address + Port. Port is a 16 bit number, so around 65,536 ports possible on a system. First 1024 are reserved ports(example HTTP is on 80), remaining are unreserved for other applications.\n",
    "<br/><br/>\n",
    "* Domain Name System(DNS) : It converts names to IP addresses. Uses UDP to avoid the TCP overhead. DNS is a server hierarchy that is distributed accross the world. The first level is root DNS servers, there are 13 of them around the world, they have the list of the top level domain servers. These domain servers are at level 2, they cater to a specific domain like .com. At the third level we have authoritative servers(owned by specific organigations), which have the specific ip's for their domains for example google.com.\n",
    "<br/><br/>\n",
    "* Network Layer : Network layer is responsible for routing the packets from source to the destination. This layer contains IP address which is used to route packets over networks to the destination. It always uses Internet Protocol(IP). Routers use dynamic routing algorithms(based on traffic) to create routing tables based on IP addresses to route the packet to the next router/device. IP addresses are 4 bytes long. IP is designed to be fast, hence it is a connection less protocol. No retransmissions at this layer. Packets can take mutiple routes based on traffic, hence packets can arrive unordered. IP always sends the packets over the best possible route. IP address can be public, reachable anywhere in the world. Private IP adresses are used with in organization, and can not be used for public communication. Private IP addesses have the ranges 10.0.0.0 to 10.255.255.255, 172.16.0.0 to 172.31.255.255 or 192.168.0.0 to 192.168.255.255. For example if we configure a wireless router at home we see address like 192.168.1.1 on our device, this is a private IP address, the router will have a public IP address which will be facing the internet. There are also IP multicast adresses in the range 224.0.0.0 to 239.255.255.255, used to send live streams simultaneously across the world. There is second protocol at this layer called Internet Control Message Protocol(ICMP). IP is used for routing where as ICMP is used for error reporting. ICMP is used in Ping and Traceroute applications. If a packet is lost in the network, an ICMP message will be sent to the source informing this error.\n",
    "<br/><br/>\n",
    "* Link Layer : This layer performs the hop to hop delivery, it takes the packet over 1 link to the next system. Network layer depends on the link layer for each individual hop of the end to end route. This layer has the Mac Address(Physical Address). The link header is changed on every hop, as MAC Addresses change. IP Addresses remain static for the entire route.\n",
    "<br/><br/>\n",
    "* Devices : Desktops, laptops and mobile phones implement all 5 layers, they are targeted for application to application communication. Routers only implement the network, link and physical layers. Switches only implement the link and physical layers, ment only to deliver over one link. \n",
    "<br/><br/>\n",
    "* Network Address Translation : It is used on network gateways. It alows to use a single public IP address to handle thousands of internal systems, like in corporates where all systems are connected to the internet through one gateway. This enhances security too as internal IP addresses are hidden. NAT has a table to map internal IP and port to NAT gateway IP and a randomly generated port, it changes the source IP address and port to these and sends over the network. So the destination thinks that the packet is comming from the NAT gateway, so it sends the response to NAT gateway. NAT will use the table and send it to the internal system.\n",
    "<br/><br/>\n",
    "Wireless Local Area Network (WLAN): Wireless access points(WAP) are installed which are connected to the backbone wired LAN. WAP's connect the wireless clients to the wired network. To extend the wireless coverage new WAP's must be installed"
   ]
  },
  {
   "cell_type": "markdown",
   "id": "a817056c",
   "metadata": {},
   "source": [
    "## Network Security\n",
    "There are quite a few security protocols at different layers. For example HTTPS and SSH reside at the application layer, Secure Sockets Layer(SSL) and Transport Layer Security(TLS) at the transport layer, IPSec at the network layer. Wireless protocols at the link layer.\n",
    "* HTTPS : HTTP transmits data in plaintext. HTTPS encrypts the data before sending on the network.\n",
    "<br/><br/>\n",
    "* Secure Shell(SSH) : Used for remote command execution. Uses encryption to create a secure tunnel and uses port 22. It is purely a application layer protocol, it does not use TLS. It does not use TLS as it was developed parallelly to the early versions of SSL/TLS. Telnet(port 23) has no encryption, it uses plain text.\n",
    "<br/><br/>\n",
    "* SSL : HTTPS = HTTP + SSL/TLS. SSL is deprecated, TLS is being used. HTTPS uses port 443. HTTP is on port 80.\n",
    "<br/><br/>\n",
    "* TLS : Client connects, then server responds with a digital certificate(public key). Then client and server agree on an encryption scheme and transfer data. Initially public key cryptography is used to create a HTTPS/TLS encrypted tunnel(session), once this tunnel is created private/session keys are shared and symmetric encryption is used thereafter as it is much faster.\n",
    "    * Many implementations out there but most of the applications use the openssl implementation, which is supported for a wide range of platforms. It has security objects and contexts which attach with the nomal connection.\n",
    "    * They use public key infrastructure and digital certificates to aviod man in the middle attacks.\n",
    "    * Certification authorities is an organization that issues certificates, it is reponsible to ensure that the certificates are legitimate.\n",
    "<br/><br/>\n",
    "* IPSec : It can also use both public and private keys like TLS. It works independently of the upper layers. If both TLS and IPSec are used then encryption and decryption will happen twice. It is very popular for creating tunnels, e.g. VPNs. IPSec has 2 modes, Transport mode where only the payload is encrypted and Tunnel mode where the entire packet is encrypted. Transport mode is mostly used for host to host communication, as IP header is not encrypted it allows end to end routing. Tunnel mode is mostly used for gateway to gateway communication, as the IP header is also encrypted here a new IP header is added with the gateway of the corporate network as the destination. The gateway has to extract the inner IP header and route it to the actual destination.\n",
    "<br/><br/>\n",
    "* Virtual Private Networks(VPN) : It extends private network over public networks. It creates a secure tunnel(encryption) from the external user to the corporate network's gateway.\n",
    "<br/><br/>\n",
    "* Wireless Vulnerabilities:\n",
    "    * Rouge Access Point : Malicious insider can introduce a rouge WAP, and trick users to connect to it.\n",
    "    * MAC spoofing : Malicious user sniffs wireless traffic to identify MAC addresses. With the MAC address he can pose as a legitimate user.\n",
    "    * Man in the middle : Malicious user acts as man in the middle and resends traffic after copy/modify.\n",
    "<br/><br/>\n",
    "* Wireless Security :\n",
    "    * Service Set Identifier(SSID) Hiding : WAP's broadcast a beacon every 30 seconds. This beacon contains SSID(wireless network name), MAC and IP address of WAP. If this SSID is hidden and the beacon frame is disabled then only users who have this network locked into there device can use it. Provides only basic protection as WAP's MAC address can still be sniffed from regular traffic packets.\n",
    "    * MAC Filtering : Maintian a white list of MAC addresses and only allow them. Again only provides basic protection.\n",
    "    * Wired Equivalent Privacy (WEP) : This standard uses RC4 encryption algorithm. But offers weak security and very short key lengths.\n",
    "    * WI-FI Protected Access (WPA-TKIP) : Uses the same RC4 encrption, with improved key length. It uses Temporal Key Integrity Protocol (TKIP), it generates and uses a unique encryption key for every packet. Still considered weak as it got many features from WEP.\n",
    "    * WPA2 : Is uses AES, industry standard encryption algorithm. Generally accepted as secure."
   ]
  },
  {
   "cell_type": "markdown",
   "id": "63948a4b",
   "metadata": {},
   "source": [
    "## Cyber Security Tools\n",
    "* NMAP : Allows port scanning in a wide range of scenarios. It helps indentify open ports as well as the services running on that ports on any system in the network. The tool tries to send and receive messages on different ports to identify open ports. Common commands : \n",
    "    * nmap 192.168.1.1, TCP/UDP port scan for 1000 most common ports on system 192.168.1.1. \n",
    "    * nmap -p- 192.168.1.1, scans all ports on the given destination. \n",
    "    * nmap -p 80 192.168.1.1, scans only port 80. \n",
    "    * nmap -O 192.168.1.1, find the operating system. \n",
    "    * nmap -sP 10.0.2.0/24, ping scan all the IP's in the given subnet."
   ]
  },
  {
   "cell_type": "markdown",
   "id": "17b0f9e2",
   "metadata": {},
   "source": [
    "## FireWalls\n",
    "* Firewalls are the first line of defence against attacks. They can be composed of software, hardware or both. Hardware based firewall is very fast like accelerators. Software based firewalls are very flexible. Every firewall is governed by rules, these rules will decide if a particular traffic will be allowed or blocked. There are 2 types of firewalls, host-based(single system) and network-based(entire network). Some popular firewalls are Palo Alto, Juniper, CISCO etc.\n",
    "<br/><br/>\n",
    "* Every firewall has a set of rules called access control list(table), which specify which type of packets or which type of IP addresses or ports or protocols are allowed.\n",
    "<br/><br/>\n",
    "* We can also categories them as stateless and stateful firewalls. In stateless firewalls inbound and outbound traffic to the same machine should be configured seperately. In stateful firewalls when the packet passes through the firewall it intelligently adds the corresponding inbound/outbound traffic entry, so it is enough to configure only one entry.\n",
    "<br/><br/>\n",
    "* Next Generation Firewalls, operate at the application layer. These inspect the content instead of the headers as done by normal firewalls. Also know as application level gateway firewalls. They can detect if the traffic is from skype, torrent, youtube etc. Therefore we can adopt rules based on the application. They can detect patterns/payloads and block malware, spam etc. It can also allow based on specific signature."
   ]
  },
  {
   "cell_type": "markdown",
   "id": "7f324f4d",
   "metadata": {},
   "source": [
    "## Attacks\n",
    "* Password Attacks :\n",
    "    * Brute Force Attack : Tries all possible combinations to guess the password. Given enough time it can break any password in the world, however it takes time. If a long password is used from a large character set then it is difficult to break the passowrd by brute force. Passwords should never be stored, they are always hased and the hash is stored. Hence on one can recover the password from hash, as hash is one way. When the user enters the password, it is hashed and compared with the stored hash. Hackers use rainbow tables, which have all hashes pre computed for all possible passwords. To counter rainbow tables we can encrypt databases or use 'salt', a random number added to the password before hashing and storing it in the database, making rainbow tables ineffective.\n",
    "    * Dictionary Attack : Tries words from the dictonary, since people tend to use words a lot. This also include's trying common password patterns.\n",
    "<br/><br/>\n",
    "* Denial of Servcie(DoS) and Distributed DoS : \n",
    "    * DoS : Any attack which causes services to be slow or unavailable to legitimate users. Examples - crashing web/database servers, overloading servers through bogus requests, choke the network through bogus traffic(send continuous ping messages). DoS attack comes from one IP address, hence it is easy to detect and block that source.\n",
    "    * DDoS : It is an attack from multiple IP addresses and harder to block, since it is difficult to differenciate between legitimate and froud users. Normally they hack a number of systems on the internet install bots through malware on them to create botnets and then do a DDoS attack on the target. They can have 1000's of bots in the botnetwork.\n",
    "    * Prevention : Load balancing, increase the number of servers and distribute the load. Identify attack patterns using machine learning techniques to identify abnormal behaviour and block. IP backlisting, check reputation of suspicious IP's and block using firewall. Blacklisting is not a one time fix as IP addresses keep changing. Cloud-based Content Distribution Networks(CDNS), this is third party service offered by companies like Cloud-Flare, here the traffic goes to the CDNS network before it is redirected to the corporate network. CDNS networks use the above mentioned techniques to block DDoS attacks.\n",
    "<br/><br/>\n",
    "* DNS Attacks : These attacks target the DNS services.\n",
    "    * DNS Poisoning/Spoofing : When a corporate DNS server requests the public DNS server for a translated IP address, attacker spoofs and sends a malicious IP address posing as DNS server. To prevent ignore DNS reponses from suspicious DNS servers, this can be done with secure DNS(uses public key certificate of public DNS).\n",
    "    * DNS Reflection Attack : Attacker sends a flood of DNS requests to the DNS server with spoofed IP address. The server responds by sending a flood of replies to the vitim. To prevent we can use firewalls on the DNS server to detect this attack.\n",
    "<br/><br/>\n",
    "* Network Attacks : These attacks try to overwhelm the network.\n",
    "    * Smurf Attack : Attacker sends a flood of ICMP ping requests with victim's spoofed IP address. Server responds with a flood of ICMP response messages to the victim. This overwhelms or crashes the victim. For this reason many routers/domains block ICMP traffic.\n",
    "    * Teardrop Attack : IP supports fragmenting packets if the data is large. Broken fragments contain information to reassemble at the destination. Attacker crafts fragments with wrong sizes and offsets. This is an old problem, in modern systems IP detects these invalid fragments and discards them.\n",
    "<br/><br/>\n",
    "* Man In The Middle Attack(MITM): Between 2 legitimate end systems there is a man in the middle. All traffic passes through this man in the middle, who can copy/modify the packets before resending to the destination. They can do IP spoofing, DNS spoofing, SSL hijacking(attack when server tries to redirect to secure channel, instead redirect to there own malicous domains), Email hijacking(gains access to email account). Some ways to prevent MITM are, strong encryption between client and WAP, use VPN's for remote access, use public/private key pair authentication.\n",
    "<br/><br/>\n",
    "* Social Engineering & Phishing : Humans are the weakest link in the security chain. Social engineering exploits humans to get them to share their passwords, insert USB's found on the street, click on malicious links and email attachments(Phishing). Whaling is phishing variation in which the attacker pose as senior staff, they are very specific and targeted."
   ]
  },
  {
   "cell_type": "markdown",
   "id": "3df7b713",
   "metadata": {},
   "source": [
    "## Web Application Security\n",
    "When we have vulnerabilities in front end(html, java script) or business logic layer(code), hackers will use these vulnerabilities to access the database. OWASP is an improtant resource for web application security. It is a non profit web application security community(www.owasp.org). It advocates secure software development, with a list of best practices and recomandations for developing web applications. Below are some of the well known vulnerabilities.\n",
    "* SQL Injection : You have some user input fields on your web site, instead of entering legitimate user input malicious attacker injects specially crafted sql quaries into those fields. This query gets executed at the back end on the database and extracts information. This can occur due to bad programming or if input is not validated. SQL injection can also be done directly on the URL, by injecting into URL's query string/parameters.\n",
    "    * Blind SQL Injection : Here the attacker cannot see the output of the query, he has to infer based on the error messages. For example he can guess passwords by passing true/false SQL statements to DB, if no generic error his guess is correct else he tries others. If the website is not throwing errors he can exploit sleep, like sleep more time if the query fails.\n",
    "    * Mitigation : Sanatize input in code and remove special characters like ', \"\", /, < etc. Second solution is to use prepared SQL statements(parameterized SQL statements) instead of mixing code and data(user input). If we use parameterrized statements, DB is not going to treat data as part of a query. The third solution is to use web application firewall(WAF) at layer 7, which perform packet inspection instead of just checking headers. WAF can be On-Premise, deployed into the corporate network or Cloud-Based where the traffic is routed to a third party WAF network before it is redirected to the corporate network.\n",
    "<br/><br/>\n",
    "* Cross-Site Scripting(XSS) : Malicous scripts are inserted into websites. Say there is a discussion forum, user creates a new thread and along with legitimate text he enters some malicious script. Now every time any other user enters that thread, that script gets executed and could cause all kinds of problems(like stealing session information, credentails etc.). Mitigation are similar to SQL injection sanitize user input, validate user input etc. There are 2 types of XSS. \n",
    "     * Persistent or Stored XSS : Stored on web pages permanently, like the above thread example.\n",
    "     * Reflected XSS : Malicious script is included in the URL and sent to the users via email, web sites etc.\n",
    "<br/><br/>     \n",
    "* Broken Authentication : Vulnerabilities that bypass authentication mechanism of web apps.\n",
    "<br/><br/>\n",
    "* Sensitive Data Exposure : The website does not protect sensitive data e.g. session, passwords.\n",
    "<br/><br/>\n",
    "* XML External Entries : XML and JSON are used to standardize data structure and exchange data. XML external entries exploits weak XML parsers on the web server to disclose sensitive information.\n",
    "<br/><br/>\n",
    "* Broken Access Control : Web application fails to properly authorize user after authentication. User is not assigned the right access control.\n",
    "<br/><br/>\n",
    "* Security Misconfiguration : Improper configuration allows access to folders, default accounts etc.\n",
    "<br/><br/>\n",
    "* Insecure Deserialization : User passes malicious serialized object which is deserialized by the application to give away sensitive information.\n",
    "<br/><br/>\n",
    "* Using Components With Known Vulnerabilities : Don't use components with known vulnerabilities when building your web applications.\n",
    "<br/><br/>\n",
    "* Insufficient Logging/Monitoring : Timely detection missed due to lack of monitoring/logging."
   ]
  },
  {
   "cell_type": "markdown",
   "id": "8d40fb5d",
   "metadata": {},
   "source": [
    "## Malware\n",
    "* Malware is a malicious software(executable/binary) designed to damage or enable unauthorized access to systems or network. Malware infiltration can be done by software vulnerabilities(OS or Applications), human weakness(clicking on malicious links) etc. Malware is 2 step process, at the first step they launch the droppers(malware with a small footprint) which is just used to open back doors. In the second step more sofisticated malware is installed through the back door. Malware is often used by hackers for\n",
    "     * Data exfiltration : Unauthorized transfer of data to an external entity.\n",
    "     * Spying : Malware can install Remote Access Trojans(RATs) on your system, which open back doors on your system through which hackers can access your system. They can install keyloggers which record every thing you type and send it to the hacker. Or they can install spyware which track which web sites you visit.\n",
    "     * Ransomeware attack : It is a malware that encrypts your confidential data, then the hackers demand a ransom for decryption.\n",
    "     * Attack channel : Your system can become part of a botnet by installing malware on it. \n",
    "     * Malware types : Viruses, Worms, Rootkits, Trojans, Logic Bombs, Keyloggers, Spyware, Ransomware etc.\n",
    "<br/><br/>\n",
    "* Viruses and Worms : Virus infects applications and files by inserting itself into them. On running the infected appplication/file the virus becomes active. Virus has 2 main functions. Replication, it reporduces itself exponentially. If you open a virus infected file it may create hunderds of such files. Destruction by corrupting data, files and applications. Viruses are used to steal data, launch ransomware and DoS attacks or to jusy annoy. Virus types\n",
    "    * Boot Sector Virus : Infects the boot sector so that virus is always loaded. Easy to detect and remove.\n",
    "    * Macro Virus : This virus infects macros(scripts) in Microsoft office and spreadsheets. Damage potential is limited as macros require user permissions.\n",
    "    * Stealth Virus : Hides itself from anti-virus software by renaming itself, moving around the disk or by changing OS processes to evade detection.\n",
    "    * Polymorphic Virus : Modifies its own code dynamically to evade detection from anti-malware.\n",
    "    * Encrypted Virus : Encrypts itself to evade detection from anti-malware.\n",
    "  \n",
    "  Unlike viruses, worms are auto triggered to replicate and propagate independently. Thier main attack vector is network propogation to bing down networks and multiple systems.\n",
    "<br/><br/>\n",
    "* Trojans : It is a malware that looks like legitimate software to trick users. Most commonly they are spread through phishing. Trojans can perform keylogging, screen recordings, modify data, disrupt system performance etc.\n",
    "<br/><br/>\n",
    "* Spyware and Adware : Spyware collects information from your PC without consent like browsing habits, credentails and screenshots. Adware bombards user with unwanted ads (popups, banners). To protect from spyware and adware, disable browser extensions and reset browser regularly.\n",
    "<br/><br/>\n",
    "* Logic Bombs and Rootkits : Logic bombs are bits of malicious code that disrupts programs and are triggered on a specific events. Event could be time/date based, logical(e.g. Number of users pass the 1000 mark) etc. They are typical injected by disgruntled employees. They are difficult to be detected as the footprint is small. Rootkits are a kind of a malware which embedded themselfs deep inside the system(e.g. in the operating system), they are hidden and allow hackers privileged access to the system. These are difficult to detect. Anomalies in behavioral patterns and memory dump analysis are used for detection. Removal often requires a complete rebuild of the system.\n",
    "<br/><br/>\n",
    "* Anti Malware/Anti Virus: Software that is meant to identify, detect and remove malware. There are 2 types of scans On-Demand and Real-time. For On-Demand user specifies when to do the scan, he can also specify which folders/files to scan. In Real-time scan the anti malware is always running in the back ground, and when ever you open a file or execute the anti malware intercepts and scans for malware. There are 2 types of malware detection techniques\n",
    "    * Signature based : Here malware is detected based on patterns. Every malware performs some specific tasks like infecting a perticular segment of the memory, access specific files in your operating system or modify certain registy entries. Based on these patterns signatures are defined and the anti malware detects the malware. There are also online sources where these signatures are defined for well known malwares. Limitation is that it cannot detect if the virus is unknown, a polymorpohic or a different strain.\n",
    "    * Anomaly based : It creates a base line of the normal behaviour of the system, like what operating systems files are usally running, which sevices are running, which registry segments are modified, which ports are open etc. Any behaviour which deviates from this base line is detected as malware. Works well with unknow viruses. A good solution is to combine both signature and anomaly-based detection."
   ]
  }
 ],
 "metadata": {
  "kernelspec": {
   "display_name": "Python 3 (ipykernel)",
   "language": "python",
   "name": "python3"
  },
  "language_info": {
   "codemirror_mode": {
    "name": "ipython",
    "version": 3
   },
   "file_extension": ".py",
   "mimetype": "text/x-python",
   "name": "python",
   "nbconvert_exporter": "python",
   "pygments_lexer": "ipython3",
   "version": "3.9.7"
  }
 },
 "nbformat": 4,
 "nbformat_minor": 5
}
