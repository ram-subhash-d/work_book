{
 "cells": [
  {
   "cell_type": "markdown",
   "id": "3f1de615-a3e4-459d-9468-9e6b9e3ae317",
   "metadata": {},
   "source": [
    "## Deep Learning Frameworks\n",
    "The feed forward, error correction, back propagation, all the math etc are carrried out by the deep learning frameworks. Erstwhile frameworks - Caffe/2, Theano, Torch. As of today there are 2 popular frameworks - Tensorflow and Pytorch. Tensorflow controlled by Alphabet and Pytorch by Meta. Keras is wrapper around tensorflow. It was started as an abstraction which works on both Theano and Tensorflow. Later keras was taken over by google and was made the officail API of the tensorflow."
   ]
  },
  {
   "cell_type": "code",
   "execution_count": 37,
   "id": "3a611520-dad5-4dd1-8ef4-7108a74ead3b",
   "metadata": {},
   "outputs": [
    {
     "name": "stdout",
     "output_type": "stream",
     "text": [
      "Name: tensorflow\n",
      "Version: 2.9.0\n",
      "Summary: TensorFlow is an open source machine learning framework for everyone.\n",
      "Home-page: https://www.tensorflow.org/\n",
      "Author: Google Inc.\n",
      "Author-email: packages@tensorflow.org\n",
      "License: Apache 2.0\n",
      "Location: c:\\users\\rdharmana\\anaconda3\\lib\\site-packages\n",
      "Requires: setuptools, libclang, keras-preprocessing, numpy, opt-einsum, tensorboard, tensorflow-estimator, typing-extensions, h5py, wrapt, termcolor, packaging, grpcio, keras, absl-py, gast, protobuf, tensorflow-io-gcs-filesystem, astunparse, six, flatbuffers, google-pasta\n",
      "Required-by: \n"
     ]
    }
   ],
   "source": [
    "! pip show tensorflow\n",
    "# To install tensor flow\n",
    "# ! pip install tensorflow\n",
    "# Keras is already inside tensorflow, no need for any installation"
   ]
  },
  {
   "cell_type": "code",
   "execution_count": 38,
   "id": "4e13790b-c9b5-472c-8d03-4f2d6ef80a8b",
   "metadata": {},
   "outputs": [],
   "source": [
    "import tensorflow as tf\n",
    "import numpy as np\n",
    "import pandas as pd\n",
    "import matplotlib.pyplot as plt"
   ]
  },
  {
   "cell_type": "code",
   "execution_count": 39,
   "id": "edb8de8e-f0f2-4bab-a613-249e11f91481",
   "metadata": {},
   "outputs": [
    {
     "name": "stdout",
     "output_type": "stream",
     "text": [
      "2.9.0\n",
      "2.9.0\n"
     ]
    }
   ],
   "source": [
    "print(tf.__version__)\n",
    "print(tf.keras.__version__)"
   ]
  },
  {
   "cell_type": "markdown",
   "id": "2e8b655e-5498-4320-8b2b-1e24e9608e82",
   "metadata": {},
   "source": [
    "## MNIST database\n",
    "It is a database of digit images to help identify the digits written on a postal pin code. The numbers 0 to 9 were hand written by students, images of which are stored in the database. These are single channel images (grey scale) with size 28x28 and contains 60 thousand training images(digits) and 10 thousand test images. A digit image will go into the deep learning model and the model has to predict the digit."
   ]
  },
  {
   "cell_type": "code",
   "execution_count": 40,
   "id": "82f9237d-5eb1-41fc-8559-2deb2f9fa4c2",
   "metadata": {},
   "outputs": [],
   "source": [
    "# Download the data\n",
    "# x - input - images\n",
    "# y - output - digits/labels\n",
    "# both x and y are numpy arrays\n",
    "(x_train, y_train), (x_test, y_test) = tf.keras.datasets.mnist.load_data()\n",
    "\n",
    "# Training - this data will be used to train the model\n",
    "# Testing - this data will be used to test its accuracy\n",
    "# Tensorflow uses tensors instead of numpy arrays to improve speed and efficiency. \n",
    "# Tensors are arrays designed for accelerator memory like GPU and they are immutable"
   ]
  },
  {
   "cell_type": "code",
   "execution_count": 41,
   "id": "202a5d37-fc30-4fa4-89d0-cf457326d3a9",
   "metadata": {},
   "outputs": [
    {
     "name": "stdout",
     "output_type": "stream",
     "text": [
      "(60000, 28, 28)\n",
      "(10000, 28, 28)\n"
     ]
    }
   ],
   "source": [
    "print(x_train.shape) # number of images, image height, image width\n",
    "print(x_test.shape)"
   ]
  },
  {
   "cell_type": "code",
   "execution_count": 42,
   "id": "bd08a394-ed9d-415e-877b-76da89444cbf",
   "metadata": {},
   "outputs": [
    {
     "name": "stdout",
     "output_type": "stream",
     "text": [
      "[[  0   0   0   0   0   0   0   0   0   0   0   0   0   0   0   0   0   0\n",
      "    0   0   0   0   0   0   0   0   0   0]\n",
      " [  0   0   0   0   0   0   0   0   0   0   0   0   0   0   0   0   0   0\n",
      "    0   0   0   0   0   0   0   0   0   0]\n",
      " [  0   0   0   0   0   0   0   0   0   0   0   0   0   0   0   0   0   0\n",
      "    0   0   0   0   0   0   0   0   0   0]\n",
      " [  0   0   0   0   0   0   0   0   0   0   0   0   0   0   0   0   0   0\n",
      "    0   0   0   0   0   0   0   0   0   0]\n",
      " [  0   0   0   0   0   0   0   0   0   0   0   0   0   0   0   0   0   0\n",
      "    0   0   0   0   0   0   0   0   0   0]\n",
      " [  0   0   0   0   0   0   0   0   0   0   0   0   3  18  18  18 126 136\n",
      "  175  26 166 255 247 127   0   0   0   0]\n",
      " [  0   0   0   0   0   0   0   0  30  36  94 154 170 253 253 253 253 253\n",
      "  225 172 253 242 195  64   0   0   0   0]\n",
      " [  0   0   0   0   0   0   0  49 238 253 253 253 253 253 253 253 253 251\n",
      "   93  82  82  56  39   0   0   0   0   0]\n",
      " [  0   0   0   0   0   0   0  18 219 253 253 253 253 253 198 182 247 241\n",
      "    0   0   0   0   0   0   0   0   0   0]\n",
      " [  0   0   0   0   0   0   0   0  80 156 107 253 253 205  11   0  43 154\n",
      "    0   0   0   0   0   0   0   0   0   0]\n",
      " [  0   0   0   0   0   0   0   0   0  14   1 154 253  90   0   0   0   0\n",
      "    0   0   0   0   0   0   0   0   0   0]\n",
      " [  0   0   0   0   0   0   0   0   0   0   0 139 253 190   2   0   0   0\n",
      "    0   0   0   0   0   0   0   0   0   0]\n",
      " [  0   0   0   0   0   0   0   0   0   0   0  11 190 253  70   0   0   0\n",
      "    0   0   0   0   0   0   0   0   0   0]\n",
      " [  0   0   0   0   0   0   0   0   0   0   0   0  35 241 225 160 108   1\n",
      "    0   0   0   0   0   0   0   0   0   0]\n",
      " [  0   0   0   0   0   0   0   0   0   0   0   0   0  81 240 253 253 119\n",
      "   25   0   0   0   0   0   0   0   0   0]\n",
      " [  0   0   0   0   0   0   0   0   0   0   0   0   0   0  45 186 253 253\n",
      "  150  27   0   0   0   0   0   0   0   0]\n",
      " [  0   0   0   0   0   0   0   0   0   0   0   0   0   0   0  16  93 252\n",
      "  253 187   0   0   0   0   0   0   0   0]\n",
      " [  0   0   0   0   0   0   0   0   0   0   0   0   0   0   0   0   0 249\n",
      "  253 249  64   0   0   0   0   0   0   0]\n",
      " [  0   0   0   0   0   0   0   0   0   0   0   0   0   0  46 130 183 253\n",
      "  253 207   2   0   0   0   0   0   0   0]\n",
      " [  0   0   0   0   0   0   0   0   0   0   0   0  39 148 229 253 253 253\n",
      "  250 182   0   0   0   0   0   0   0   0]\n",
      " [  0   0   0   0   0   0   0   0   0   0  24 114 221 253 253 253 253 201\n",
      "   78   0   0   0   0   0   0   0   0   0]\n",
      " [  0   0   0   0   0   0   0   0  23  66 213 253 253 253 253 198  81   2\n",
      "    0   0   0   0   0   0   0   0   0   0]\n",
      " [  0   0   0   0   0   0  18 171 219 253 253 253 253 195  80   9   0   0\n",
      "    0   0   0   0   0   0   0   0   0   0]\n",
      " [  0   0   0   0  55 172 226 253 253 253 253 244 133  11   0   0   0   0\n",
      "    0   0   0   0   0   0   0   0   0   0]\n",
      " [  0   0   0   0 136 253 253 253 212 135 132  16   0   0   0   0   0   0\n",
      "    0   0   0   0   0   0   0   0   0   0]\n",
      " [  0   0   0   0   0   0   0   0   0   0   0   0   0   0   0   0   0   0\n",
      "    0   0   0   0   0   0   0   0   0   0]\n",
      " [  0   0   0   0   0   0   0   0   0   0   0   0   0   0   0   0   0   0\n",
      "    0   0   0   0   0   0   0   0   0   0]\n",
      " [  0   0   0   0   0   0   0   0   0   0   0   0   0   0   0   0   0   0\n",
      "    0   0   0   0   0   0   0   0   0   0]]\n"
     ]
    }
   ],
   "source": [
    "# Get the first image\n",
    "sample_image = x_train[0]\n",
    "print(sample_image)"
   ]
  },
  {
   "cell_type": "code",
   "execution_count": 43,
   "id": "4bf02e8f-51bc-4cbd-98c0-fb40ce855ccf",
   "metadata": {},
   "outputs": [
    {
     "name": "stdout",
     "output_type": "stream",
     "text": [
      "5\n"
     ]
    },
    {
     "data": {
      "image/png": "[encoded data removed]",
      "text/plain": [
       "<Figure size 432x288 with 1 Axes>"
      ]
     },
     "metadata": {
      "needs_background": "light"
     },
     "output_type": "display_data"
    }
   ],
   "source": [
    "plt.imshow(sample_image, cmap='gray')\n",
    "print(y_train[0]) # y actual for this image"
   ]
  },
  {
   "cell_type": "code",
   "execution_count": 44,
   "id": "b51ce040-3f95-49fb-a224-ff8305bc0903",
   "metadata": {},
   "outputs": [],
   "source": [
    "#This function will pick images from the dataset\n",
    "#plot the image and print its correct lable\n",
    "def plot_digits(random_number):\n",
    "    if random_number >= 60000:\n",
    "        return \"Train data set has only 60k images\"\n",
    "    random_image = x_train[random_number]\n",
    "    plt.imshow(random_image, cmap='gray')\n",
    "    print(y_train[random_number])"
   ]
  },
  {
   "cell_type": "code",
   "execution_count": 45,
   "id": "e13d86a8-be74-4205-8890-56977e18fdc3",
   "metadata": {},
   "outputs": [
    {
     "name": "stdout",
     "output_type": "stream",
     "text": [
      "9\n"
     ]
    },
    {
     "data": {
      "image/png": "[encoded data removed]",
      "text/plain": [
       "<Figure size 432x288 with 1 Axes>"
      ]
     },
     "metadata": {
      "needs_background": "light"
     },
     "output_type": "display_data"
    }
   ],
   "source": [
    "plot_digits(110)"
   ]
  },
  {
   "cell_type": "code",
   "execution_count": 46,
   "id": "566e65ff-63b8-4078-919c-7a337534cdf3",
   "metadata": {},
   "outputs": [
    {
     "data": {
      "image/png": "[encoded data removed]",
      "text/plain": [
       "<Figure size 720x288 with 30 Axes>"
      ]
     },
     "metadata": {
      "needs_background": "light"
     },
     "output_type": "display_data"
    }
   ],
   "source": [
    "# Plot multiple images\n",
    "# Print 10 images of 0, 10 images of 1 and 10 images of 2\n",
    "\n",
    "#get indexes where 0,1 and 2 digit images are present\n",
    "zero_image_indexes = np.random.choice(np.where(y_train == 0)[0], 10)\n",
    "one_image_indexes = np.random.choice(np.where(y_train == 1)[0], 10)\n",
    "two_image_indexes = np.random.choice(np.where(y_train == 2)[0], 10)\n",
    "\n",
    "plt.figure(figsize=(10,4))\n",
    "for i in range(10):\n",
    "    plt.subplot(3, 10, i+1)\n",
    "    plt.imshow(x_train[zero_image_indexes[i]], cmap='gray')\n",
    "    plt.subplot(3, 10, 10+i+1)\n",
    "    plt.imshow(x_train[one_image_indexes[i]], cmap='gray')\n",
    "    plt.subplot(3, 10, 20+i+1)\n",
    "    plt.imshow(x_train[two_image_indexes[i]], cmap='gray')"
   ]
  },
  {
   "cell_type": "code",
   "execution_count": 47,
   "id": "a2a8854c-6f0b-48c3-a85c-80ead744d761",
   "metadata": {},
   "outputs": [
    {
     "data": {
      "text/plain": [
       "1    6742\n",
       "7    6265\n",
       "3    6131\n",
       "2    5958\n",
       "9    5949\n",
       "0    5923\n",
       "6    5918\n",
       "8    5851\n",
       "4    5842\n",
       "5    5421\n",
       "dtype: int64"
      ]
     },
     "execution_count": 47,
     "metadata": {},
     "output_type": "execute_result"
    }
   ],
   "source": [
    "# Is this data set class wise balanced\n",
    "pd.DataFrame(y_train).value_counts()"
   ]
  },
  {
   "cell_type": "code",
   "execution_count": 48,
   "id": "f2f25fbb-0f70-4bb9-9a63-f17a1622f35c",
   "metadata": {},
   "outputs": [],
   "source": [
    "# Scaling to value between 0 and 1 (divide x_train with max pixel value posible 255.0)\n",
    "x_train = x_train/255.0 # this does not alter the image since the ratio of different pixels is still the same"
   ]
  },
  {
   "cell_type": "code",
   "execution_count": 49,
   "id": "b8e21df4-bd09-471c-9609-ac4d3cd92bf9",
   "metadata": {},
   "outputs": [
    {
     "name": "stdout",
     "output_type": "stream",
     "text": [
      "(60000, 10)\n"
     ]
    },
    {
     "data": {
      "text/plain": [
       "array([0., 0., 0., 0., 0., 1., 0., 0., 0., 0.], dtype=float32)"
      ]
     },
     "execution_count": 49,
     "metadata": {},
     "output_type": "execute_result"
    }
   ],
   "source": [
    "# Encoding - MNIST model has to yield 10 different outputs(0 t0 9) - One hot encoding\n",
    "y_train = tf.keras.utils.to_categorical(y_train)\n",
    "print(y_train.shape)\n",
    "y_train[0]"
   ]
  },
  {
   "cell_type": "code",
   "execution_count": 58,
   "id": "6970b878-0878-4c71-a618-ba6478f29563",
   "metadata": {},
   "outputs": [],
   "source": [
    "# Modelling : In keras there 2 types of modelling - Sequential and Functional, for this one we will use Sequencial\n",
    "# Sequential - Every later will connect to the next layer only\n",
    "# Funtional - When we want one layer to connect to multiple layers, we use the functional API\n",
    "# Create a empty sequential model\n",
    "model = tf.keras.models.Sequential()"
   ]
  },
  {
   "cell_type": "code",
   "execution_count": 60,
   "id": "2c599af1-d733-483a-8b65-153563e79043",
   "metadata": {},
   "outputs": [],
   "source": [
    "# 2 D images(28 X 28) have to be converted to 1 D( column of size 784) to give all pixels of image to input nodes at once\n",
    "# Flattening does this, converts 2 D image to 1 D, by placing one over the other\n",
    "model.add(tf.keras.layers.Input((28,28), name=\"Input\")) # Add the input layer, give it the image size\n",
    "model.add(tf.keras.layers.Flatten(name=\"Flat\")) # Add the flatten layer"
   ]
  },
  {
   "cell_type": "code",
   "execution_count": 61,
   "id": "3a3d3289-03ec-484e-9ad7-e70bdb12cc1b",
   "metadata": {},
   "outputs": [],
   "source": [
    "# Hidden layer(also called dense layers)\n",
    "model.add(tf.keras.layers.Dense(100, activation = tf.keras.activations.relu, name=\"Hidden\")) # give it the number of neurons and activation function\n",
    "# Output layer(also called dense layer)\n",
    "model.add(tf.keras.layers.Dense(10, activation = tf.keras.activations.softmax, name=\"Output\")) # 10 neurons since 10 possible output categories"
   ]
  },
  {
   "cell_type": "code",
   "execution_count": 62,
   "id": "b56cc47f-c9c2-4c04-9def-431dcf459202",
   "metadata": {},
   "outputs": [
    {
     "name": "stdout",
     "output_type": "stream",
     "text": [
      "Model: \"sequential_3\"\n",
      "_________________________________________________________________\n",
      " Layer (type)                Output Shape              Param #   \n",
      "=================================================================\n",
      " Flat (Flatten)              (None, 784)               0         \n",
      "                                                                 \n",
      " Hidden (Dense)              (None, 100)               78500     \n",
      "                                                                 \n",
      " Output (Dense)              (None, 10)                1010      \n",
      "                                                                 \n",
      "=================================================================\n",
      "Total params: 79,510\n",
      "Trainable params: 79,510\n",
      "Non-trainable params: 0\n",
      "_________________________________________________________________\n"
     ]
    }
   ],
   "source": [
    "model.summary()"
   ]
  },
  {
   "cell_type": "code",
   "execution_count": null,
   "id": "aac5ca4e-fa5f-4938-8492-cec60febc813",
   "metadata": {},
   "outputs": [],
   "source": [
    "# In the above summary, Output Shape is showing the number of neurons in each layer\n",
    "# Param is the number of weights and bias in eah layer. \n",
    "# For example in the Hidden layer above, \n",
    "# number of weights =  number of neurons in the previous layer *  number of neurons in the current layer = 784 * 100 = 78400, \n",
    "# numner of biases = number of neurons in the current layer = 100, \n",
    "# hence total Params = 78400 + 100 = 78500 (these are tranabe parameters during back propagation)"
   ]
  },
  {
   "cell_type": "code",
   "execution_count": 57,
   "id": "c7149aaf-6f4d-401e-8654-9b6a73e53a91",
   "metadata": {},
   "outputs": [],
   "source": [
    "#delete the model\n",
    "#del model # need to delete the model if we have to re run the model"
   ]
  },
  {
   "cell_type": "code",
   "execution_count": 64,
   "id": "156435b2-9312-4ab1-a1fb-5283defffe93",
   "metadata": {},
   "outputs": [],
   "source": [
    "# Define the loss function and also optimizer to use for back propagation\n",
    "model.compile(loss=tf.keras.losses.categorical_crossentropy,\n",
    "              optimizer=tf.keras.optimizers.SGD(learning_rate=0.001),\n",
    "              metrics=[\"acc\"]) # we can give the learning rate here, else it defaults to 0.001"
   ]
  },
  {
   "cell_type": "code",
   "execution_count": 66,
   "id": "a2c7350e-741d-4fce-bdb3-dbffab896e7a",
   "metadata": {},
   "outputs": [
    {
     "name": "stdout",
     "output_type": "stream",
     "text": [
      "Epoch 1/10\n",
      "1688/1688 [==============================] - 2s 1ms/step - loss: 0.3839 - acc: 0.8952 - val_loss: 0.3049 - val_acc: 0.9223\n",
      "Epoch 2/10\n",
      "1688/1688 [==============================] - 2s 1ms/step - loss: 0.3742 - acc: 0.8973 - val_loss: 0.2977 - val_acc: 0.9233\n",
      "Epoch 3/10\n",
      "1688/1688 [==============================] - 2s 1ms/step - loss: 0.3657 - acc: 0.8994 - val_loss: 0.2913 - val_acc: 0.9235\n",
      "Epoch 4/10\n",
      "1688/1688 [==============================] - 2s 1ms/step - loss: 0.3581 - acc: 0.9015 - val_loss: 0.2860 - val_acc: 0.9248\n",
      "Epoch 5/10\n",
      "1688/1688 [==============================] - 2s 1ms/step - loss: 0.3513 - acc: 0.9030 - val_loss: 0.2807 - val_acc: 0.9270\n",
      "Epoch 6/10\n",
      "1688/1688 [==============================] - 2s 1ms/step - loss: 0.3451 - acc: 0.9048 - val_loss: 0.2761 - val_acc: 0.9262\n",
      "Epoch 7/10\n",
      "1688/1688 [==============================] - 2s 1ms/step - loss: 0.3394 - acc: 0.9060 - val_loss: 0.2716 - val_acc: 0.9285\n",
      "Epoch 8/10\n",
      "1688/1688 [==============================] - 2s 1ms/step - loss: 0.3340 - acc: 0.9072 - val_loss: 0.2681 - val_acc: 0.9285\n",
      "Epoch 9/10\n",
      "1688/1688 [==============================] - 2s 1ms/step - loss: 0.3292 - acc: 0.9088 - val_loss: 0.2642 - val_acc: 0.9288\n",
      "Epoch 10/10\n",
      "1688/1688 [==============================] - 2s 1ms/step - loss: 0.3245 - acc: 0.9099 - val_loss: 0.2605 - val_acc: 0.9295\n"
     ]
    },
    {
     "data": {
      "text/plain": [
       "<keras.callbacks.History at 0x292472415e0>"
      ]
     },
     "execution_count": 66,
     "metadata": {},
     "output_type": "execute_result"
    }
   ],
   "source": [
    "# Epochs = 1 cycle of all data has gone through FF, EC and BP\n",
    "model.fit(x=x_train, y=y_train, epochs=10, batch_size=batch_size, validation_split=0.1)"
   ]
  },
  {
   "cell_type": "code",
   "execution_count": 68,
   "id": "77fa6f77-8269-4964-87ed-64309dc21a01",
   "metadata": {},
   "outputs": [
    {
     "data": {
      "text/plain": [
       "(None, 28, 28)"
      ]
     },
     "execution_count": 68,
     "metadata": {},
     "output_type": "execute_result"
    }
   ],
   "source": [
    "# Model has got around 92% accuracy\n",
    "model.input_shape # number of images(None) X W X H"
   ]
  },
  {
   "cell_type": "code",
   "execution_count": 67,
   "id": "601dd024-1f5f-4d2f-91e1-1e69aa5c6a42",
   "metadata": {},
   "outputs": [
    {
     "data": {
      "text/plain": [
       "6"
      ]
     },
     "execution_count": 67,
     "metadata": {},
     "output_type": "execute_result"
    },
    {
     "data": {
      "image/png": "[encoded data removed]",
      "text/plain": [
       "<Figure size 432x288 with 1 Axes>"
      ]
     },
     "metadata": {
      "needs_background": "light"
     },
     "output_type": "display_data"
    }
   ],
   "source": [
    "# Let us test the model on unseen data\n",
    "plt.imshow(x_test[123])\n",
    "y_test[123]"
   ]
  },
  {
   "cell_type": "code",
   "execution_count": 76,
   "id": "e9670094-6cb5-4f53-a130-4a58ff575cc9",
   "metadata": {},
   "outputs": [],
   "source": [
    "def predict(num):\n",
    "    plt.imshow(x_test[num])\n",
    "    image = x_test[num]\n",
    "    image = image/255.0 # scale the image\n",
    "    image = np.expand_dims(image, axis=0) # expand one diemnsion to match the required input shape\n",
    "    result = model.predict(image)\n",
    "    print(f\"Modle predicted: {np.argmax(result)} with confidence of {result.max()}\")\n",
    "    print(f\"Correct label: {y_test[num]}\")"
   ]
  },
  {
   "cell_type": "code",
   "execution_count": 77,
   "id": "952912f8-40b3-43c6-81be-ccc26f293da0",
   "metadata": {},
   "outputs": [
    {
     "name": "stdout",
     "output_type": "stream",
     "text": [
      "1/1 [==============================] - 0s 20ms/step\n",
      "Modle predicted: 9 with confidence of 0.8681176900863647\n",
      "Correct label: 9\n"
     ]
    },
    {
     "data": {
      "image/png": "[encoded data removed]",
      "text/plain": [
       "<Figure size 432x288 with 1 Axes>"
      ]
     },
     "metadata": {
      "needs_background": "light"
     },
     "output_type": "display_data"
    }
   ],
   "source": [
    "predict(125)"
   ]
  }
 ],
 "metadata": {
  "kernelspec": {
   "display_name": "Python 3 (ipykernel)",
   "language": "python",
   "name": "python3"
  },
  "language_info": {
   "codemirror_mode": {
    "name": "ipython",
    "version": 3
   },
   "file_extension": ".py",
   "mimetype": "text/x-python",
   "name": "python",
   "nbconvert_exporter": "python",
   "pygments_lexer": "ipython3",
   "version": "3.9.7"
  }
 },
 "nbformat": 4,
 "nbformat_minor": 5
}
