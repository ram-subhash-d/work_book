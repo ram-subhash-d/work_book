{
 "cells": [
  {
   "cell_type": "code",
   "execution_count": 12,
   "id": "ccf42264-2ab2-4974-a22a-7a91a4e15d92",
   "metadata": {},
   "outputs": [],
   "source": [
    "#Let us take the equation y = 3x1 + 4x2\n",
    "# ML or DL data for this equation will be as below\n",
    "# x1 | x2 | y\n",
    "# 3  | 2  | 17\n",
    "# Input data and actual output given"
   ]
  },
  {
   "cell_type": "code",
   "execution_count": 13,
   "id": "9a743986-c676-4ec9-b758-c415f5b33077",
   "metadata": {},
   "outputs": [],
   "source": [
    "import numpy as np\n",
    "import matplotlib.pyplot as plt"
   ]
  },
  {
   "cell_type": "code",
   "execution_count": 14,
   "id": "933ddf1b-a579-4f89-a71e-43e943a94577",
   "metadata": {},
   "outputs": [
    {
     "name": "stdout",
     "output_type": "stream",
     "text": [
      "2 5\n"
     ]
    }
   ],
   "source": [
    "# Initialization and globals\n",
    "x1 = 3\n",
    "x2 = 2\n",
    "y_a = 17\n",
    "w1 = np.random.randint(1, 10, 1)[0]\n",
    "w2 = np.random.randint(1, 10, 1)[0]\n",
    "\n",
    "print(w1, w2)\n",
    "\n",
    "y_p = 0\n",
    "error = 0\n",
    "w1_list = []\n",
    "w2_list = []\n",
    "error_list = []\n",
    "y_p_list = []\n",
    "lr = 0.01"
   ]
  },
  {
   "cell_type": "code",
   "execution_count": 15,
   "id": "76df217d-badd-4c1f-8f08-0519c6bce666",
   "metadata": {},
   "outputs": [],
   "source": [
    "def feed_forward():\n",
    "    global w1, w2, w1_list, w2_list, y_p, x1, x2, y_p_list\n",
    "    w1_list.append(w1)\n",
    "    w2_list.append(w2)\n",
    "    \n",
    "    y_p = (w1 * x1) + (w2 *x2)\n",
    "    y_p_list.append(y_p)"
   ]
  },
  {
   "cell_type": "code",
   "execution_count": 16,
   "id": "7c19f234-3e85-4c16-b1fb-2e542894d3f8",
   "metadata": {},
   "outputs": [],
   "source": [
    "def calculate_error():\n",
    "    global y_p, y_a, error, error_list\n",
    "    error = (y_p - y_a)**2\n",
    "    error_list.append(error)\n",
    "    # same as error = (x1*w1 + x2*w2 - y_a)**2"
   ]
  },
  {
   "cell_type": "code",
   "execution_count": 17,
   "id": "c0bbd430-dffa-4b20-98fc-fe1d90a36b42",
   "metadata": {},
   "outputs": [],
   "source": [
    "def back_propagate():\n",
    "    global y_p, y_a, x1, x2, w1, w2\n",
    "    #gradient calcualtion\n",
    "    dEdw1 = 2 * (y_p - y_a)* x1\n",
    "    dEdw2 = 2 * (y_p - y_a)* x2\n",
    "\n",
    "    #Update the weights\n",
    "    w1 = w1 - (lr*dEdw1)\n",
    "    w2 = w2 - (lr*dEdw2)"
   ]
  },
  {
   "cell_type": "code",
   "execution_count": 18,
   "id": "56336fa6-7d9b-4275-84ea-989f9ef0e494",
   "metadata": {},
   "outputs": [],
   "source": [
    "for epoch in range(20):\n",
    "    feed_forward()\n",
    "    calculate_error()\n",
    "    back_propagate()"
   ]
  },
  {
   "cell_type": "code",
   "execution_count": 20,
   "id": "681f9dd4-ebbb-41e1-bbf8-0484a2ea5353",
   "metadata": {},
   "outputs": [
    {
     "data": {
      "text/plain": [
       "[<matplotlib.lines.Line2D at 0x229ffdcbdc0>]"
      ]
     },
     "execution_count": 20,
     "metadata": {},
     "output_type": "execute_result"
    },
    {
     "data": {
      "image/png": "[encoded data removed]",
      "text/plain": [
       "<Figure size 432x288 with 1 Axes>"
      ]
     },
     "metadata": {
      "needs_background": "light"
     },
     "output_type": "display_data"
    }
   ],
   "source": [
    "plt.plot(error_list)"
   ]
  },
  {
   "cell_type": "code",
   "execution_count": 21,
   "id": "b67bda01-9733-45a6-9297-8ae5dc14eb59",
   "metadata": {},
   "outputs": [
    {
     "data": {
      "text/plain": [
       "[<matplotlib.lines.Line2D at 0x22980611ac0>]"
      ]
     },
     "execution_count": 21,
     "metadata": {},
     "output_type": "execute_result"
    },
    {
     "data": {
      "image/png": "[encoded data removed]",
      "text/plain": [
       "<Figure size 432x288 with 1 Axes>"
      ]
     },
     "metadata": {
      "needs_background": "light"
     },
     "output_type": "display_data"
    }
   ],
   "source": [
    "plt.plot(y_p_list)"
   ]
  }
 ],
 "metadata": {
  "kernelspec": {
   "display_name": "Python 3 (ipykernel)",
   "language": "python",
   "name": "python3"
  },
  "language_info": {
   "codemirror_mode": {
    "name": "ipython",
    "version": 3
   },
   "file_extension": ".py",
   "mimetype": "text/x-python",
   "name": "python",
   "nbconvert_exporter": "python",
   "pygments_lexer": "ipython3",
   "version": "3.9.7"
  }
 },
 "nbformat": 4,
 "nbformat_minor": 5
}
