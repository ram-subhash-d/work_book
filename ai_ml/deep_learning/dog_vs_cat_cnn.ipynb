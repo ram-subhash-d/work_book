{
 "cells": [
  {
   "cell_type": "code",
   "execution_count": 1,
   "id": "f6c267ac-24e2-42d6-af0b-73cfa0ceedbf",
   "metadata": {},
   "outputs": [],
   "source": [
    "import numpy as np\n",
    "import pandas as pd\n",
    "import matplotlib.pyplot as plt\n",
    "import tensorflow as tf\n",
    "import cv2 \n",
    "import os"
   ]
  },
  {
   "cell_type": "code",
   "execution_count": 2,
   "id": "6dc3ed3b-e0d2-44e6-b33d-36ced64df499",
   "metadata": {},
   "outputs": [
    {
     "data": {
      "text/html": [
       "<div>\n",
       "<style scoped>\n",
       "    .dataframe tbody tr th:only-of-type {\n",
       "        vertical-align: middle;\n",
       "    }\n",
       "\n",
       "    .dataframe tbody tr th {\n",
       "        vertical-align: top;\n",
       "    }\n",
       "\n",
       "    .dataframe thead th {\n",
       "        text-align: right;\n",
       "    }\n",
       "</style>\n",
       "<table border=\"1\" class=\"dataframe\">\n",
       "  <thead>\n",
       "    <tr style=\"text-align: right;\">\n",
       "      <th></th>\n",
       "      <th>image_path</th>\n",
       "      <th>label</th>\n",
       "    </tr>\n",
       "  </thead>\n",
       "  <tbody>\n",
       "    <tr>\n",
       "      <th>21733</th>\n",
       "      <td>dog.7058.jpg</td>\n",
       "      <td>dog</td>\n",
       "    </tr>\n",
       "    <tr>\n",
       "      <th>21718</th>\n",
       "      <td>dog.7044.jpg</td>\n",
       "      <td>dog</td>\n",
       "    </tr>\n",
       "    <tr>\n",
       "      <th>14555</th>\n",
       "      <td>dog.11847.jpg</td>\n",
       "      <td>dog</td>\n",
       "    </tr>\n",
       "    <tr>\n",
       "      <th>11006</th>\n",
       "      <td>cat.8654.jpg</td>\n",
       "      <td>cat</td>\n",
       "    </tr>\n",
       "    <tr>\n",
       "      <th>5205</th>\n",
       "      <td>cat.3432.jpg</td>\n",
       "      <td>cat</td>\n",
       "    </tr>\n",
       "  </tbody>\n",
       "</table>\n",
       "</div>"
      ],
      "text/plain": [
       "          image_path label\n",
       "21733   dog.7058.jpg   dog\n",
       "21718   dog.7044.jpg   dog\n",
       "14555  dog.11847.jpg   dog\n",
       "11006   cat.8654.jpg   cat\n",
       "5205    cat.3432.jpg   cat"
      ]
     },
     "execution_count": 2,
     "metadata": {},
     "output_type": "execute_result"
    }
   ],
   "source": [
    "# Image data generator\n",
    "idg = tf.keras.preprocessing.image.ImageDataGenerator(rescale=1/255.0, validation_split=0.1)\n",
    "\n",
    "# As flow from directory needs the images to placed in a defined folder structure\n",
    "# Flow fom dataframe, requires us to create a DataFrame which the image path and its label\n",
    "df = pd.DataFrame(columns=[\"image_path\",\"label\"])\n",
    "df[\"image_path\"] = os.listdir(\"train/\")\n",
    "df.loc[df[\"image_path\"].str.contains(\"dog\"), [\"label\"]] = \"dog\"\n",
    "df.loc[df[\"image_path\"].str.contains(\"cat\"), [\"label\"]] = \"cat\"\n",
    "\n",
    "df.sample(5)"
   ]
  },
  {
   "cell_type": "code",
   "execution_count": 3,
   "id": "599150f2-eaf3-49e1-b977-319d60ac70a4",
   "metadata": {},
   "outputs": [
    {
     "name": "stdout",
     "output_type": "stream",
     "text": [
      "Found 22500 validated image filenames belonging to 2 classes.\n",
      "Found 2500 validated image filenames belonging to 2 classes.\n"
     ]
    }
   ],
   "source": [
    "batch_size = 64\n",
    "train_idg = idg.flow_from_dataframe(dataframe=df, directory=\"train/\", x_col=\"image_path\", y_col=\"label\", \n",
    "                                    target_size=(150,150), batch_size=batch_size, subset=\"training\")\n",
    "val_idg = idg.flow_from_dataframe(dataframe=df, directory=\"train/\", x_col=\"image_path\", y_col=\"label\", \n",
    "                                    target_size=(150,150), batch_size=batch_size, subset=\"validation\")"
   ]
  },
  {
   "cell_type": "code",
   "execution_count": 6,
   "id": "5c6fb5fa-72b5-4f65-b57f-26180e537e14",
   "metadata": {},
   "outputs": [
    {
     "name": "stdout",
     "output_type": "stream",
     "text": [
      "Model: \"sequential_2\"\n",
      "_________________________________________________________________\n",
      " Layer (type)                Output Shape              Param #   \n",
      "=================================================================\n",
      " Conv1 (Conv2D)              (None, 148, 148, 16)      448       \n",
      "                                                                 \n",
      " Pool1 (MaxPooling2D)        (None, 74, 74, 16)        0         \n",
      "                                                                 \n",
      " Conv2 (Conv2D)              (None, 72, 72, 32)        4640      \n",
      "                                                                 \n",
      " Pool2 (MaxPooling2D)        (None, 36, 36, 32)        0         \n",
      "                                                                 \n",
      " Flatten (Flatten)           (None, 41472)             0         \n",
      "                                                                 \n",
      " Hidden (Dense)              (None, 100)               4147300   \n",
      "                                                                 \n",
      " Output (Dense)              (None, 2)                 202       \n",
      "                                                                 \n",
      "=================================================================\n",
      "Total params: 4,152,590\n",
      "Trainable params: 4,152,590\n",
      "Non-trainable params: 0\n",
      "_________________________________________________________________\n"
     ]
    }
   ],
   "source": [
    "#Build the model\n",
    "model = tf.keras.models.Sequential()\n",
    "model.add(tf.keras.layers.Input((150,150,3), name=\"Input\"))\n",
    "\n",
    "#Convolution - Chunk 1 - Con + polling\n",
    "model.add(tf.keras.layers.Conv2D(filters=16, kernel_size=(3,3), strides=(1,1), \n",
    "                                 padding=\"valid\", activation=\"relu\", name=\"Conv1\"))\n",
    "model.add(tf.keras.layers.MaxPooling2D(pool_size=(2,2), name=\"Pool1\"))\n",
    "\n",
    "#Convolution - Chunk 2 - Con + polling\n",
    "model.add(tf.keras.layers.Conv2D(filters=32, kernel_size=(3,3), strides=(1,1), \n",
    "                                 padding=\"valid\", activation=\"relu\", name=\"Conv2\"))\n",
    "model.add(tf.keras.layers.MaxPooling2D(pool_size=(2,2), name=\"Pool2\"))\n",
    "\n",
    "#Catagorical layers now\n",
    "#Flattening\n",
    "model.add(tf.keras.layers.Flatten(name=\"Flatten\"))\n",
    "#Hidden\n",
    "model.add(tf.keras.layers.Dense(100, activation=\"relu\", name=\"Hidden\"))\n",
    "#Output\n",
    "model.add(tf.keras.layers.Dense(2, activation=\"softmax\", name=\"Output\"))\n",
    "\n",
    "model.summary()"
   ]
  },
  {
   "cell_type": "code",
   "execution_count": null,
   "id": "fce2246d-d675-4395-975c-04393c0c0d30",
   "metadata": {},
   "outputs": [],
   "source": []
  },
  {
   "cell_type": "code",
   "execution_count": 11,
   "id": "21f54044-795a-4ed7-9359-68685bf63948",
   "metadata": {},
   "outputs": [],
   "source": [
    "# Params for Conv1 - (number of channels * number of filters * number of values in each filter) \n",
    "# + number of filters(one bias for each filter)\n",
    "# 3*16*9 + 16\n",
    "\n",
    "# Each filter is applied on each channel individually and combined, hence we need to multiply with number of \n",
    "# channels to get the total parameters, this is how reduction is happenning on the depth\n",
    "\n",
    "# No parameters for pooling\n",
    "\n",
    "# Similarly for Conv2(16 channels)\n",
    "# 16*9*32 + 32"
   ]
  },
  {
   "cell_type": "code",
   "execution_count": 12,
   "id": "0d5c4a95-bf8e-4f4e-9004-36c006134670",
   "metadata": {},
   "outputs": [],
   "source": [
    "# Run the model\n",
    "model.compile(optimizer=tf.keras.optimizers.SGD(), loss=tf.keras.losses.categorical_crossentropy, metrics=[\"acc\"])"
   ]
  },
  {
   "cell_type": "code",
   "execution_count": 13,
   "id": "17546cc7-26eb-4872-8e80-a9805d7d82c7",
   "metadata": {},
   "outputs": [
    {
     "name": "stdout",
     "output_type": "stream",
     "text": [
      "Epoch 1/10\n",
      "352/352 [==============================] - 185s 524ms/step - loss: 0.6700 - acc: 0.5900 - val_loss: 0.5747 - val_acc: 0.7572\n",
      "Epoch 2/10\n",
      "352/352 [==============================] - 180s 511ms/step - loss: 0.6438 - acc: 0.6266 - val_loss: 0.7836 - val_acc: 0.4112\n",
      "Epoch 3/10\n",
      "352/352 [==============================] - 181s 514ms/step - loss: 0.6236 - acc: 0.6480 - val_loss: 0.6584 - val_acc: 0.6000\n",
      "Epoch 4/10\n",
      "352/352 [==============================] - 181s 513ms/step - loss: 0.6061 - acc: 0.6641 - val_loss: 0.8384 - val_acc: 0.3776\n",
      "Epoch 5/10\n",
      "352/352 [==============================] - 180s 512ms/step - loss: 0.5867 - acc: 0.6792 - val_loss: 0.6576 - val_acc: 0.6048\n",
      "Epoch 6/10\n",
      "352/352 [==============================] - 181s 514ms/step - loss: 0.5636 - acc: 0.7043 - val_loss: 0.8493 - val_acc: 0.4240\n",
      "Epoch 7/10\n",
      "352/352 [==============================] - 181s 514ms/step - loss: 0.5408 - acc: 0.7247 - val_loss: 0.9274 - val_acc: 0.3896\n",
      "Epoch 8/10\n",
      "352/352 [==============================] - 182s 515ms/step - loss: 0.5205 - acc: 0.7420 - val_loss: 0.6787 - val_acc: 0.6256\n",
      "Epoch 9/10\n",
      "352/352 [==============================] - 181s 515ms/step - loss: 0.4961 - acc: 0.7611 - val_loss: 0.7128 - val_acc: 0.6028\n",
      "Epoch 10/10\n",
      "352/352 [==============================] - 181s 513ms/step - loss: 0.4768 - acc: 0.7731 - val_loss: 0.4726 - val_acc: 0.7888\n"
     ]
    }
   ],
   "source": [
    "model_history = model.fit(train_idg, batch_size=batch_size, validation_data=val_idg, epochs=10)"
   ]
  }
 ],
 "metadata": {
  "kernelspec": {
   "display_name": "Python 3 (ipykernel)",
   "language": "python",
   "name": "python3"
  },
  "language_info": {
   "codemirror_mode": {
    "name": "ipython",
    "version": 3
   },
   "file_extension": ".py",
   "mimetype": "text/x-python",
   "name": "python",
   "nbconvert_exporter": "python",
   "pygments_lexer": "ipython3",
   "version": "3.9.7"
  }
 },
 "nbformat": 4,
 "nbformat_minor": 5
}
