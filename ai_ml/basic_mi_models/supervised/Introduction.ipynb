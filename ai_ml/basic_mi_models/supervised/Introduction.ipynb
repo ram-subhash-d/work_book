{
 "cells": [
  {
   "cell_type": "markdown",
   "id": "89607b60-eb06-47ce-b9c9-7f0250ca9f53",
   "metadata": {},
   "source": [
    "# Introduction\n",
    "Supervised learning is where the machine learns to perform a task in the presence of a supervisor. The training data contains both the input and the output. Involves learning the input-output relation. It is further classified into 2 types Regression and Classification. If the output variable is continous then we go for regression. On the other hand if the output variable is categorical then we go for classification. Regression models can again be classified as linear and non-linear based on the relationship between the input and output variables. Always start with linear models, if they don't fit well then go for non-linear models. For non-linear models we have make a prediction of the equation based on the data and experience."
   ]
  }
 ],
 "metadata": {
  "kernelspec": {
   "display_name": "Python 3 (ipykernel)",
   "language": "python",
   "name": "python3"
  },
  "language_info": {
   "codemirror_mode": {
    "name": "ipython",
    "version": 3
   },
   "file_extension": ".py",
   "mimetype": "text/x-python",
   "name": "python",
   "nbconvert_exporter": "python",
   "pygments_lexer": "ipython3",
   "version": "3.10.5"
  }
 },
 "nbformat": 4,
 "nbformat_minor": 5
}
