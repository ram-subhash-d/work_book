{
 "cells": [
  {
   "cell_type": "markdown",
   "id": "89607b60-eb06-47ce-b9c9-7f0250ca9f53",
   "metadata": {},
   "source": [
    "# Introduction\n",
    "Supervised learning is where the machine learns to perform a task in the presence of a supervisor. The training data contains both the input and the output. Involves learning the input-output relation. It is further classified into 2 types Regression and Classification. If the output variable is continous then we go for regression. On the other hand if the output variable is categorical then we go for classification. Regression models can again be classified as linear and non-linear based on the relationship between the input and output variables. Always start with linear models, if they don't fit well then go for non-linear models. For non-linear models we have make a prediction of the equation based on the data and experience."
   ]
  },
  {
   "cell_type": "markdown",
   "id": "75dea1b0-db14-4402-b071-60bd3b1666ab",
   "metadata": {},
   "source": [
    "## Regression Models\n",
    "* Linear Regression\n"
   ]
  },
  {
   "cell_type": "markdown",
   "id": "55a28bc8-9396-4355-a25c-9d27a124f352",
   "metadata": {},
   "source": [
    "## Classification Models\n",
    "Can be binary, multi-class and multi-dimensional(casifications at multiple levels).\n",
    "* Logistic Regression\n",
    "* K-Nearest Neibhors\n",
    "* Neural Networks\n",
    "* Decision Tree\n",
    "* Random Forest\n",
    "\n",
    "### Examples:\n",
    "* Fraud detection in credit card transaction\n",
    "* Clasifying emails as spam or genuine"
   ]
  }
 ],
 "metadata": {
  "kernelspec": {
   "display_name": "Python 3 (ipykernel)",
   "language": "python",
   "name": "python3"
  },
  "language_info": {
   "codemirror_mode": {
    "name": "ipython",
    "version": 3
   },
   "file_extension": ".py",
   "mimetype": "text/x-python",
   "name": "python",
   "nbconvert_exporter": "python",
   "pygments_lexer": "ipython3",
   "version": "3.9.7"
  }
 },
 "nbformat": 4,
 "nbformat_minor": 5
}
