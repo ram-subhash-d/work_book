{
 "cells": [
  {
   "cell_type": "code",
   "execution_count": 1,
   "id": "babf4b6a-2eb2-408a-b25a-a029be8fc038",
   "metadata": {},
   "outputs": [],
   "source": [
    "import pandas as pd\n",
    "import numpy as np\n",
    "import matplotlib.pyplot as plt\n",
    "import seaborn as sns"
   ]
  },
  {
   "cell_type": "code",
   "execution_count": 2,
   "id": "f920c88b-b38f-4ae9-ba80-56652ae53eb3",
   "metadata": {},
   "outputs": [
    {
     "data": {
      "text/html": [
       "<div>\n",
       "<style scoped>\n",
       "    .dataframe tbody tr th:only-of-type {\n",
       "        vertical-align: middle;\n",
       "    }\n",
       "\n",
       "    .dataframe tbody tr th {\n",
       "        vertical-align: top;\n",
       "    }\n",
       "\n",
       "    .dataframe thead th {\n",
       "        text-align: right;\n",
       "    }\n",
       "</style>\n",
       "<table border=\"1\" class=\"dataframe\">\n",
       "  <thead>\n",
       "    <tr style=\"text-align: right;\">\n",
       "      <th></th>\n",
       "      <th>age</th>\n",
       "      <th>sex</th>\n",
       "      <th>bmi</th>\n",
       "      <th>children</th>\n",
       "      <th>smoker</th>\n",
       "      <th>Claim_Amount</th>\n",
       "      <th>past_consultations</th>\n",
       "      <th>num_of_steps</th>\n",
       "      <th>Hospital_expenditure</th>\n",
       "      <th>NUmber_of_past_hospitalizations</th>\n",
       "      <th>Anual_Salary</th>\n",
       "      <th>region</th>\n",
       "      <th>charges</th>\n",
       "    </tr>\n",
       "  </thead>\n",
       "  <tbody>\n",
       "    <tr>\n",
       "      <th>0</th>\n",
       "      <td>18.0</td>\n",
       "      <td>male</td>\n",
       "      <td>23.21</td>\n",
       "      <td>0.0</td>\n",
       "      <td>no</td>\n",
       "      <td>29087.54313</td>\n",
       "      <td>17.0</td>\n",
       "      <td>715428.0</td>\n",
       "      <td>4720920.992</td>\n",
       "      <td>0.0</td>\n",
       "      <td>55784970.05</td>\n",
       "      <td>southeast</td>\n",
       "      <td>1121.8739</td>\n",
       "    </tr>\n",
       "    <tr>\n",
       "      <th>1</th>\n",
       "      <td>18.0</td>\n",
       "      <td>male</td>\n",
       "      <td>30.14</td>\n",
       "      <td>0.0</td>\n",
       "      <td>no</td>\n",
       "      <td>39053.67437</td>\n",
       "      <td>7.0</td>\n",
       "      <td>699157.0</td>\n",
       "      <td>4329831.676</td>\n",
       "      <td>0.0</td>\n",
       "      <td>13700885.19</td>\n",
       "      <td>southeast</td>\n",
       "      <td>1131.5066</td>\n",
       "    </tr>\n",
       "    <tr>\n",
       "      <th>2</th>\n",
       "      <td>18.0</td>\n",
       "      <td>male</td>\n",
       "      <td>33.33</td>\n",
       "      <td>0.0</td>\n",
       "      <td>no</td>\n",
       "      <td>39023.62759</td>\n",
       "      <td>19.0</td>\n",
       "      <td>702341.0</td>\n",
       "      <td>6884860.774</td>\n",
       "      <td>0.0</td>\n",
       "      <td>73523107.27</td>\n",
       "      <td>southeast</td>\n",
       "      <td>1135.9407</td>\n",
       "    </tr>\n",
       "    <tr>\n",
       "      <th>3</th>\n",
       "      <td>18.0</td>\n",
       "      <td>male</td>\n",
       "      <td>33.66</td>\n",
       "      <td>0.0</td>\n",
       "      <td>no</td>\n",
       "      <td>28185.39332</td>\n",
       "      <td>11.0</td>\n",
       "      <td>700250.0</td>\n",
       "      <td>4274773.550</td>\n",
       "      <td>0.0</td>\n",
       "      <td>75819679.60</td>\n",
       "      <td>southeast</td>\n",
       "      <td>1136.3994</td>\n",
       "    </tr>\n",
       "    <tr>\n",
       "      <th>4</th>\n",
       "      <td>18.0</td>\n",
       "      <td>male</td>\n",
       "      <td>34.10</td>\n",
       "      <td>0.0</td>\n",
       "      <td>no</td>\n",
       "      <td>14697.85941</td>\n",
       "      <td>16.0</td>\n",
       "      <td>711584.0</td>\n",
       "      <td>3787293.921</td>\n",
       "      <td>0.0</td>\n",
       "      <td>23012320.01</td>\n",
       "      <td>southeast</td>\n",
       "      <td>1137.0110</td>\n",
       "    </tr>\n",
       "  </tbody>\n",
       "</table>\n",
       "</div>"
      ],
      "text/plain": [
       "    age   sex    bmi  children smoker  Claim_Amount  past_consultations  \\\n",
       "0  18.0  male  23.21       0.0     no   29087.54313                17.0   \n",
       "1  18.0  male  30.14       0.0     no   39053.67437                 7.0   \n",
       "2  18.0  male  33.33       0.0     no   39023.62759                19.0   \n",
       "3  18.0  male  33.66       0.0     no   28185.39332                11.0   \n",
       "4  18.0  male  34.10       0.0     no   14697.85941                16.0   \n",
       "\n",
       "   num_of_steps  Hospital_expenditure  NUmber_of_past_hospitalizations  \\\n",
       "0      715428.0           4720920.992                              0.0   \n",
       "1      699157.0           4329831.676                              0.0   \n",
       "2      702341.0           6884860.774                              0.0   \n",
       "3      700250.0           4274773.550                              0.0   \n",
       "4      711584.0           3787293.921                              0.0   \n",
       "\n",
       "   Anual_Salary     region    charges  \n",
       "0   55784970.05  southeast  1121.8739  \n",
       "1   13700885.19  southeast  1131.5066  \n",
       "2   73523107.27  southeast  1135.9407  \n",
       "3   75819679.60  southeast  1136.3994  \n",
       "4   23012320.01  southeast  1137.0110  "
      ]
     },
     "execution_count": 2,
     "metadata": {},
     "output_type": "execute_result"
    }
   ],
   "source": [
    "df_ins = pd.read_csv(\"new_insurance_data.csv\")\n",
    "df_ins.head()"
   ]
  },
  {
   "cell_type": "code",
   "execution_count": 3,
   "id": "e48d1915-3dc2-48b7-b09e-b9e82d32265a",
   "metadata": {},
   "outputs": [
    {
     "name": "stdout",
     "output_type": "stream",
     "text": [
      "<class 'pandas.core.frame.DataFrame'>\n",
      "RangeIndex: 1338 entries, 0 to 1337\n",
      "Data columns (total 13 columns):\n",
      " #   Column                           Non-Null Count  Dtype  \n",
      "---  ------                           --------------  -----  \n",
      " 0   age                              1329 non-null   float64\n",
      " 1   sex                              1338 non-null   object \n",
      " 2   bmi                              1335 non-null   float64\n",
      " 3   children                         1333 non-null   float64\n",
      " 4   smoker                           1338 non-null   object \n",
      " 5   Claim_Amount                     1324 non-null   float64\n",
      " 6   past_consultations               1332 non-null   float64\n",
      " 7   num_of_steps                     1335 non-null   float64\n",
      " 8   Hospital_expenditure             1334 non-null   float64\n",
      " 9   NUmber_of_past_hospitalizations  1336 non-null   float64\n",
      " 10  Anual_Salary                     1332 non-null   float64\n",
      " 11  region                           1338 non-null   object \n",
      " 12  charges                          1338 non-null   float64\n",
      "dtypes: float64(10), object(3)\n",
      "memory usage: 136.0+ KB\n"
     ]
    }
   ],
   "source": [
    "df_ins.info()"
   ]
  },
  {
   "cell_type": "code",
   "execution_count": 4,
   "id": "563000c7-0703-47bd-8faa-ef7bae81a398",
   "metadata": {},
   "outputs": [
    {
     "data": {
      "text/plain": [
       "age                                 9\n",
       "sex                                 0\n",
       "bmi                                 3\n",
       "children                            5\n",
       "smoker                              0\n",
       "Claim_Amount                       14\n",
       "past_consultations                  6\n",
       "num_of_steps                        3\n",
       "Hospital_expenditure                4\n",
       "NUmber_of_past_hospitalizations     2\n",
       "Anual_Salary                        6\n",
       "region                              0\n",
       "charges                             0\n",
       "dtype: int64"
      ]
     },
     "execution_count": 4,
     "metadata": {},
     "output_type": "execute_result"
    }
   ],
   "source": [
    "df_ins.isnull().sum()"
   ]
  },
  {
   "cell_type": "code",
   "execution_count": 5,
   "id": "a69e62bd-a7f4-4dd1-b3f7-c08d9c42e4fb",
   "metadata": {},
   "outputs": [
    {
     "data": {
      "text/plain": [
       "male      676\n",
       "female    662\n",
       "Name: sex, dtype: int64"
      ]
     },
     "execution_count": 5,
     "metadata": {},
     "output_type": "execute_result"
    }
   ],
   "source": [
    "df_ins[\"sex\"].value_counts()"
   ]
  },
  {
   "cell_type": "code",
   "execution_count": 6,
   "id": "9ea2ea22-eb8e-4580-8218-9ad832ccf80d",
   "metadata": {},
   "outputs": [
    {
     "data": {
      "text/plain": [
       "0    male\n",
       "dtype: object"
      ]
     },
     "execution_count": 6,
     "metadata": {},
     "output_type": "execute_result"
    }
   ],
   "source": [
    "df_ins[\"sex\"].mode()"
   ]
  },
  {
   "cell_type": "code",
   "execution_count": 7,
   "id": "f1c325dd-b468-4209-b161-75956592d467",
   "metadata": {},
   "outputs": [
    {
     "data": {
      "text/plain": [
       "39.31000752445448"
      ]
     },
     "execution_count": 7,
     "metadata": {},
     "output_type": "execute_result"
    }
   ],
   "source": [
    "df_ins[\"age\"].mean()"
   ]
  },
  {
   "cell_type": "code",
   "execution_count": 8,
   "id": "fba410f4-d869-40c1-a6f2-4dc6adc36643",
   "metadata": {},
   "outputs": [
    {
     "name": "stdout",
     "output_type": "stream",
     "text": [
      "<class 'pandas.core.frame.DataFrame'>\n",
      "RangeIndex: 1338 entries, 0 to 1337\n",
      "Data columns (total 13 columns):\n",
      " #   Column                           Non-Null Count  Dtype  \n",
      "---  ------                           --------------  -----  \n",
      " 0   age                              1338 non-null   float64\n",
      " 1   sex                              1338 non-null   object \n",
      " 2   bmi                              1338 non-null   float64\n",
      " 3   children                         1338 non-null   float64\n",
      " 4   smoker                           1338 non-null   object \n",
      " 5   Claim_Amount                     1338 non-null   float64\n",
      " 6   past_consultations               1338 non-null   float64\n",
      " 7   num_of_steps                     1338 non-null   float64\n",
      " 8   Hospital_expenditure             1338 non-null   float64\n",
      " 9   NUmber_of_past_hospitalizations  1338 non-null   float64\n",
      " 10  Anual_Salary                     1338 non-null   float64\n",
      " 11  region                           1338 non-null   object \n",
      " 12  charges                          1338 non-null   float64\n",
      "dtypes: float64(10), object(3)\n",
      "memory usage: 136.0+ KB\n"
     ]
    }
   ],
   "source": [
    "for col_name in df_ins.columns:\n",
    "    if df_ins[col_name].dtype == \"object\":\n",
    "        df_ins[col_name] = df_ins[col_name].fillna(df_ins[col_name].mode()[0])\n",
    "    else:\n",
    "        df_ins[col_name] = df_ins[col_name].fillna(df_ins[col_name].median())\n",
    "        \n",
    "df_ins.info()"
   ]
  },
  {
   "cell_type": "code",
   "execution_count": 9,
   "id": "51b188a5-ae47-46d8-8854-03b5d7a9cef9",
   "metadata": {},
   "outputs": [
    {
     "data": {
      "text/html": [
       "<div>\n",
       "<style scoped>\n",
       "    .dataframe tbody tr th:only-of-type {\n",
       "        vertical-align: middle;\n",
       "    }\n",
       "\n",
       "    .dataframe tbody tr th {\n",
       "        vertical-align: top;\n",
       "    }\n",
       "\n",
       "    .dataframe thead th {\n",
       "        text-align: right;\n",
       "    }\n",
       "</style>\n",
       "<table border=\"1\" class=\"dataframe\">\n",
       "  <thead>\n",
       "    <tr style=\"text-align: right;\">\n",
       "      <th></th>\n",
       "      <th>age</th>\n",
       "      <th>bmi</th>\n",
       "      <th>children</th>\n",
       "      <th>Claim_Amount</th>\n",
       "      <th>past_consultations</th>\n",
       "      <th>num_of_steps</th>\n",
       "      <th>Hospital_expenditure</th>\n",
       "      <th>NUmber_of_past_hospitalizations</th>\n",
       "      <th>Anual_Salary</th>\n",
       "      <th>charges</th>\n",
       "    </tr>\n",
       "  </thead>\n",
       "  <tbody>\n",
       "    <tr>\n",
       "      <th>count</th>\n",
       "      <td>1338.000000</td>\n",
       "      <td>1338.000000</td>\n",
       "      <td>1338.000000</td>\n",
       "      <td>1338.000000</td>\n",
       "      <td>1338.000000</td>\n",
       "      <td>1.338000e+03</td>\n",
       "      <td>1.338000e+03</td>\n",
       "      <td>1338.000000</td>\n",
       "      <td>1.338000e+03</td>\n",
       "      <td>1338.000000</td>\n",
       "    </tr>\n",
       "    <tr>\n",
       "      <th>mean</th>\n",
       "      <td>39.307922</td>\n",
       "      <td>30.664518</td>\n",
       "      <td>1.090433</td>\n",
       "      <td>33364.874093</td>\n",
       "      <td>15.215247</td>\n",
       "      <td>9.100143e+05</td>\n",
       "      <td>1.581682e+07</td>\n",
       "      <td>1.060538</td>\n",
       "      <td>3.686636e+08</td>\n",
       "      <td>13270.422265</td>\n",
       "    </tr>\n",
       "    <tr>\n",
       "      <th>std</th>\n",
       "      <td>13.987523</td>\n",
       "      <td>6.094853</td>\n",
       "      <td>1.199619</td>\n",
       "      <td>15535.345575</td>\n",
       "      <td>7.450962</td>\n",
       "      <td>9.178320e+04</td>\n",
       "      <td>2.665699e+07</td>\n",
       "      <td>0.533189</td>\n",
       "      <td>5.658157e+08</td>\n",
       "      <td>12110.011237</td>\n",
       "    </tr>\n",
       "    <tr>\n",
       "      <th>min</th>\n",
       "      <td>18.000000</td>\n",
       "      <td>15.960000</td>\n",
       "      <td>0.000000</td>\n",
       "      <td>1920.136268</td>\n",
       "      <td>1.000000</td>\n",
       "      <td>6.954300e+05</td>\n",
       "      <td>2.945253e+04</td>\n",
       "      <td>0.000000</td>\n",
       "      <td>2.747072e+06</td>\n",
       "      <td>1121.873900</td>\n",
       "    </tr>\n",
       "    <tr>\n",
       "      <th>25%</th>\n",
       "      <td>27.000000</td>\n",
       "      <td>26.315000</td>\n",
       "      <td>0.000000</td>\n",
       "      <td>20947.645198</td>\n",
       "      <td>9.000000</td>\n",
       "      <td>8.474898e+05</td>\n",
       "      <td>4.084941e+06</td>\n",
       "      <td>1.000000</td>\n",
       "      <td>7.755085e+07</td>\n",
       "      <td>4740.287150</td>\n",
       "    </tr>\n",
       "    <tr>\n",
       "      <th>50%</th>\n",
       "      <td>39.000000</td>\n",
       "      <td>30.400000</td>\n",
       "      <td>1.000000</td>\n",
       "      <td>33700.310675</td>\n",
       "      <td>15.000000</td>\n",
       "      <td>9.143000e+05</td>\n",
       "      <td>7.490337e+06</td>\n",
       "      <td>1.000000</td>\n",
       "      <td>1.419361e+08</td>\n",
       "      <td>9382.033000</td>\n",
       "    </tr>\n",
       "    <tr>\n",
       "      <th>75%</th>\n",
       "      <td>51.000000</td>\n",
       "      <td>34.656250</td>\n",
       "      <td>2.000000</td>\n",
       "      <td>44978.873188</td>\n",
       "      <td>20.000000</td>\n",
       "      <td>9.715100e+05</td>\n",
       "      <td>1.082630e+07</td>\n",
       "      <td>1.000000</td>\n",
       "      <td>3.225202e+08</td>\n",
       "      <td>16639.912515</td>\n",
       "    </tr>\n",
       "    <tr>\n",
       "      <th>max</th>\n",
       "      <td>64.000000</td>\n",
       "      <td>53.130000</td>\n",
       "      <td>5.000000</td>\n",
       "      <td>77277.988480</td>\n",
       "      <td>40.000000</td>\n",
       "      <td>1.107872e+06</td>\n",
       "      <td>2.616317e+08</td>\n",
       "      <td>3.000000</td>\n",
       "      <td>4.117197e+09</td>\n",
       "      <td>63770.428010</td>\n",
       "    </tr>\n",
       "  </tbody>\n",
       "</table>\n",
       "</div>"
      ],
      "text/plain": [
       "               age          bmi     children  Claim_Amount  \\\n",
       "count  1338.000000  1338.000000  1338.000000   1338.000000   \n",
       "mean     39.307922    30.664518     1.090433  33364.874093   \n",
       "std      13.987523     6.094853     1.199619  15535.345575   \n",
       "min      18.000000    15.960000     0.000000   1920.136268   \n",
       "25%      27.000000    26.315000     0.000000  20947.645198   \n",
       "50%      39.000000    30.400000     1.000000  33700.310675   \n",
       "75%      51.000000    34.656250     2.000000  44978.873188   \n",
       "max      64.000000    53.130000     5.000000  77277.988480   \n",
       "\n",
       "       past_consultations  num_of_steps  Hospital_expenditure  \\\n",
       "count         1338.000000  1.338000e+03          1.338000e+03   \n",
       "mean            15.215247  9.100143e+05          1.581682e+07   \n",
       "std              7.450962  9.178320e+04          2.665699e+07   \n",
       "min              1.000000  6.954300e+05          2.945253e+04   \n",
       "25%              9.000000  8.474898e+05          4.084941e+06   \n",
       "50%             15.000000  9.143000e+05          7.490337e+06   \n",
       "75%             20.000000  9.715100e+05          1.082630e+07   \n",
       "max             40.000000  1.107872e+06          2.616317e+08   \n",
       "\n",
       "       NUmber_of_past_hospitalizations  Anual_Salary       charges  \n",
       "count                      1338.000000  1.338000e+03   1338.000000  \n",
       "mean                          1.060538  3.686636e+08  13270.422265  \n",
       "std                           0.533189  5.658157e+08  12110.011237  \n",
       "min                           0.000000  2.747072e+06   1121.873900  \n",
       "25%                           1.000000  7.755085e+07   4740.287150  \n",
       "50%                           1.000000  1.419361e+08   9382.033000  \n",
       "75%                           1.000000  3.225202e+08  16639.912515  \n",
       "max                           3.000000  4.117197e+09  63770.428010  "
      ]
     },
     "execution_count": 9,
     "metadata": {},
     "output_type": "execute_result"
    }
   ],
   "source": [
    "df_ins.describe()"
   ]
  },
  {
   "cell_type": "code",
   "execution_count": 10,
   "id": "f2cb9295-2e49-4beb-a9fe-9f15f97410c2",
   "metadata": {},
   "outputs": [
    {
     "data": {
      "image/png": "[encoded data removed]",
      "text/plain": [
       "<Figure size 1152x1296 with 10 Axes>"
      ]
     },
     "metadata": {
      "needs_background": "light"
     },
     "output_type": "display_data"
    }
   ],
   "source": [
    "plt.subplots(5, 2, figsize=(16,18))\n",
    "index = 1\n",
    "for col_name in df_ins.columns:\n",
    "    if df_ins[col_name].dtypes == \"int64\" or df_ins[col_name].dtypes == \"float64\":\n",
    "        plt.subplot(5, 2, index)\n",
    "        sns.histplot(data=df_ins, x=col_name)\n",
    "        plt.xlabel(col_name)\n",
    "        index = index + 1"
   ]
  },
  {
   "cell_type": "code",
   "execution_count": 11,
   "id": "8798724e-745a-4197-9da9-7c9829c77342",
   "metadata": {},
   "outputs": [
    {
     "data": {
      "image/png": "[encoded data removed]",
      "text/plain": [
       "<Figure size 1152x2592 with 10 Axes>"
      ]
     },
     "metadata": {
      "needs_background": "light"
     },
     "output_type": "display_data"
    }
   ],
   "source": [
    "plt.subplots(5, 2, figsize=(16,36))\n",
    "index = 1\n",
    "for col_name in df_ins.columns:\n",
    "    if df_ins[col_name].dtype == \"int64\" or df_ins[col_name].dtype == \"float64\":\n",
    "        plt.subplot(5,2,index)\n",
    "        sns.boxplot(data=df_ins, y=col_name)\n",
    "        plt.xlabel(col_name)\n",
    "        plt.ylabel(\"count\")\n",
    "        index = index + 1"
   ]
  },
  {
   "cell_type": "code",
   "execution_count": 12,
   "id": "fd0b1449-973a-4aac-b604-6f9930804c19",
   "metadata": {},
   "outputs": [],
   "source": [
    "#Removing outliers\n",
    "Q1 = df_ins[\"bmi\"].quantile(0.25)\n",
    "Q3 = df_ins[\"bmi\"].quantile(0.75)\n",
    "IQR = Q3 - Q1\n",
    "df_ins = df_ins[(df_ins[\"bmi\"] >= Q1 - 1.5*IQR) & (df_ins[\"bmi\"] <= Q3 + 1.5*IQR)]\n",
    "\n",
    "Q1 = df_ins[\"past_consultations\"].quantile(0.25)\n",
    "Q3 = df_ins[\"past_consultations\"].quantile(0.75)\n",
    "IQR = Q3 - Q1\n",
    "df_ins = df_ins[(df_ins[\"past_consultations\"] >= Q1 - 1.5*IQR) & (df_ins[\"past_consultations\"] <= Q3 + 1.5*IQR)]\n",
    "\n",
    "Q1 = df_ins[\"Hospital_expenditure\"].quantile(0.25)\n",
    "Q3 = df_ins[\"Hospital_expenditure\"].quantile(0.75)\n",
    "IQR = Q3 - Q1\n",
    "df_ins = df_ins[(df_ins[\"Hospital_expenditure\"] >= Q1 - 1.5*IQR) & (df_ins[\"Hospital_expenditure\"] <= Q3 + 1.5*IQR)]\n",
    "\n",
    "Q1 = df_ins[\"Anual_Salary\"].quantile(0.25)\n",
    "Q3 = df_ins[\"Anual_Salary\"].quantile(0.75)\n",
    "IQR = Q3 - Q1\n",
    "df_ins = df_ins[(df_ins[\"Anual_Salary\"] >= Q1 - 1.5*IQR) & (df_ins[\"Anual_Salary\"] <= Q3 + 1.5*IQR)]"
   ]
  },
  {
   "cell_type": "code",
   "execution_count": 13,
   "id": "79db5f13-aa04-4be6-9317-84feb6180cae",
   "metadata": {},
   "outputs": [
    {
     "name": "stdout",
     "output_type": "stream",
     "text": [
      "<class 'pandas.core.frame.DataFrame'>\n",
      "Int64Index: 1030 entries, 0 to 1069\n",
      "Data columns (total 13 columns):\n",
      " #   Column                           Non-Null Count  Dtype  \n",
      "---  ------                           --------------  -----  \n",
      " 0   age                              1030 non-null   float64\n",
      " 1   sex                              1030 non-null   object \n",
      " 2   bmi                              1030 non-null   float64\n",
      " 3   children                         1030 non-null   float64\n",
      " 4   smoker                           1030 non-null   object \n",
      " 5   Claim_Amount                     1030 non-null   float64\n",
      " 6   past_consultations               1030 non-null   float64\n",
      " 7   num_of_steps                     1030 non-null   float64\n",
      " 8   Hospital_expenditure             1030 non-null   float64\n",
      " 9   NUmber_of_past_hospitalizations  1030 non-null   float64\n",
      " 10  Anual_Salary                     1030 non-null   float64\n",
      " 11  region                           1030 non-null   object \n",
      " 12  charges                          1030 non-null   float64\n",
      "dtypes: float64(10), object(3)\n",
      "memory usage: 112.7+ KB\n"
     ]
    }
   ],
   "source": [
    "df_ins.info()"
   ]
  },
  {
   "cell_type": "code",
   "execution_count": 14,
   "id": "80d5ec2a-b7c9-4798-b3ee-79705c87c56c",
   "metadata": {},
   "outputs": [
    {
     "data": {
      "image/png": "[encoded data removed]",
      "text/plain": [
       "<Figure size 1152x2592 with 10 Axes>"
      ]
     },
     "metadata": {
      "needs_background": "light"
     },
     "output_type": "display_data"
    }
   ],
   "source": [
    "plt.subplots(5, 2, figsize=(16,36))\n",
    "index = 1\n",
    "for col_name in df_ins.columns:\n",
    "    if df_ins[col_name].dtype == \"int64\" or df_ins[col_name].dtype == \"float64\":\n",
    "        plt.subplot(5,2,index)\n",
    "        sns.boxplot(data=df_ins, y=col_name)\n",
    "        plt.xlabel(col_name)\n",
    "        plt.ylabel(\"count\")\n",
    "        index = index + 1"
   ]
  },
  {
   "cell_type": "code",
   "execution_count": 15,
   "id": "770140e9-606c-4c43-85f4-727cbd9fb16b",
   "metadata": {},
   "outputs": [
    {
     "data": {
      "text/plain": [
       "<AxesSubplot:>"
      ]
     },
     "execution_count": 15,
     "metadata": {},
     "output_type": "execute_result"
    },
    {
     "data": {
      "image/png": "[encoded data removed]",
      "text/plain": [
       "<Figure size 432x288 with 2 Axes>"
      ]
     },
     "metadata": {
      "needs_background": "light"
     },
     "output_type": "display_data"
    }
   ],
   "source": [
    "#correlation\n",
    "sns.heatmap(df_ins.corr(), cmap=\"coolwarm\")"
   ]
  },
  {
   "cell_type": "code",
   "execution_count": 37,
   "id": "720d139e-ce6d-4d10-b802-42f9c02fdf11",
   "metadata": {},
   "outputs": [],
   "source": [
    "#Linear regression model\n",
    "from sklearn.linear_model import LinearRegression\n",
    "from sklearn.model_selection import train_test_split\n",
    "from statsmodels.stats.outliers_influence import variance_inflation_factor\n",
    "from sklearn.metrics import *"
   ]
  },
  {
   "cell_type": "code",
   "execution_count": 19,
   "id": "d679a490-7d4e-4f8f-99e0-1c7e3fef3e12",
   "metadata": {},
   "outputs": [
    {
     "data": {
      "text/html": [
       "<div>\n",
       "<style scoped>\n",
       "    .dataframe tbody tr th:only-of-type {\n",
       "        vertical-align: middle;\n",
       "    }\n",
       "\n",
       "    .dataframe tbody tr th {\n",
       "        vertical-align: top;\n",
       "    }\n",
       "\n",
       "    .dataframe thead th {\n",
       "        text-align: right;\n",
       "    }\n",
       "</style>\n",
       "<table border=\"1\" class=\"dataframe\">\n",
       "  <thead>\n",
       "    <tr style=\"text-align: right;\">\n",
       "      <th></th>\n",
       "      <th>features</th>\n",
       "      <th>VIF</th>\n",
       "    </tr>\n",
       "  </thead>\n",
       "  <tbody>\n",
       "    <tr>\n",
       "      <th>0</th>\n",
       "      <td>age</td>\n",
       "      <td>15.608958</td>\n",
       "    </tr>\n",
       "    <tr>\n",
       "      <th>1</th>\n",
       "      <td>bmi</td>\n",
       "      <td>26.366792</td>\n",
       "    </tr>\n",
       "    <tr>\n",
       "      <th>2</th>\n",
       "      <td>children</td>\n",
       "      <td>2.029059</td>\n",
       "    </tr>\n",
       "    <tr>\n",
       "      <th>3</th>\n",
       "      <td>Claim_Amount</td>\n",
       "      <td>5.685160</td>\n",
       "    </tr>\n",
       "    <tr>\n",
       "      <th>4</th>\n",
       "      <td>past_consultations</td>\n",
       "      <td>6.257322</td>\n",
       "    </tr>\n",
       "    <tr>\n",
       "      <th>5</th>\n",
       "      <td>num_of_steps</td>\n",
       "      <td>61.435128</td>\n",
       "    </tr>\n",
       "    <tr>\n",
       "      <th>6</th>\n",
       "      <td>Hospital_expenditure</td>\n",
       "      <td>5.324604</td>\n",
       "    </tr>\n",
       "    <tr>\n",
       "      <th>7</th>\n",
       "      <td>NUmber_of_past_hospitalizations</td>\n",
       "      <td>12.070695</td>\n",
       "    </tr>\n",
       "    <tr>\n",
       "      <th>8</th>\n",
       "      <td>Anual_Salary</td>\n",
       "      <td>5.723023</td>\n",
       "    </tr>\n",
       "  </tbody>\n",
       "</table>\n",
       "</div>"
      ],
      "text/plain": [
       "                          features        VIF\n",
       "0                              age  15.608958\n",
       "1                              bmi  26.366792\n",
       "2                         children   2.029059\n",
       "3                     Claim_Amount   5.685160\n",
       "4               past_consultations   6.257322\n",
       "5                     num_of_steps  61.435128\n",
       "6             Hospital_expenditure   5.324604\n",
       "7  NUmber_of_past_hospitalizations  12.070695\n",
       "8                     Anual_Salary   5.723023"
      ]
     },
     "execution_count": 19,
     "metadata": {},
     "output_type": "execute_result"
    }
   ],
   "source": [
    "# get numerical independent variables\n",
    "col_list = []\n",
    "for col_name in df_ins.columns:\n",
    "    if (df_ins[col_name].dtype != \"object\") & (col_name != \"charges\"):\n",
    "        col_list.append(col_name)\n",
    "\n",
    "#Calculate the variance inflation factor for all independent variables\n",
    "X = df_ins[col_list]\n",
    "df_vif = pd.DataFrame()\n",
    "df_vif[\"features\"] = X.columns\n",
    "df_vif[\"VIF\"] = [variance_inflation_factor(X.values, i) for i in range(len(X.columns))]\n",
    "df_vif"
   ]
  },
  {
   "cell_type": "code",
   "execution_count": 20,
   "id": "90d543e9-4c22-46a8-bee6-d684cb947fd2",
   "metadata": {},
   "outputs": [],
   "source": [
    "#Drop the variable with the highest VIF\n",
    "df_ins = df_ins.drop([\"num_of_steps\"], axis=1)"
   ]
  },
  {
   "cell_type": "code",
   "execution_count": null,
   "id": "440ce5b8-e934-465a-add9-078b97adce96",
   "metadata": {},
   "outputs": [],
   "source": [
    "#Repeat the above 2 steps untill we get all VIF's below 5"
   ]
  },
  {
   "cell_type": "code",
   "execution_count": 21,
   "id": "81a4fa78-5300-4600-b636-54583c875958",
   "metadata": {},
   "outputs": [
    {
     "data": {
      "text/html": [
       "<div>\n",
       "<style scoped>\n",
       "    .dataframe tbody tr th:only-of-type {\n",
       "        vertical-align: middle;\n",
       "    }\n",
       "\n",
       "    .dataframe tbody tr th {\n",
       "        vertical-align: top;\n",
       "    }\n",
       "\n",
       "    .dataframe thead th {\n",
       "        text-align: right;\n",
       "    }\n",
       "</style>\n",
       "<table border=\"1\" class=\"dataframe\">\n",
       "  <thead>\n",
       "    <tr style=\"text-align: right;\">\n",
       "      <th></th>\n",
       "      <th>features</th>\n",
       "      <th>VIF</th>\n",
       "    </tr>\n",
       "  </thead>\n",
       "  <tbody>\n",
       "    <tr>\n",
       "      <th>0</th>\n",
       "      <td>age</td>\n",
       "      <td>14.636412</td>\n",
       "    </tr>\n",
       "    <tr>\n",
       "      <th>1</th>\n",
       "      <td>bmi</td>\n",
       "      <td>12.356789</td>\n",
       "    </tr>\n",
       "    <tr>\n",
       "      <th>2</th>\n",
       "      <td>children</td>\n",
       "      <td>2.016852</td>\n",
       "    </tr>\n",
       "    <tr>\n",
       "      <th>3</th>\n",
       "      <td>Claim_Amount</td>\n",
       "      <td>5.250730</td>\n",
       "    </tr>\n",
       "    <tr>\n",
       "      <th>4</th>\n",
       "      <td>past_consultations</td>\n",
       "      <td>5.835804</td>\n",
       "    </tr>\n",
       "    <tr>\n",
       "      <th>5</th>\n",
       "      <td>Hospital_expenditure</td>\n",
       "      <td>5.034008</td>\n",
       "    </tr>\n",
       "    <tr>\n",
       "      <th>6</th>\n",
       "      <td>NUmber_of_past_hospitalizations</td>\n",
       "      <td>10.723083</td>\n",
       "    </tr>\n",
       "    <tr>\n",
       "      <th>7</th>\n",
       "      <td>Anual_Salary</td>\n",
       "      <td>5.633486</td>\n",
       "    </tr>\n",
       "  </tbody>\n",
       "</table>\n",
       "</div>"
      ],
      "text/plain": [
       "                          features        VIF\n",
       "0                              age  14.636412\n",
       "1                              bmi  12.356789\n",
       "2                         children   2.016852\n",
       "3                     Claim_Amount   5.250730\n",
       "4               past_consultations   5.835804\n",
       "5             Hospital_expenditure   5.034008\n",
       "6  NUmber_of_past_hospitalizations  10.723083\n",
       "7                     Anual_Salary   5.633486"
      ]
     },
     "execution_count": 21,
     "metadata": {},
     "output_type": "execute_result"
    }
   ],
   "source": [
    "col_list = []\n",
    "for col_name in df_ins.columns:\n",
    "    if (df_ins[col_name].dtype != \"object\") & (col_name != \"charges\"):\n",
    "        col_list.append(col_name)\n",
    "        \n",
    "X = df_ins[col_list]\n",
    "df_vif = pd.DataFrame()\n",
    "df_vif[\"features\"] = X.columns\n",
    "df_vif[\"VIF\"] = [variance_inflation_factor(X.values, i) for i in range(len(X.columns))]\n",
    "df_vif"
   ]
  },
  {
   "cell_type": "code",
   "execution_count": 22,
   "id": "c1ea5127-f54e-40cc-b9de-7e858aba1cda",
   "metadata": {},
   "outputs": [],
   "source": [
    "df_ins = df_ins.drop([\"age\"], axis=1)"
   ]
  },
  {
   "cell_type": "code",
   "execution_count": 23,
   "id": "bbea61ac-cc10-4052-be92-bb56f652d3d9",
   "metadata": {},
   "outputs": [
    {
     "data": {
      "text/html": [
       "<div>\n",
       "<style scoped>\n",
       "    .dataframe tbody tr th:only-of-type {\n",
       "        vertical-align: middle;\n",
       "    }\n",
       "\n",
       "    .dataframe tbody tr th {\n",
       "        vertical-align: top;\n",
       "    }\n",
       "\n",
       "    .dataframe thead th {\n",
       "        text-align: right;\n",
       "    }\n",
       "</style>\n",
       "<table border=\"1\" class=\"dataframe\">\n",
       "  <thead>\n",
       "    <tr style=\"text-align: right;\">\n",
       "      <th></th>\n",
       "      <th>features</th>\n",
       "      <th>VIF</th>\n",
       "    </tr>\n",
       "  </thead>\n",
       "  <tbody>\n",
       "    <tr>\n",
       "      <th>0</th>\n",
       "      <td>bmi</td>\n",
       "      <td>10.365491</td>\n",
       "    </tr>\n",
       "    <tr>\n",
       "      <th>1</th>\n",
       "      <td>children</td>\n",
       "      <td>1.978240</td>\n",
       "    </tr>\n",
       "    <tr>\n",
       "      <th>2</th>\n",
       "      <td>Claim_Amount</td>\n",
       "      <td>5.238177</td>\n",
       "    </tr>\n",
       "    <tr>\n",
       "      <th>3</th>\n",
       "      <td>past_consultations</td>\n",
       "      <td>5.816717</td>\n",
       "    </tr>\n",
       "    <tr>\n",
       "      <th>4</th>\n",
       "      <td>Hospital_expenditure</td>\n",
       "      <td>5.032963</td>\n",
       "    </tr>\n",
       "    <tr>\n",
       "      <th>5</th>\n",
       "      <td>NUmber_of_past_hospitalizations</td>\n",
       "      <td>8.414445</td>\n",
       "    </tr>\n",
       "    <tr>\n",
       "      <th>6</th>\n",
       "      <td>Anual_Salary</td>\n",
       "      <td>4.900730</td>\n",
       "    </tr>\n",
       "  </tbody>\n",
       "</table>\n",
       "</div>"
      ],
      "text/plain": [
       "                          features        VIF\n",
       "0                              bmi  10.365491\n",
       "1                         children   1.978240\n",
       "2                     Claim_Amount   5.238177\n",
       "3               past_consultations   5.816717\n",
       "4             Hospital_expenditure   5.032963\n",
       "5  NUmber_of_past_hospitalizations   8.414445\n",
       "6                     Anual_Salary   4.900730"
      ]
     },
     "execution_count": 23,
     "metadata": {},
     "output_type": "execute_result"
    }
   ],
   "source": [
    "col_list = []\n",
    "for col_name in df_ins.columns:\n",
    "    if (df_ins[col_name].dtype != \"object\") & (col_name != \"charges\"):\n",
    "        col_list.append(col_name)\n",
    "        \n",
    "X = df_ins[col_list]\n",
    "df_vif = pd.DataFrame()\n",
    "df_vif[\"features\"] = X.columns\n",
    "df_vif[\"VIF\"] = [variance_inflation_factor(X.values, i) for i in range(len(X.columns))]\n",
    "df_vif"
   ]
  },
  {
   "cell_type": "code",
   "execution_count": 24,
   "id": "e5c39592-0a62-4e04-b35b-9e34918f8cb7",
   "metadata": {},
   "outputs": [],
   "source": [
    "df_ins = df_ins.drop([\"bmi\"], axis=1)"
   ]
  },
  {
   "cell_type": "code",
   "execution_count": 25,
   "id": "97011b9d-9a1b-4863-b0e0-12eb38d52691",
   "metadata": {},
   "outputs": [
    {
     "data": {
      "text/html": [
       "<div>\n",
       "<style scoped>\n",
       "    .dataframe tbody tr th:only-of-type {\n",
       "        vertical-align: middle;\n",
       "    }\n",
       "\n",
       "    .dataframe tbody tr th {\n",
       "        vertical-align: top;\n",
       "    }\n",
       "\n",
       "    .dataframe thead th {\n",
       "        text-align: right;\n",
       "    }\n",
       "</style>\n",
       "<table border=\"1\" class=\"dataframe\">\n",
       "  <thead>\n",
       "    <tr style=\"text-align: right;\">\n",
       "      <th></th>\n",
       "      <th>features</th>\n",
       "      <th>VIF</th>\n",
       "    </tr>\n",
       "  </thead>\n",
       "  <tbody>\n",
       "    <tr>\n",
       "      <th>0</th>\n",
       "      <td>children</td>\n",
       "      <td>1.976461</td>\n",
       "    </tr>\n",
       "    <tr>\n",
       "      <th>1</th>\n",
       "      <td>Claim_Amount</td>\n",
       "      <td>4.549928</td>\n",
       "    </tr>\n",
       "    <tr>\n",
       "      <th>2</th>\n",
       "      <td>past_consultations</td>\n",
       "      <td>5.040029</td>\n",
       "    </tr>\n",
       "    <tr>\n",
       "      <th>3</th>\n",
       "      <td>Hospital_expenditure</td>\n",
       "      <td>4.567501</td>\n",
       "    </tr>\n",
       "    <tr>\n",
       "      <th>4</th>\n",
       "      <td>NUmber_of_past_hospitalizations</td>\n",
       "      <td>7.336623</td>\n",
       "    </tr>\n",
       "    <tr>\n",
       "      <th>5</th>\n",
       "      <td>Anual_Salary</td>\n",
       "      <td>4.854536</td>\n",
       "    </tr>\n",
       "  </tbody>\n",
       "</table>\n",
       "</div>"
      ],
      "text/plain": [
       "                          features       VIF\n",
       "0                         children  1.976461\n",
       "1                     Claim_Amount  4.549928\n",
       "2               past_consultations  5.040029\n",
       "3             Hospital_expenditure  4.567501\n",
       "4  NUmber_of_past_hospitalizations  7.336623\n",
       "5                     Anual_Salary  4.854536"
      ]
     },
     "execution_count": 25,
     "metadata": {},
     "output_type": "execute_result"
    }
   ],
   "source": [
    "col_list = []\n",
    "for col_name in df_ins.columns:\n",
    "    if (df_ins[col_name].dtype != \"object\") & (col_name != \"charges\"):\n",
    "        col_list.append(col_name)\n",
    "        \n",
    "X = df_ins[col_list]\n",
    "df_vif = pd.DataFrame()\n",
    "df_vif[\"features\"] = X.columns\n",
    "df_vif[\"VIF\"] = [variance_inflation_factor(X.values, i) for i in range(len(X.columns))]\n",
    "df_vif"
   ]
  },
  {
   "cell_type": "code",
   "execution_count": 26,
   "id": "bec8ce48-8553-4a1a-ac54-0d08c8c00644",
   "metadata": {},
   "outputs": [],
   "source": [
    "df_ins = df_ins.drop([\"NUmber_of_past_hospitalizations\"], axis=1)"
   ]
  },
  {
   "cell_type": "code",
   "execution_count": 27,
   "id": "ef90e7bc-9296-42a0-a55f-52fb9affefd3",
   "metadata": {},
   "outputs": [
    {
     "data": {
      "text/html": [
       "<div>\n",
       "<style scoped>\n",
       "    .dataframe tbody tr th:only-of-type {\n",
       "        vertical-align: middle;\n",
       "    }\n",
       "\n",
       "    .dataframe tbody tr th {\n",
       "        vertical-align: top;\n",
       "    }\n",
       "\n",
       "    .dataframe thead th {\n",
       "        text-align: right;\n",
       "    }\n",
       "</style>\n",
       "<table border=\"1\" class=\"dataframe\">\n",
       "  <thead>\n",
       "    <tr style=\"text-align: right;\">\n",
       "      <th></th>\n",
       "      <th>features</th>\n",
       "      <th>VIF</th>\n",
       "    </tr>\n",
       "  </thead>\n",
       "  <tbody>\n",
       "    <tr>\n",
       "      <th>0</th>\n",
       "      <td>children</td>\n",
       "      <td>1.714434</td>\n",
       "    </tr>\n",
       "    <tr>\n",
       "      <th>1</th>\n",
       "      <td>Claim_Amount</td>\n",
       "      <td>4.169548</td>\n",
       "    </tr>\n",
       "    <tr>\n",
       "      <th>2</th>\n",
       "      <td>past_consultations</td>\n",
       "      <td>4.672344</td>\n",
       "    </tr>\n",
       "    <tr>\n",
       "      <th>3</th>\n",
       "      <td>Hospital_expenditure</td>\n",
       "      <td>4.392130</td>\n",
       "    </tr>\n",
       "    <tr>\n",
       "      <th>4</th>\n",
       "      <td>Anual_Salary</td>\n",
       "      <td>4.398756</td>\n",
       "    </tr>\n",
       "  </tbody>\n",
       "</table>\n",
       "</div>"
      ],
      "text/plain": [
       "               features       VIF\n",
       "0              children  1.714434\n",
       "1          Claim_Amount  4.169548\n",
       "2    past_consultations  4.672344\n",
       "3  Hospital_expenditure  4.392130\n",
       "4          Anual_Salary  4.398756"
      ]
     },
     "execution_count": 27,
     "metadata": {},
     "output_type": "execute_result"
    }
   ],
   "source": [
    "col_list = []\n",
    "for col_name in df_ins.columns:\n",
    "    if (df_ins[col_name].dtype != \"object\") & (col_name != \"charges\"):\n",
    "        col_list.append(col_name)\n",
    "        \n",
    "X = df_ins[col_list]\n",
    "df_vif = pd.DataFrame()\n",
    "df_vif[\"features\"] = X.columns\n",
    "df_vif[\"VIF\"] = [variance_inflation_factor(X.values, i) for i in range(len(X.columns))]\n",
    "df_vif"
   ]
  },
  {
   "cell_type": "code",
   "execution_count": 30,
   "id": "f848233d-3177-4bb7-9f73-c3a4d33301c6",
   "metadata": {},
   "outputs": [],
   "source": [
    "#Now perform linear regession using the above 5 independent variables and charges as dependent output variable\n",
    "x = df_ins.loc[:,[\"children\", \"Claim_Amount\", \"past_consultations\", \"Hospital_expenditure\", \"Anual_Salary\"]]\n",
    "y = df_ins.iloc[:,-1]"
   ]
  },
  {
   "cell_type": "code",
   "execution_count": 31,
   "id": "8fcb7e0f-c851-4a6b-ae72-45927d5e8926",
   "metadata": {},
   "outputs": [],
   "source": [
    "x_train, x_test, y_train, y_test = train_test_split(x, y, train_size=0.8, random_state=0)"
   ]
  },
  {
   "cell_type": "code",
   "execution_count": 32,
   "id": "7597d3dc-6134-467c-8de7-83e8db40b30c",
   "metadata": {},
   "outputs": [
    {
     "data": {
      "text/plain": [
       "LinearRegression()"
      ]
     },
     "execution_count": 32,
     "metadata": {},
     "output_type": "execute_result"
    }
   ],
   "source": [
    "l_model = LinearRegression()\n",
    "l_model.fit(x_train, y_train)"
   ]
  },
  {
   "cell_type": "code",
   "execution_count": 33,
   "id": "e02635b5-f0e9-4adc-a0ac-0d184f1d6504",
   "metadata": {},
   "outputs": [
    {
     "data": {
      "text/plain": [
       "array([ 7477.40423015, 10578.443268  ,  4259.66079296, 12021.52859229,\n",
       "        9915.24357947,  2815.10173751,  7475.69764865,  4043.79959091,\n",
       "        1877.3664432 ,  1546.64484871,  9360.93985205,  6292.59935308,\n",
       "        7121.09205234,  6919.15474245,  7248.78463738,  8111.02307201,\n",
       "        5326.97993865, 11834.60782046, 10988.57714738,  3929.55693796,\n",
       "        4978.51897858,  7053.65734505,  5338.75600213, 10726.59072816,\n",
       "        8127.79035405,  9231.96653164,  3225.88984565,  1978.26793839,\n",
       "        8050.45969317,  6813.84050341,  9058.84833288,  9692.93877761,\n",
       "        7379.36743983,  3138.63622728, 10949.72273966,  6508.93391765,\n",
       "        2871.79435017,  5930.40534102,  8270.06183064,  3578.45213645,\n",
       "        2814.68269166,  7621.29487817,  9386.6030546 ,  4556.84813415,\n",
       "        6973.8668665 ,  6086.8352666 ,  9303.55459595,  9646.39571652,\n",
       "        1736.03880062,  4727.13687211, 11053.63024564, 10792.65293436,\n",
       "       10474.86182255,  4616.99422501,  7336.26419775,  4537.25455112,\n",
       "        7095.86546971,  4720.79004616,  5033.18196204,  5254.37221466,\n",
       "       12179.07502129,  5927.50142456,  5682.25088587,  3327.69380185,\n",
       "        5331.49718685,  5261.88985454, 12874.42020589, 12610.19090509,\n",
       "       13270.22251719, 10783.52354016,  5432.07605897,  5107.9137726 ,\n",
       "        2808.7887163 ,  7084.6988333 ,  5820.89568458,  7624.33857216,\n",
       "        3711.77340898, 10031.68209313,  9165.64877426,  5793.62632336,\n",
       "        7472.7791607 ,  5426.48406998,  7229.08317587,  4854.96541529,\n",
       "        5367.41532065,  9578.2509098 ,  8521.8059079 ,  6027.94734141,\n",
       "       17656.60740746,  4276.79712247,  7651.58053871, 11847.29707341,\n",
       "        2845.67782731,  7218.79419264, 12238.04302852,  5170.09431525,\n",
       "        8448.71698961, 19181.30040037,  8381.12318568, 11830.96382869,\n",
       "        6966.47122069,  7474.46989705,  6885.15004166, 15597.32895704,\n",
       "        3902.79727101, 10122.1879932 ,  4784.75958003,  4948.07212862,\n",
       "        8203.09527447, 15479.84761927,  9986.39739618,  3044.63058141,\n",
       "        9221.92065574,  4263.66938446, 16717.31141111, 11774.76723751,\n",
       "       12179.28299042, 19235.97404789,  9995.90673004,  5332.74824743,\n",
       "        8234.55577116, 15654.89378489,  5541.56592519,  4134.82272637,\n",
       "       13396.01080469,  7448.94971984, 10937.01396703,  6423.62193184,\n",
       "        4475.33549233, 11504.63177961,  4569.417109  ,  3532.05636371,\n",
       "        3549.79218058, 12491.66456176,  6169.41986633,  5072.86133303,\n",
       "       10088.48972948,  6159.67082241,  8432.25176765,  6998.50899077,\n",
       "       10065.48395779,  3839.67759275,  4036.81530199, 12179.23561017,\n",
       "        6648.67213974,  9812.65697081,  5184.32171514, 10419.65160473,\n",
       "       11896.09959968,  8232.54318537,  5557.16471875, 16593.54609492,\n",
       "        5533.04150805,  4301.14400858,  7380.79625651, 17341.46239557,\n",
       "        3331.83018305,  7487.80531921,  2962.32912655,  8052.62190047,\n",
       "        4524.74960376,  9290.53851835, 14931.8170832 ,  6074.66180371,\n",
       "       17429.95094771,  2300.60898041,  3882.30143849,  5302.12850449,\n",
       "        1160.32170447, 10466.67015562, 11573.15147252,  7034.61733758,\n",
       "       10543.31012764,  8699.63223942,  4797.73048358,  4753.45684239,\n",
       "       10537.30010447,  6223.15540658,  8591.0040116 ,  7174.50549356,\n",
       "        7044.46172339, 12977.30617874, 10377.74768073,  5186.25611953,\n",
       "        6035.18218408,  6512.93314392,  8300.03577402, 20250.33275926,\n",
       "        6786.61977776,  7683.35485521, 10659.27935917,  2375.24425435,\n",
       "       13281.68943146,  6766.06923691,  7926.2409028 ,  8178.22526911,\n",
       "       11532.32597345, 12164.77425515,  7801.9953698 ,  2596.71923485,\n",
       "        8427.2693641 ,  5736.46393159, 15243.83833802,  4847.1016167 ,\n",
       "       11820.00544079,  2376.19155967])"
      ]
     },
     "execution_count": 33,
     "metadata": {},
     "output_type": "execute_result"
    }
   ],
   "source": [
    "predictions = l_model.predict(x_test)\n",
    "predictions"
   ]
  },
  {
   "cell_type": "code",
   "execution_count": 36,
   "id": "76ddd399-b5b4-4967-afef-02b77f0e21b1",
   "metadata": {},
   "outputs": [
    {
     "data": {
      "text/html": [
       "<div>\n",
       "<style scoped>\n",
       "    .dataframe tbody tr th:only-of-type {\n",
       "        vertical-align: middle;\n",
       "    }\n",
       "\n",
       "    .dataframe tbody tr th {\n",
       "        vertical-align: top;\n",
       "    }\n",
       "\n",
       "    .dataframe thead th {\n",
       "        text-align: right;\n",
       "    }\n",
       "</style>\n",
       "<table border=\"1\" class=\"dataframe\">\n",
       "  <thead>\n",
       "    <tr style=\"text-align: right;\">\n",
       "      <th></th>\n",
       "      <th>Actual_data</th>\n",
       "      <th>Prediction_data</th>\n",
       "      <th>Error</th>\n",
       "    </tr>\n",
       "  </thead>\n",
       "  <tbody>\n",
       "    <tr>\n",
       "      <th>752</th>\n",
       "      <td>10704.47000</td>\n",
       "      <td>7477.404230</td>\n",
       "      <td>3227.065770</td>\n",
       "    </tr>\n",
       "    <tr>\n",
       "      <th>723</th>\n",
       "      <td>10197.77220</td>\n",
       "      <td>10578.443268</td>\n",
       "      <td>-380.671068</td>\n",
       "    </tr>\n",
       "    <tr>\n",
       "      <th>177</th>\n",
       "      <td>2801.25880</td>\n",
       "      <td>4259.660793</td>\n",
       "      <td>-1458.401993</td>\n",
       "    </tr>\n",
       "    <tr>\n",
       "      <th>834</th>\n",
       "      <td>11848.14100</td>\n",
       "      <td>12021.528592</td>\n",
       "      <td>-173.387592</td>\n",
       "    </tr>\n",
       "    <tr>\n",
       "      <th>718</th>\n",
       "      <td>10107.22060</td>\n",
       "      <td>9915.243579</td>\n",
       "      <td>191.977021</td>\n",
       "    </tr>\n",
       "    <tr>\n",
       "      <th>...</th>\n",
       "      <td>...</td>\n",
       "      <td>...</td>\n",
       "      <td>...</td>\n",
       "    </tr>\n",
       "    <tr>\n",
       "      <th>627</th>\n",
       "      <td>8688.85885</td>\n",
       "      <td>5736.463932</td>\n",
       "      <td>2952.394918</td>\n",
       "    </tr>\n",
       "    <tr>\n",
       "      <th>993</th>\n",
       "      <td>16085.12750</td>\n",
       "      <td>15243.838338</td>\n",
       "      <td>841.289162</td>\n",
       "    </tr>\n",
       "    <tr>\n",
       "      <th>426</th>\n",
       "      <td>5976.83110</td>\n",
       "      <td>4847.101617</td>\n",
       "      <td>1129.729483</td>\n",
       "    </tr>\n",
       "    <tr>\n",
       "      <th>895</th>\n",
       "      <td>12925.88600</td>\n",
       "      <td>11820.005441</td>\n",
       "      <td>1105.880559</td>\n",
       "    </tr>\n",
       "    <tr>\n",
       "      <th>251</th>\n",
       "      <td>3766.88380</td>\n",
       "      <td>2376.191560</td>\n",
       "      <td>1390.692240</td>\n",
       "    </tr>\n",
       "  </tbody>\n",
       "</table>\n",
       "<p>206 rows × 3 columns</p>\n",
       "</div>"
      ],
      "text/plain": [
       "     Actual_data  Prediction_data        Error\n",
       "752  10704.47000      7477.404230  3227.065770\n",
       "723  10197.77220     10578.443268  -380.671068\n",
       "177   2801.25880      4259.660793 -1458.401993\n",
       "834  11848.14100     12021.528592  -173.387592\n",
       "718  10107.22060      9915.243579   191.977021\n",
       "..           ...              ...          ...\n",
       "627   8688.85885      5736.463932  2952.394918\n",
       "993  16085.12750     15243.838338   841.289162\n",
       "426   5976.83110      4847.101617  1129.729483\n",
       "895  12925.88600     11820.005441  1105.880559\n",
       "251   3766.88380      2376.191560  1390.692240\n",
       "\n",
       "[206 rows x 3 columns]"
      ]
     },
     "execution_count": 36,
     "metadata": {},
     "output_type": "execute_result"
    }
   ],
   "source": [
    "actu_pred = pd.DataFrame(columns={\"Actual_data\", \"Prediction_data\"})\n",
    "actu_pred[\"Actual_data\"] = y_test\n",
    "actu_pred[\"Prediction_data\"] = predictions\n",
    "actu_pred[\"Error\"] = actu_pred[\"Actual_data\"] - actu_pred[\"Prediction_data\"]\n",
    "actu_pred"
   ]
  },
  {
   "cell_type": "code",
   "execution_count": 40,
   "id": "74cc1474-a34b-4a5b-bb97-3a7b0ada6f35",
   "metadata": {},
   "outputs": [
    {
     "data": {
      "text/plain": [
       "0.8461568208269036"
      ]
     },
     "execution_count": 40,
     "metadata": {},
     "output_type": "execute_result"
    }
   ],
   "source": [
    "r2_on_test = r2_score(y_test, predictions)\n",
    "r2_on_test"
   ]
  },
  {
   "cell_type": "code",
   "execution_count": null,
   "id": "c86eeeec-3bc9-448e-b0b4-31e667a83cea",
   "metadata": {},
   "outputs": [],
   "source": []
  }
 ],
 "metadata": {
  "kernelspec": {
   "display_name": "Python 3 (ipykernel)",
   "language": "python",
   "name": "python3"
  },
  "language_info": {
   "codemirror_mode": {
    "name": "ipython",
    "version": 3
   },
   "file_extension": ".py",
   "mimetype": "text/x-python",
   "name": "python",
   "nbconvert_exporter": "python",
   "pygments_lexer": "ipython3",
   "version": "3.9.7"
  }
 },
 "nbformat": 4,
 "nbformat_minor": 5
}
