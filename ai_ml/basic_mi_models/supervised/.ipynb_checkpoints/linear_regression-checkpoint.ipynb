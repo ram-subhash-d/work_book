{
 "cells": [
  {
   "cell_type": "markdown",
   "id": "24112795-bb51-4527-b851-8330122c61b3",
   "metadata": {},
   "source": [
    "# Linear Regression\n",
    "The model being learnt is assumed to be a linear function of the parameters. \\\n",
    "y = a0 + a1f1 + a2f2 + ... + anfn \\\n",
    "f - features(data input variables), a - parameters(to learn and model), y - output(data output variable)"
   ]
  },
  {
   "cell_type": "markdown",
   "id": "bea7359f-acf8-4391-bab4-3c483453582a",
   "metadata": {},
   "source": [
    "2:21:50"
   ]
  }
 ],
 "metadata": {
  "kernelspec": {
   "display_name": "Python 3 (ipykernel)",
   "language": "python",
   "name": "python3"
  },
  "language_info": {
   "codemirror_mode": {
    "name": "ipython",
    "version": 3
   },
   "file_extension": ".py",
   "mimetype": "text/x-python",
   "name": "python",
   "nbconvert_exporter": "python",
   "pygments_lexer": "ipython3",
   "version": "3.10.5"
  }
 },
 "nbformat": 4,
 "nbformat_minor": 5
}
