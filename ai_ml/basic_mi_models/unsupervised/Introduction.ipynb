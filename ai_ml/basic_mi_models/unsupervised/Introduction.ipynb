{
 "cells": [
  {
   "cell_type": "markdown",
   "id": "0917e98c-f5c8-4996-935f-e2c50d4893a8",
   "metadata": {},
   "source": [
    "# Introduction\n",
    "The training data contains only the inputs, and with these inputs we want the machine to learn a particular task by indentifying some patterns, then we go for unsupervised learning. Clustering and Outlier detection are examples of unsupervised learning."
   ]
  },
  {
   "cell_type": "code",
   "execution_count": null,
   "id": "cfd7e4d6-01f0-492e-9561-d341fea5a9ac",
   "metadata": {},
   "outputs": [],
   "source": []
  }
 ],
 "metadata": {
  "kernelspec": {
   "display_name": "Python 3 (ipykernel)",
   "language": "python",
   "name": "python3"
  },
  "language_info": {
   "codemirror_mode": {
    "name": "ipython",
    "version": 3
   },
   "file_extension": ".py",
   "mimetype": "text/x-python",
   "name": "python",
   "nbconvert_exporter": "python",
   "pygments_lexer": "ipython3",
   "version": "3.10.5"
  }
 },
 "nbformat": 4,
 "nbformat_minor": 5
}
