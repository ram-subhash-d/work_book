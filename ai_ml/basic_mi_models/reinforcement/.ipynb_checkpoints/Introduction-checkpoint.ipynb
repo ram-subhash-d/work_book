{
 "cells": [
  {
   "cell_type": "markdown",
   "id": "68e78b8c-f836-425c-9a5b-64312a5317a7",
   "metadata": {},
   "source": [
    "# Introduction\n",
    "Like unsupervised the training data contains only the inputs, but here learning is done through experience. Learning happens through rewards received from the environment."
   ]
  }
 ],
 "metadata": {
  "kernelspec": {
   "display_name": "Python 3 (ipykernel)",
   "language": "python",
   "name": "python3"
  },
  "language_info": {
   "codemirror_mode": {
    "name": "ipython",
    "version": 3
   },
   "file_extension": ".py",
   "mimetype": "text/x-python",
   "name": "python",
   "nbconvert_exporter": "python",
   "pygments_lexer": "ipython3",
   "version": "3.10.5"
  }
 },
 "nbformat": 4,
 "nbformat_minor": 5
}
