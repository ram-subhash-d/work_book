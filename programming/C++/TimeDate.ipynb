{
 "cells": [
  {
   "cell_type": "markdown",
   "id": "13611f3c",
   "metadata": {},
   "source": [
    "## Chrono Library\n",
    "C++ inherited date/time handling features from C which are defined in ctime header, which is low level. C++ 11 introduced chrono library for handling data/time, which is more precise. \n",
    "In ctime there are 2 main methods.\n",
    "* clock() : which returns the number of clock ticks since the program started, these ticks are stored in clock_t(int), used to measure a few minutes with micro second precision\n",
    "* time() : gets the number of seconds since mid night 1st January 1970, these seconds are stored in time_t(int), used to measure long intervals with second precision.\n",
    "\n",
    "The chrono library has 3 important concepts.\n",
    "* Clock : It has a start date(epoch) and tick rate.\n",
    "* Time point : The number of clock ticks since the epoch, at a given point in time.\n",
    "* Duration : An interval between two time points, measured in clock ticks.\n",
    "\n",
    "## Duration Types\n",
    "Chrono header defines some integer types like seconds, minutes, hours, milliseconds, days etc which represent units of duration. They can be initialized with single argument.\n",
    "```\n",
    "hours hour{5}; //means 5 hours interval\n",
    "minutes min{10}; //means 10 minutes interval\n",
    "```\n",
    "The library also provides sufixes for these units\n",
    "```\n",
    "auto hours = 5h;\n",
    "auto mins = 10mins; \n",
    "```\n",
    "These duration types cannot be printed directly, we have to use the counts() member function, which returns the numeric value of the duration. We can perform all integer operations on duration types like add, substract etc.\n",
    "```\n",
    "seconds sec;\n",
    "auto s1 = 2s;\n",
    "auto s2 = 3s;\n",
    "sec = s1 + s2; //results in 5 seconds\n",
    "auto msec = sec + 43ms; //results in 5043 milli seconds, converted to the right type\n",
    "```\n",
    "The duration constructor is explicit\n",
    "```\n",
    "seconds sec = 2; //error - cannot convert from int\n",
    "seconds sec = 2s; //ok\n",
    "```\n",
    "Convertion between duration types can be done implicitly if there is no loss of data, else duration cast must be used.\n",
    "```\n",
    "seconds sec = 1h; //ok, since no loss of data\n",
    "seconds sec = duration_cast<seconds>(5043ms); //cast has to be used since there is loss of data\n",
    "```"
   ]
  },
  {
   "cell_type": "markdown",
   "id": "c4cb1d0d",
   "metadata": {},
   "source": [
    "## Clocks and Time Points\n",
    "The chrono library provides 3 clocks\n",
    "* system_clock : Provided by the system through the operating system clock. Measures wall time. If the system is syncronized this will same as the world time. Not suited for measuring time invervals as this clock may get corrected between measuring intervals.\n",
    "* steady_clock : Ideal clock which only goes forward, one tick a time. Used for measuring time intervals. Implemented using harware timer, not related to the ouside world.\n",
    "* high_resolution_clock : Clock with the shortest tick period supported by the system.\n",
    "All these clocks have a static now function which returns the current time point, time_point class. time_point has a duration member which gives the time invertal since the clocks epoch. We can substract 2 time points to give us a duration. Also we can add or substract a time_point and a duration to give us a new time point.\n",
    "```\n",
    "time_point start = steady_clock::now();\n",
    "//do something\n",
    "time_point finish = steady_clock::now();\n",
    "duration elapsed = finish - start;\n",
    "//hours, seconds, milliseconds etc are predefined types of duration\n",
    "milliseconds elapsed_ms = duration_cast<milliseconds>(elapsed); \n",
    "```\n",
    "Thread's sleep_for function also takes duration.\n",
    "```\n",
    "this_thread::sleep_for(2s); //sleeps for 2 seconds\n",
    "```"
   ]
  }
 ],
 "metadata": {
  "kernelspec": {
   "display_name": "Python 3 (ipykernel)",
   "language": "python",
   "name": "python3"
  },
  "language_info": {
   "codemirror_mode": {
    "name": "ipython",
    "version": 3
   },
   "file_extension": ".py",
   "mimetype": "text/x-python",
   "name": "python",
   "nbconvert_exporter": "python",
   "pygments_lexer": "ipython3",
   "version": "3.9.7"
  }
 },
 "nbformat": 4,
 "nbformat_minor": 5
}
