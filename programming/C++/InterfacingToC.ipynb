{
 "cells": [
  {
   "cell_type": "markdown",
   "id": "ce44deca",
   "metadata": {},
   "source": [
    "There are many programs that are written in C that we may want to use from our C++ programs. Examples are operating system API, database API's are usually written in C, third party librabies and frameworks written in C. C is a subset of C++, so C programs are legal C++ programs. The simplest solution is to compile the entire source code(C and C++ code) with a C++ compiler. This may not always be possible as the C source code might not be available. So we should interface with C at the binary level."
   ]
  },
  {
   "cell_type": "markdown",
   "id": "13fe8619",
   "metadata": {},
   "source": [
    "## Binary compatibility\n",
    "In order to interface a C++ program with a C library(static/dynamic) or vice versa, both the C and C++ compilers used must be compatible(normally we use same compiler for C and C++ for the same processor/OS). The final link step must be done with the C++ compiler. In C, a function has the same name in the binary object file. The C++ compiler mangles the names as it supports function overloading. If we want to use a C++ binary in a C program or include a C header in a C++ program, then we use the extern \"C\" directive. This will tell the C++ compiler not to mangle the function name.\n",
    "```\n",
    "extern \"C\" int func(int x);\n",
    "\n",
    "//multiple symbols as extern C\n",
    "extern \"C\"\n",
    "{\n",
    "    int func(int x);\n",
    "    double dfunc(double x);\n",
    "}\n",
    "\n",
    "//all the symbols in a include file as extern C\n",
    "//used when we use a 'C' header in a 'C++' progream\n",
    "extern \"C\" \n",
    "{\n",
    "    #include \"cstuff.h\"\n",
    "}\n",
    "```\n",
    "Interfacing functions should only use built it types(char, int, double etc.) that 'C' understands and put them in global namespace as 'C' has no concept of namespace."
   ]
  },
  {
   "cell_type": "markdown",
   "id": "a79cf8a9",
   "metadata": {},
   "source": [
    "## Conditional compilation\n",
    "There may be files that have to be compiled by both C and C++ like the interface header. These files may contain some things that the 'C' compiler does not understand(like extern \"C\"), we can use the '__cplusplus' preprocessor directive defined in C++ to hide parts of a program from the 'C' compiler.\n",
    "```\n",
    "#ifdef __cplusplus\n",
    "extern \"C\" ...   //compiling C++ code\n",
    "#else\n",
    "...   //compiling C code\n",
    "#endif\n",
    "```"
   ]
  },
  {
   "cell_type": "markdown",
   "id": "98160c62",
   "metadata": {},
   "source": [
    "## Converting C++ sequencial containers to arrays for C\n",
    "std::string and std::vector have a data() member function, which returns a pointer to the containers internal memory buffer which can be used as a built in array.\n",
    "```\n",
    "std::string s{\"Data to export\"};\n",
    "const char *ps = s.data();\n",
    "\n",
    "std::vector<int> vec{3, 1, 4, 1, 5, 9};\n",
    "int *pv = vec.data();\n",
    "```\n",
    "For associative containers we can use the copy algorithm to populate a vector and then use the vector's data() member to pass the array to the C function. With maps we have to use 2 seperate vectors for keys and values and pass 2 arrays to the 'C' function."
   ]
  }
 ],
 "metadata": {
  "kernelspec": {
   "display_name": "Python 3 (ipykernel)",
   "language": "python",
   "name": "python3"
  },
  "language_info": {
   "codemirror_mode": {
    "name": "ipython",
    "version": 3
   },
   "file_extension": ".py",
   "mimetype": "text/x-python",
   "name": "python",
   "nbconvert_exporter": "python",
   "pygments_lexer": "ipython3",
   "version": "3.9.7"
  }
 },
 "nbformat": 4,
 "nbformat_minor": 5
}
