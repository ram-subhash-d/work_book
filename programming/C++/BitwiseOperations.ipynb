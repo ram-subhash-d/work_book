{
 "cells": [
  {
   "cell_type": "markdown",
   "id": "c549b010",
   "metadata": {},
   "source": [
    "## Bitsets\n",
    "C had bitwise operators like bitwise and(&) or the left shift operation(<<), these are inherited by C++. Features inherited from C are low level and not easy to use them safely. C++ introduced bitset, which is an abstraction to modify groups of bits. Bitset is a templated type which takes number of bits as the template parameter.\n",
    "```\n",
    "std::bitset<8> b1{\"10101110\"}; //Initialise from string\n",
    "std::bitset<8> b2{0xae}; //Initialise from integer\n",
    "std::bitset<8> b3{0b1010'1110}; //Initialise from binary constant\n",
    "```\n",
    "We can access the underlying data by the using the member methods to_ulong(), to_string(). size() member function gives the number of bytes. We can use the subscript notation to access individual bits, index 0 represents the least significant bit. We can perform all the bitwise operations that we can do with ints.\n",
    "```\n",
    "std::cout << \"~b1 is \" << ~b1 << std::endl; //Bitwise not\n",
    "std::cout << \"b1 | b2 is \" << (b1 | b2) << std::endl; //Bitwsie or\n",
    "std::cout << \"b2 << 4 is \" << (b1 << 4) << std::endl; //Left shift by 4 bits\n",
    "```\n",
    "There are member functions to modify bits\n",
    "```\n",
    "b1.set(); //Set all bits to true\n",
    "b1.set(1); //Set bit 1 to true\n",
    "b1.set(1, false); //Set bit 1 to false\n",
    "\n",
    "b1.reset(); //Set all bits to false\n",
    "b1.reset(7); //Set bit 7 to false\n",
    "\n",
    "b1.flip(); //Invert all bits\n",
    "b1.flip(7); //Invert bit 7\n",
    "```\n",
    "There also member functions to check bitset's\n",
    "```\n",
    "b1.all(); //Returns true if all bits are set\n",
    "b1.any(); //Returns true if atleast one bit is set\n",
    "b1.none(); //Returns true if no bits are set\n",
    "b1.count(); //Returns number of set bits\n",
    "```"
   ]
  }
 ],
 "metadata": {
  "kernelspec": {
   "display_name": "Python 3 (ipykernel)",
   "language": "python",
   "name": "python3"
  },
  "language_info": {
   "codemirror_mode": {
    "name": "ipython",
    "version": 3
   },
   "file_extension": ".py",
   "mimetype": "text/x-python",
   "name": "python",
   "nbconvert_exporter": "python",
   "pygments_lexer": "ipython3",
   "version": "3.9.7"
  }
 },
 "nbformat": 4,
 "nbformat_minor": 5
}
