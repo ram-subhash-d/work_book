{
 "cells": [
  {
   "cell_type": "markdown",
   "id": "bfcc52af",
   "metadata": {},
   "source": [
    "## Valarray\n",
    "std::valarray is similar to vector, it is based on Fortran arrays. It is fixed size and has an easier syntax to do numerical operations, things like adding or dividing vectors etc."
   ]
  },
  {
   "cell_type": "markdown",
   "id": "eb7cfb3b",
   "metadata": {},
   "source": [
    "## Complex Numbers\n",
    "C++ has a fully featured complex number class. It is a template type, the template type can be any one of the built in floating point types float, double or long double.\n",
    "```\n",
    "std::complex<double> q{3.0, 4.0}; //Constructor which takes real(3.0) and imaginary(4.0) parts\n",
    "q.real();\n",
    "q.imag();\n",
    "\n",
    "std::cout << q << std::endl; //Displays as (3.0, 4.0)\n",
    "```\n",
    "It supports the usual arithmetic and logical operators.\n",
    "```\n",
    "std::complex<double> r = p + q; //Add 2 complex numbers\n",
    "if(p == q) //Compare 2 complex numbers for equality\n",
    "p += 1.0; //Add a real number to a complex number\n",
    "```\n",
    "Increament/decreament operators are not supported. We can use suffix i to define complex literal's.\n",
    "```\n",
    "auto s = 2i;\n",
    "auto z = 3.0 + 4i;\n",
    "p =+ 4i; //Compound addition with a complex literal\n",
    "```\n",
    "The global math functions can be used to convert the complex number to and from polar coordinates.\n",
    "```\n",
    "abs(q); //Get magnitude or absolute value(square root of 3*3 + 4*4, if 3 and 4 are real and imaginary parts)\n",
    "args(q); //Get phase angle in radians\n",
    "conj(q); //Invert the sign of the imaginary part\n",
    "```\n",
    "The usual exponential, power and trignometric functions are supported for complex numners. std::exp(), std::log(), std::pow(), std::sqrt(), std::sin(), std::cos() etc."
   ]
  }
 ],
 "metadata": {
  "kernelspec": {
   "display_name": "Python 3 (ipykernel)",
   "language": "python",
   "name": "python3"
  },
  "language_info": {
   "codemirror_mode": {
    "name": "ipython",
    "version": 3
   },
   "file_extension": ".py",
   "mimetype": "text/x-python",
   "name": "python",
   "nbconvert_exporter": "python",
   "pygments_lexer": "ipython3",
   "version": "3.9.7"
  }
 },
 "nbformat": 4,
 "nbformat_minor": 5
}
