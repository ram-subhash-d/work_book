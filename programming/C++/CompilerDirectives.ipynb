{
 "cells": [
  {
   "cell_type": "markdown",
   "id": "01ad621a",
   "metadata": {},
   "source": [
    "## Attributes\n",
    "Compiler writers have various implementation dependent directives like #pragma, __attribute, __declspec etc. These will make the compilers behave in various ways. C++ introduced attributes to provide a standard syntax for these and defined a few standard attributes. An attribute goes inside a pair of double square brackets, example [[noreturn]]. Compiler writers define them, they can keep attributes in namespaces for compiler specific attributes, example [[gnu::always_inline]]. To use them, attributes go before the entity they apply to, example [[noreturn]] void server();. Attributes can also take arguments, example [[deprecated(\"Use the version 2.0 interface in new code\")]]. Below are some of the standard attributes defined by C++.\n",
    "* [[noreturn]] : Indicates to the compiler that the function does not return(it keeps executing), helps the compiler to optimize.\n",
    "* alignas : Not an attribute its a keyword, used to replace #pragma. Aligns the array buffer on the given byte boundary.\n",
    "```\n",
    "alignas(16) char buffer[128]; //Align the buffer on a 16-byte boundary\n",
    "```\n",
    "* [[deprecated(\"Use the version 2.0 interface in the new code\")]] : This causes the compiler to give a warning if the deprecated object/function is used.\n",
    "* [[fallthrough]] : Used in a switch statement when we want to fall through from one case to the next(no break). Normally compiler will give a warning if there is no break, if this attribute is used in place of break there will be no warning.\n",
    "* [[nodiscard]] : The compiler will give a warning if a nodiscard function is called and its return value is ignored.\n",
    "* [[maybe_unused]] : If there is a variable that is not used, we get a unused warning from the compiler. Use this attribute to remove the warning.\n",
    "\n",
    "Attributes can be applied to functions, variables, types and member functions(class/struct/enum). For types attribute goes before the type name\n",
    "```\n",
    "struct [[nodiscard]] test //Any function the retuns test will be nodiscard\n",
    "{\n",
    "    ...\n",
    "}\n",
    "```"
   ]
  }
 ],
 "metadata": {
  "kernelspec": {
   "display_name": "Python 3 (ipykernel)",
   "language": "python",
   "name": "python3"
  },
  "language_info": {
   "codemirror_mode": {
    "name": "ipython",
    "version": 3
   },
   "file_extension": ".py",
   "mimetype": "text/x-python",
   "name": "python",
   "nbconvert_exporter": "python",
   "pygments_lexer": "ipython3",
   "version": "3.9.7"
  }
 },
 "nbformat": 4,
 "nbformat_minor": 5
}
