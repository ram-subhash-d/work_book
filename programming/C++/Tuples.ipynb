{
 "cells": [
  {
   "cell_type": "markdown",
   "id": "2819cb0c",
   "metadata": {},
   "source": [
    "## Tuples\n",
    "Tuple is similar to pair but it can have any number of elements. Elements can be accessed by index, using std::get giving it the tuple with the index as the template parameter. We can also use get to set elements of the tuple.\n",
    "```\n",
    "std::tuple<double, int, string> numbers(1.0, 2, \"Three\"s);\n",
    "std::tuple numbers{1.0, 2, \"Three\"s}; //auto deduce the types from the initialiser list\n",
    "auto numbers {make_tuple(1.0, 2, \"Three\"s)};\n",
    "\n",
    "double x = std::get<0>(numbers); //get first element in numbers tuple\n",
    "std::get<1>(numbers) = 3; //set the second element to 3\n",
    "\n",
    "//We can also use type as template parameter, if the type is unique in the tuple\n",
    "int i = std::get<int>(numbers);\n",
    "```\n",
    "\n",
    "The std::tie function unpacks all elements in a tuple into variables. The number and type of elements must match.\n",
    "```\n",
    "double d;\n",
    "int i;\n",
    "std::string str;\n",
    "std::tie(d, i, str) = numbers;\n",
    "```\n",
    "\n",
    "We can also use structured binding with tuples, like std::pair\n",
    "```\n",
    "std::tuple<double, int, std::string> func()\n",
    "{\n",
    "    return {1.0, 2, \"Three\"s};\n",
    "}\n",
    "\n",
    "auto[d, i, str] = func(); //Structured binding to unpack a tuple\n",
    "```\n",
    "\n",
    "std::apply() is a new function in C++ to support functional style of programming. With this method we can now pass a tuple to a function(or callable object) which has arguments of the same type as its elements.\n",
    "```\n",
    "void func(int i, double d, string s);\n",
    "std::apply(func, tuple{1, 2.0, \"Three\"s});\n",
    "```\n",
    "\n",
    "We can also unpack tuple into constructor arguments using std::make_from_tuple\n",
    "```\n",
    "Test test = std::make_from_tuple<Test>(tup);\n",
    "```"
   ]
  }
 ],
 "metadata": {
  "kernelspec": {
   "display_name": "Python 3 (ipykernel)",
   "language": "python",
   "name": "python3"
  },
  "language_info": {
   "codemirror_mode": {
    "name": "ipython",
    "version": 3
   },
   "file_extension": ".py",
   "mimetype": "text/x-python",
   "name": "python",
   "nbconvert_exporter": "python",
   "pygments_lexer": "ipython3",
   "version": "3.9.7"
  }
 },
 "nbformat": 4,
 "nbformat_minor": 5
}
