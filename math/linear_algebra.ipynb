{
 "cells": [
  {
   "cell_type": "markdown",
   "id": "e3325fdd-60a2-4f3e-9166-0eeb74e22545",
   "metadata": {},
   "source": [
    "## Introduction\n",
    "A linear equation can be solved in 2 ways, using the row picture or using the column picture."
   ]
  },
  {
   "cell_type": "code",
   "execution_count": null,
   "id": "eafad8b8-aaf9-4799-8ee3-4083e448cb4b",
   "metadata": {},
   "outputs": [],
   "source": [
    "1. The Geometry of Linear Equations(https://www.youtube.com/watch?v=J7DzL2_Na80) - 28:00"
   ]
  }
 ],
 "metadata": {
  "kernelspec": {
   "display_name": "Python 3 (ipykernel)",
   "language": "python",
   "name": "python3"
  },
  "language_info": {
   "codemirror_mode": {
    "name": "ipython",
    "version": 3
   },
   "file_extension": ".py",
   "mimetype": "text/x-python",
   "name": "python",
   "nbconvert_exporter": "python",
   "pygments_lexer": "ipython3",
   "version": "3.10.5"
  }
 },
 "nbformat": 4,
 "nbformat_minor": 5
}
