{
 "cells": [
  {
   "cell_type": "markdown",
   "id": "a2d897bd",
   "metadata": {},
   "source": [
    "## Statement\n",
    "Given two binary trees, check if one tree is a mirror image of the other tree."
   ]
  },
  {
   "cell_type": "markdown",
   "id": "3783a106",
   "metadata": {},
   "source": [
    "## Solution\n",
    "Traverse the first tree inorder i.e root, left and right. Traverse the second tree too inorder but first right and then left i.e root, right and then left. if the two traversals are equal then the given two trees are mirror images of each other."
   ]
  },
  {
   "cell_type": "code",
   "execution_count": 13,
   "id": "e7ee1b45",
   "metadata": {},
   "outputs": [],
   "source": [
    "#include <iostream>\n",
    "\n",
    "//tree node\n",
    "struct node\n",
    "{\n",
    "    int value;\n",
    "    node* left;\n",
    "    node* right;\n",
    "    \n",
    "    node(int v, node* l, node* r)\n",
    "    {\n",
    "        value = v;\n",
    "        left = l;\n",
    "        right = r;\n",
    "    }\n",
    "};"
   ]
  },
  {
   "cell_type": "code",
   "execution_count": 14,
   "id": "e0a5f8aa",
   "metadata": {},
   "outputs": [],
   "source": [
    "//explore in order root, left, right\n",
    "void explore_tlr(node* curr_node)\n",
    "{\n",
    "    if(curr_node == nullptr)\n",
    "    {\n",
    "        return;\n",
    "    }\n",
    "    \n",
    "    std::cout << curr_node->value << \"\\t\";\n",
    "    explore_tlr(curr_node->left);\n",
    "    explore_tlr(curr_node->right);\n",
    "}"
   ]
  },
  {
   "cell_type": "code",
   "execution_count": 15,
   "id": "dae8c360",
   "metadata": {},
   "outputs": [],
   "source": [
    "//explore in order root, right, left\n",
    "void explore_trl(node* curr_node)\n",
    "{\n",
    "    if(curr_node == nullptr)\n",
    "    {\n",
    "        return;\n",
    "    }\n",
    "    \n",
    "    std::cout << curr_node->value << \"\\t\";\n",
    "    explore_trl(curr_node->right);\n",
    "    explore_trl(curr_node->left);\n",
    "}"
   ]
  },
  {
   "cell_type": "code",
   "execution_count": 16,
   "id": "8249a571",
   "metadata": {},
   "outputs": [],
   "source": [
    "void delete_bt(node* curr_node)\n",
    "{\n",
    "    if(curr_node == nullptr)\n",
    "    {\n",
    "        return;\n",
    "    }\n",
    "    delete_bt(curr_node->left);\n",
    "    delete_bt(curr_node->right);\n",
    "    delete curr_node;\n",
    "}"
   ]
  },
  {
   "cell_type": "code",
   "execution_count": 17,
   "id": "806d5c61",
   "metadata": {},
   "outputs": [],
   "source": [
    "//create the tree\n",
    "void build_tree()\n",
    "{\n",
    "    node* node1 = new node(1, nullptr, nullptr);\n",
    "    node* node2 = new node(2, nullptr, nullptr);\n",
    "    node* node3 = new node(3, nullptr, nullptr);\n",
    "    node* node4 = new node(4, nullptr, nullptr);\n",
    "    node* node5 = new node(5, nullptr, nullptr);\n",
    "    \n",
    "    //build tree 1\n",
    "    node1->left = node3;\n",
    "    node1->right = node2;\n",
    "    node2->left = node5;\n",
    "    node2->right = node4;\n",
    "    \n",
    "    explore_tlr(node1);\n",
    "    std::cout << std::endl;\n",
    "    \n",
    "    //build tree 2\n",
    "    node1->left = node2;\n",
    "    node1->right = node3;\n",
    "    node2->left = node4;\n",
    "    node2->right = node5;\n",
    "    \n",
    "    explore_trl(node1);\n",
    "    \n",
    "    delete_bt(node1);\n",
    "}"
   ]
  },
  {
   "cell_type": "code",
   "execution_count": 18,
   "id": "caaf9a6b",
   "metadata": {},
   "outputs": [
    {
     "name": "stdout",
     "output_type": "stream",
     "text": [
      "1\t3\t2\t5\t4\t\n",
      "1\t3\t2\t5\t4\t"
     ]
    }
   ],
   "source": [
    "//main code\n",
    "build_tree();"
   ]
  }
 ],
 "metadata": {
  "kernelspec": {
   "display_name": "C++11",
   "language": "C++11",
   "name": "xcpp11"
  },
  "language_info": {
   "codemirror_mode": "text/x-c++src",
   "file_extension": ".cpp",
   "mimetype": "text/x-c++src",
   "name": "c++",
   "version": "11"
  }
 },
 "nbformat": 4,
 "nbformat_minor": 5
}
