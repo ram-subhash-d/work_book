{
 "cells": [
  {
   "cell_type": "markdown",
   "id": "1c72422f",
   "metadata": {},
   "source": [
    "## Statement\n",
    "Given a binary tree, serialize it into a list on one end and then on the other end deserialize it and construct the same tree from the list."
   ]
  },
  {
   "cell_type": "markdown",
   "id": "c332e333",
   "metadata": {},
   "source": [
    "## Solution\n",
    "Convert the tree into a list using one of inorder, preorder or postorder traversal. Then on the other end deserialize it back into tree from list using the same traversal we used during serialization. In the below code we use preorder traversal."
   ]
  },
  {
   "cell_type": "code",
   "execution_count": 1,
   "id": "df39f36c",
   "metadata": {},
   "outputs": [],
   "source": [
    "//tree node\n",
    "struct node\n",
    "{\n",
    "    int value;\n",
    "    node* left;\n",
    "    node* right;\n",
    "    \n",
    "    node(int v, node* l, node* r)\n",
    "    {\n",
    "        value = v;\n",
    "        left = l;\n",
    "        right = r;\n",
    "    }\n",
    "};\n",
    "\n",
    "//global index variable\n",
    "int index = 0;"
   ]
  },
  {
   "cell_type": "code",
   "execution_count": 2,
   "id": "e8080f2b",
   "metadata": {},
   "outputs": [],
   "source": [
    "#include <vector>\n",
    "\n",
    "//serialize using preorder traversal\n",
    "void serialize(node* curr_node, std::vector<int>& ser_list)\n",
    "{\n",
    "    if(curr_node == nullptr)\n",
    "    {\n",
    "        ser_list.push_back(-1);\n",
    "        return;\n",
    "    }\n",
    "    \n",
    "    ser_list.push_back(curr_node->value);\n",
    "    serialize(curr_node->left, ser_list);\n",
    "    serialize(curr_node->right, ser_list);\n",
    "}"
   ]
  },
  {
   "cell_type": "code",
   "execution_count": 3,
   "id": "53c25eed",
   "metadata": {},
   "outputs": [],
   "source": [
    "//deserialize using preorder traversal\n",
    "node* deserialize(std::vector<int>& ser_list)\n",
    "{\n",
    "    if(index > ser_list.size() - 1 || ser_list[index] == -1)\n",
    "    {\n",
    "        index++;\n",
    "        return nullptr;\n",
    "    }\n",
    "    \n",
    "    node* new_node = new node(ser_list[index++], nullptr, nullptr);\n",
    "    new_node->left = deserialize(ser_list);\n",
    "    new_node->right = deserialize(ser_list);\n",
    "    return new_node;\n",
    "}"
   ]
  },
  {
   "cell_type": "code",
   "execution_count": 4,
   "id": "c901e6b7",
   "metadata": {},
   "outputs": [],
   "source": [
    "void delete_bt(node* curr_node)\n",
    "{\n",
    "    if(curr_node == nullptr)\n",
    "    {\n",
    "        return;\n",
    "    }\n",
    "    delete_bt(curr_node->left);\n",
    "    delete_bt(curr_node->right);\n",
    "    delete curr_node;\n",
    "}"
   ]
  },
  {
   "cell_type": "code",
   "execution_count": 5,
   "id": "1374f592",
   "metadata": {},
   "outputs": [
    {
     "name": "stdout",
     "output_type": "stream",
     "text": [
      "serialized list:: 1 3 -1 -1 2 5 -1 -1 4 -1 -1 \n",
      "deserialized list:: 1 3 -1 -1 2 5 -1 -1 4 -1 -1 \n"
     ]
    }
   ],
   "source": [
    "#include <iostream>\n",
    "#include <vector>\n",
    "\n",
    "//create the tree\n",
    "node* node1 = new node(1, nullptr, nullptr);\n",
    "node* node2 = new node(2, nullptr, nullptr);\n",
    "node* node3 = new node(3, nullptr, nullptr);\n",
    "node* node4 = new node(4, nullptr, nullptr);\n",
    "node* node5 = new node(5, nullptr, nullptr);\n",
    "node1->left = node3;\n",
    "node1->right = node2;\n",
    "node2->left = node5;\n",
    "node2->right = node4;\n",
    "\n",
    "//main code\n",
    "std::vector<int> ser_list;\n",
    "serialize(node1, ser_list);\n",
    "\n",
    "std::cout << \"serialized list:: \";\n",
    "for(int e : ser_list)\n",
    "{\n",
    "    std::cout << e << \" \";\n",
    "}\n",
    "std::cout << std::endl;\n",
    "\n",
    "///deserialize\n",
    "node* root = deserialize(ser_list);\n",
    "\n",
    "//serialize the result of deserialize to check\n",
    "std::vector<int> deser_list;\n",
    "serialize(root, deser_list);\n",
    "\n",
    "std::cout << \"deserialized list:: \";\n",
    "for(int e : deser_list)\n",
    "{\n",
    "    std::cout << e << \" \";\n",
    "}\n",
    "std::cout << std::endl;\n",
    "\n",
    "//clean up the trees\n",
    "delete_bt(node1);\n",
    "delete_bt(root);"
   ]
  }
 ],
 "metadata": {
  "kernelspec": {
   "display_name": "C++11",
   "language": "C++11",
   "name": "xcpp11"
  },
  "language_info": {
   "codemirror_mode": "text/x-c++src",
   "file_extension": ".cpp",
   "mimetype": "text/x-c++src",
   "name": "c++",
   "version": "11"
  }
 },
 "nbformat": 4,
 "nbformat_minor": 5
}
