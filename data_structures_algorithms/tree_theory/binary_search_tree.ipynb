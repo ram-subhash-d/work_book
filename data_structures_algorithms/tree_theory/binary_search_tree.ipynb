{
 "cells": [
  {
   "cell_type": "markdown",
   "id": "2a3f0a45",
   "metadata": {},
   "source": [
    "## Binary Search Tree\n",
    "A binary tree has no more than two nodes. The node has a value and two pointers, pointing to the left and right nodes. Binary search tree is same as binary tree but the data is sorted. i.e the left subtree of any node contains only nodes with values lesser than the node's value and the right subtree contains only nodes with values greater than the node's value."
   ]
  },
  {
   "cell_type": "code",
   "execution_count": 2,
   "id": "31e51181",
   "metadata": {},
   "outputs": [],
   "source": [
    "struct node\n",
    "{\n",
    "    int value;\n",
    "    node* left;\n",
    "    node* right;\n",
    "    \n",
    "    node(int v, node* l, node* r)\n",
    "    {\n",
    "        value = v;\n",
    "        left = l;\n",
    "        right = r;\n",
    "    }\n",
    "}"
   ]
  },
  {
   "cell_type": "code",
   "execution_count": 10,
   "id": "9f187479",
   "metadata": {},
   "outputs": [
    {
     "name": "stdout",
     "output_type": "stream",
     "text": [
      "true"
     ]
    }
   ],
   "source": [
    "#include <iostream>\n",
    "\n",
    "class binary_search_tree\n",
    "{\n",
    "public:\n",
    "    binary_search_tree()\n",
    "    {\n",
    "    }\n",
    "    \n",
    "    void add(int value)\n",
    "    {\n",
    "        node* new_node = new node(value, nullptr, nullptr);\n",
    "        if(m_root == nullptr)\n",
    "        {\n",
    "            m_root = new_node;\n",
    "            return;\n",
    "        }\n",
    "        add(m_root, new_node);\n",
    "    }\n",
    "    \n",
    "    bool search(int value)\n",
    "    {\n",
    "        return search(m_root, value);\n",
    "    }\n",
    "    \n",
    "private:\n",
    "    void add(node* curr_node, node* new_node)\n",
    "    {\n",
    "        if(new_node->value >= curr_node->value)\n",
    "        {\n",
    "            if(curr_node->right == nullptr)\n",
    "            {\n",
    "                curr_node->right = new_node;\n",
    "                return;\n",
    "            }\n",
    "            add(curr_node->right, new_node);\n",
    "        }\n",
    "        else\n",
    "        {\n",
    "            if(curr_node->left == nullptr)\n",
    "            {\n",
    "                curr_node->left = new_node;\n",
    "                return;\n",
    "            }\n",
    "            add(curr_node->left, new_node);\n",
    "        }\n",
    "    }\n",
    "    \n",
    "    bool search(node* curr, int value)\n",
    "    {\n",
    "        if(curr == nullptr)\n",
    "        {\n",
    "            return false;\n",
    "        }\n",
    "        if(curr->value == value)\n",
    "        {\n",
    "            return true;\n",
    "        }\n",
    "        \n",
    "        if(value > curr->value)\n",
    "        {\n",
    "            return search(curr->right, value);\n",
    "        }\n",
    "        else\n",
    "        {\n",
    "            return search(curr->left, value);\n",
    "        }\n",
    "    }\n",
    "    \n",
    "    node* m_root = nullptr;\n",
    "};\n",
    "\n",
    "binary_search_tree bst;\n",
    "bst.add(10);\n",
    "bst.add(12);\n",
    "bst.add(11);\n",
    "bst.add(13);\n",
    "bst.add(6);\n",
    "\n",
    "std::cout << std::boolalpha;\n",
    "std::cout << bst.search(11);"
   ]
  },
  {
   "cell_type": "markdown",
   "id": "58cf17cf",
   "metadata": {},
   "source": [
    "## Big O\n",
    "To Add a node it is O(n) in the worst case when the tree is skewed to one side, if the tree is balanced then it takes O(logn). It is the same case for searching too. Delete is bit more complex since we have to move the node to a leaf position before we can delete, but still O(n)."
   ]
  }
 ],
 "metadata": {
  "kernelspec": {
   "display_name": "C++11",
   "language": "C++11",
   "name": "xcpp11"
  },
  "language_info": {
   "codemirror_mode": "text/x-c++src",
   "file_extension": ".cpp",
   "mimetype": "text/x-c++src",
   "name": "c++",
   "version": "11"
  }
 },
 "nbformat": 4,
 "nbformat_minor": 5
}
