{
 "cells": [
  {
   "cell_type": "markdown",
   "id": "ddbc1cc4",
   "metadata": {},
   "source": [
    "# Heap Sort\n",
    "For the heap sort we use the binary tree. To represent a binary tree data structure we can either use a tree node with left and right tree nodes or use an array. To use an array as a binary tree the array should start with index 1 and children of a parent node at array index k should be stored at indexes 2k(left) and 2k + 1(right), this way we can use an array to represent a binary tree.\n",
    "\n",
    "The basic opeartion of heap sort is heapify, it is performed on a parent and its two children. Heapify moves the minimum or maximum element as the parent depending on weither a min heap or a max heap is being built. \n",
    "\n",
    "The first step is to find the largest element in the array. For that we apply heapify recursively on all nodes in bottom to up order, resulting in the largest element moving to the top of the binary tree. Then swap this largest element with the last element in the tree/array. Thus resulting in one element being sorted. The above 2 steps should be repeated n times to sort the entire array.  "
   ]
  },
  {
   "cell_type": "code",
   "execution_count": 1,
   "id": "9b464973",
   "metadata": {},
   "outputs": [],
   "source": [
    "#include <iostream>\n",
    "int max_i;"
   ]
  },
  {
   "cell_type": "code",
   "execution_count": 2,
   "id": "9a60db92",
   "metadata": {},
   "outputs": [],
   "source": [
    "void swap(int arr[], int i, int j)\n",
    "{\n",
    "    int temp = arr[i];\n",
    "    arr[i] = arr[j];\n",
    "    arr[j] = temp;\n",
    "}"
   ]
  },
  {
   "cell_type": "code",
   "execution_count": 3,
   "id": "7f1719cd",
   "metadata": {},
   "outputs": [],
   "source": [
    "void heapify(int arr[], int par_i)\n",
    "{\n",
    "    int lft_i = par_i*2;\n",
    "    int rgt_i = par_i*2 + 1;\n",
    "    int grt_i = par_i;\n",
    "    \n",
    "    if(lft_i <= max_i && arr[lft_i] > arr[grt_i])\n",
    "    {\n",
    "        grt_i = lft_i;\n",
    "    }\n",
    "    if(rgt_i <= max_i && arr[rgt_i] > arr[grt_i])\n",
    "    {\n",
    "        grt_i = rgt_i;\n",
    "    }\n",
    "    \n",
    "    if(grt_i != par_i)\n",
    "    {\n",
    "        swap(arr, par_i, grt_i);\n",
    "        heapify(arr, grt_i);\n",
    "    }\n",
    "}"
   ]
  },
  {
   "cell_type": "code",
   "execution_count": 4,
   "id": "66fb3ec9",
   "metadata": {},
   "outputs": [
    {
     "name": "stdout",
     "output_type": "stream",
     "text": [
      "Before sort:1  50  30  10  60  80  \n",
      "After sort:1  10  30  50  60  80  \n"
     ]
    }
   ],
   "source": [
    "void heap_sort(int arr[], int size)\n",
    "{\n",
    "    max_i = size - 1;\n",
    "    \n",
    "    //start with the last level of parents and move to the root\n",
    "    for(int i = max_i/2; i >=0; i--)\n",
    "    {\n",
    "        heapify(arr, i);\n",
    "    }\n",
    "    \n",
    "    for(int i = max_i; i > 0; i--)\n",
    "    {\n",
    "        swap(arr, 0, i);\n",
    "        max_i--;\n",
    "        heapify(arr, 0);\n",
    "    }\n",
    "}\n",
    "\n",
    "int arr[] = {1,50,30,10,60,80};\n",
    "\n",
    "std::cout << \"Before sort:\";\n",
    "for(int ele : arr)\n",
    "{\n",
    "    std::cout << ele << \"  \";\n",
    "}\n",
    "std::cout << std::endl;\n",
    "\n",
    "int size = sizeof(arr)/sizeof(arr[0]);\n",
    "heap_sort(arr, size);\n",
    "\n",
    "std::cout << \"After sort:\";\n",
    "for(int ele : arr)\n",
    "{\n",
    "    std::cout << ele << \"  \";\n",
    "}\n",
    "std::cout << std::endl;"
   ]
  },
  {
   "cell_type": "markdown",
   "id": "6cfe04af",
   "metadata": {},
   "source": [
    "### Big O\n",
    "For applying heapify recursively on all nodes to find the largest element takes O(logn) time. We have to do this n times to sort all the elements, hence the time complexity is O(nlogn). Heap sort is an in place algorithm hence it does not need any extra memory."
   ]
  }
 ],
 "metadata": {
  "kernelspec": {
   "display_name": "C++11",
   "language": "C++11",
   "name": "xcpp11"
  },
  "language_info": {
   "codemirror_mode": "text/x-c++src",
   "file_extension": ".cpp",
   "mimetype": "text/x-c++src",
   "name": "c++",
   "version": "11"
  }
 },
 "nbformat": 4,
 "nbformat_minor": 5
}
