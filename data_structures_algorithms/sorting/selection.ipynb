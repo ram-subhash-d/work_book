{
 "cells": [
  {
   "cell_type": "markdown",
   "id": "7b6cdf74",
   "metadata": {},
   "source": [
    "# Selection Sort"
   ]
  },
  {
   "cell_type": "markdown",
   "id": "04c3ad9e",
   "metadata": {},
   "source": [
    "In selection sort, we take one position at a time and sort it by comparing it with all the remaining elements. So in one iteration one element is sorted, we have to repeat this for n times."
   ]
  },
  {
   "cell_type": "code",
   "execution_count": 1,
   "id": "5328acf4",
   "metadata": {},
   "outputs": [
    {
     "name": "stdout",
     "output_type": "stream",
     "text": [
      "Before sort:1  50  30  10  60  80  \n",
      "After sort:1  10  30  50  60  80  \n"
     ]
    }
   ],
   "source": [
    "#include <iostream>\n",
    "\n",
    "void selection_sort(int arr[], int size)\n",
    "{\n",
    "    int temp;\n",
    "    for(int i = 0; i < size - 1; i++)\n",
    "    {\n",
    "        int min_index = i;\n",
    "        for(int j = i + 1; j < size; j++)\n",
    "        {\n",
    "            if(arr[min_index] > arr[j])\n",
    "            {\n",
    "                min_index = j;\n",
    "            }\n",
    "        }\n",
    "        if(min_index != i)\n",
    "        {\n",
    "            temp = arr[min_index];\n",
    "            arr[min_index] = arr[i];\n",
    "            arr[i] = temp;\n",
    "        }\n",
    "    }\n",
    "}\n",
    "\n",
    "int arr[] = {1,50,30,10,60,80};\n",
    "\n",
    "std::cout << \"Before sort:\";\n",
    "for(int ele : arr)\n",
    "{\n",
    "    std::cout << ele << \"  \";\n",
    "}\n",
    "std::cout << std::endl;\n",
    "\n",
    "int size = sizeof(arr)/sizeof(arr[0]);\n",
    "selection_sort(arr, size);\n",
    "\n",
    "std::cout << \"After sort:\";\n",
    "for(int ele : arr)\n",
    "{\n",
    "    std::cout << ele << \"  \";\n",
    "}\n",
    "std::cout << std::endl;"
   ]
  },
  {
   "cell_type": "markdown",
   "id": "f20ecd1a",
   "metadata": {},
   "source": [
    "### Big O\n",
    "It is O(n2), since we need 2 for loops to sort all the elements.\n",
    "For space complexity it uses the same array, no extra memory is needed."
   ]
  }
 ],
 "metadata": {
  "kernelspec": {
   "display_name": "C++11",
   "language": "C++11",
   "name": "xcpp11"
  },
  "language_info": {
   "codemirror_mode": "text/x-c++src",
   "file_extension": ".cpp",
   "mimetype": "text/x-c++src",
   "name": "c++",
   "version": "11"
  }
 },
 "nbformat": 4,
 "nbformat_minor": 5
}
