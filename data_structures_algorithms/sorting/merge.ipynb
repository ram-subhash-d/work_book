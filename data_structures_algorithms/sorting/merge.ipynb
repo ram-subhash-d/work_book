{
 "cells": [
  {
   "cell_type": "markdown",
   "id": "076943e1",
   "metadata": {},
   "source": [
    "# Merge Sort"
   ]
  },
  {
   "cell_type": "markdown",
   "id": "44ec8441",
   "metadata": {},
   "source": [
    "Merge sort is a divide and conquer algorithm. First we divide each partition into two partitions iteratively until we have individual array elements as partitions, i.e we divide the big problem into smallest problems possible. Then we start merging and sorting two partions at a time iteratively, we do this until the entire array is merged and sorted.  "
   ]
  },
  {
   "cell_type": "code",
   "execution_count": 9,
   "id": "20ec5a7f",
   "metadata": {},
   "outputs": [],
   "source": [
    "#include <iostream>\n",
    "#include <vector>\n",
    "\n",
    "std::vector<int> m_array;\n",
    "std::vector<int> m_temp_array;"
   ]
  },
  {
   "cell_type": "code",
   "execution_count": 10,
   "id": "aefc1534",
   "metadata": {},
   "outputs": [],
   "source": [
    "void merge_part(int low_index, int mid_index, int high_index)\n",
    "{   \n",
    "    for(int i = low_index; i <= high_index; i++)\n",
    "    {\n",
    "        m_temp_array[i] = m_array[i];\n",
    "    }\n",
    "    \n",
    "    int i = low_index;\n",
    "    int j = mid_index + 1;\n",
    "    int k = low_index;\n",
    "    while(i <= mid_index && j <= high_index)\n",
    "    {\n",
    "        if(m_temp_array[i] < m_temp_array[j])\n",
    "        {\n",
    "            m_array[k] = m_temp_array[i];\n",
    "            i++;\n",
    "        }\n",
    "        else\n",
    "        {\n",
    "            m_array[k] = m_temp_array[j];\n",
    "            j++;\n",
    "        }\n",
    "        k++;\n",
    "    }\n",
    "    \n",
    "    while(i <= mid_index)\n",
    "    {\n",
    "        m_array[k] = m_temp_array[i];\n",
    "        i++;\n",
    "        k++;\n",
    "    }\n",
    "    while(j <= high_index)\n",
    "    {\n",
    "        m_array[k] = m_temp_array[j];\n",
    "        j++;\n",
    "        k++;\n",
    "    }\n",
    "}"
   ]
  },
  {
   "cell_type": "code",
   "execution_count": 11,
   "id": "a623ce84",
   "metadata": {},
   "outputs": [
    {
     "name": "stdout",
     "output_type": "stream",
     "text": [
      "Before sort:1  50  30  10  60  80  \n",
      "After sort:1  10  30  50  60  80  \n"
     ]
    }
   ],
   "source": [
    "void merge_sort(int low_index, int high_index)\n",
    "{\n",
    "    if(low_index < high_index)\n",
    "    {\n",
    "        int mid_index = low_index + (high_index - low_index)/2;\n",
    "        merge_sort(low_index, mid_index);\n",
    "        merge_sort(mid_index + 1, high_index);\n",
    "        merge_part(low_index, mid_index, high_index);\n",
    "    }\n",
    "}\n",
    "\n",
    "int arr[] = {1,50,30,10,60,80};\n",
    "\n",
    "std::cout << \"Before sort:\";\n",
    "for(int ele : arr)\n",
    "{\n",
    "    std::cout << ele << \"  \";\n",
    "}\n",
    "std::cout << std::endl;\n",
    "\n",
    "for(int item : arr)\n",
    "{\n",
    "    m_array.push_back(item);\n",
    "}\n",
    "m_temp_array.resize(m_array.size());\n",
    "\n",
    "merge_sort(0, m_array.size() - 1);\n",
    "\n",
    "std::cout << \"After sort:\";\n",
    "for(int ele : m_array)\n",
    "{\n",
    "    std::cout << ele << \"  \";\n",
    "}\n",
    "std::cout << std::endl;"
   ]
  },
  {
   "cell_type": "markdown",
   "id": "d517b14a",
   "metadata": {},
   "source": [
    "### Big O\n",
    "Since each partition becomes two partitions in each iteration, it takes log(n) time to divide the problem into smaller problems. Then for sorting it takes O(n) time. So the big o for time complexcity of merge sort is O(nlogn).\n",
    "\n",
    "For space it needs a extra O(n), to store the temporary partitioned arrays. "
   ]
  }
 ],
 "metadata": {
  "kernelspec": {
   "display_name": "C++11",
   "language": "C++11",
   "name": "xcpp11"
  },
  "language_info": {
   "codemirror_mode": "text/x-c++src",
   "file_extension": ".cpp",
   "mimetype": "text/x-c++src",
   "name": "c++",
   "version": "11"
  }
 },
 "nbformat": 4,
 "nbformat_minor": 5
}
