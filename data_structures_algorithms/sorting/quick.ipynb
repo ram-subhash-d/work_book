{
 "cells": [
  {
   "cell_type": "markdown",
   "id": "3d74d132",
   "metadata": {},
   "source": [
    "## Quick Sort"
   ]
  },
  {
   "cell_type": "markdown",
   "id": "a93133d9",
   "metadata": {},
   "source": [
    "For quick sort first we pick a pivot, sort the pivot to the right location by moving elements smaller than it to before it and moving elements bigger than it to after it. Once this is done the array is partitioned on the pivot.\n",
    "The above process is repeated for each partition till all the elements are done. It is a divide and conquer algorithm."
   ]
  },
  {
   "cell_type": "code",
   "execution_count": 2,
   "id": "898b6099",
   "metadata": {},
   "outputs": [
    {
     "name": "stdout",
     "output_type": "stream",
     "text": [
      "Before sort:1  50  30  10  60  80  \n",
      "After sort:1  10  30  50  60  80  \n"
     ]
    }
   ],
   "source": [
    "#include <iostream>\n",
    "\n",
    "void quick_sort(int arr[], int low, int high)\n",
    "{\n",
    "    if(low > high)\n",
    "    {\n",
    "        return;\n",
    "    }\n",
    "    \n",
    "    //mid as the pivot\n",
    "    int mid = low + (high - low)/2;\n",
    "    int pivot = arr[mid];\n",
    "    \n",
    "    //sort elements on the pivot\n",
    "    //moving elements smaller than it to before it and moving elements bigger than it to after it\n",
    "    int i = low;\n",
    "    int j = high;\n",
    "    while(i <= j)\n",
    "    {\n",
    "        while(arr[i] < pivot)\n",
    "        {\n",
    "            i++;\n",
    "        }\n",
    "        while(arr[j] > pivot)\n",
    "        {\n",
    "            j--;\n",
    "        }\n",
    "        if(i <= j)\n",
    "        {\n",
    "            int temp = arr[i];\n",
    "            arr[i] = arr[j];\n",
    "            arr[j] = temp;\n",
    "            i++;\n",
    "            j--;\n",
    "        }\n",
    "    }\n",
    "    \n",
    "    //next iteration on the partitions\n",
    "    if(low < j)\n",
    "    {\n",
    "        quick_sort(arr, low, j);\n",
    "    }\n",
    "    if(high > i)\n",
    "    {\n",
    "        quick_sort(arr, i, high);\n",
    "    }\n",
    "}\n",
    "\n",
    "\n",
    "int arr[] = {1,50,30,10,60,80};\n",
    "\n",
    "std::cout << \"Before sort:\";\n",
    "for(int ele : arr)\n",
    "{\n",
    "    std::cout << ele << \"  \";\n",
    "}\n",
    "std::cout << std::endl;\n",
    "\n",
    "int size = sizeof(arr)/sizeof(arr[0]);\n",
    "quick_sort(arr, 0, size - 1);\n",
    "\n",
    "std::cout << \"After sort:\";\n",
    "for(int ele : arr)\n",
    "{\n",
    "    std::cout << ele << \"  \";\n",
    "}\n",
    "std::cout << std::endl;\n"
   ]
  },
  {
   "cell_type": "markdown",
   "id": "d425ddf2",
   "metadata": {},
   "source": [
    "### Big O\n",
    "We would expect the time complexcity to be nlog(n) since we are partitioning in each iteration. This would be true if the pivot ends up being the middle element in each iteration. In the worst case the pivot ends up being on either end of the array, this means we are partitioning only one element, if this happens in every iteration(i.e if the array is already sorted) the time complexity would be n^2.\n",
    "\n",
    "For space it will take a extra log(n) space during the sorting"
   ]
  }
 ],
 "metadata": {
  "kernelspec": {
   "display_name": "C++11",
   "language": "C++11",
   "name": "xcpp11"
  },
  "language_info": {
   "codemirror_mode": "text/x-c++src",
   "file_extension": ".cpp",
   "mimetype": "text/x-c++src",
   "name": "c++",
   "version": "11"
  }
 },
 "nbformat": 4,
 "nbformat_minor": 5
}
