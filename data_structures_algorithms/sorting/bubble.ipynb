{
 "cells": [
  {
   "cell_type": "markdown",
   "id": "6e113922",
   "metadata": {},
   "source": [
    "# Bubble Sort"
   ]
  },
  {
   "cell_type": "markdown",
   "id": "6d8d6ed7",
   "metadata": {},
   "source": [
    "In bubble sort, adjacent 2 elements are compared and sorted. In this way for each full interation the last element is sorted.\n",
    "Doing this for n times will sort all the elements"
   ]
  },
  {
   "cell_type": "code",
   "execution_count": 3,
   "id": "b046f320",
   "metadata": {},
   "outputs": [
    {
     "name": "stdout",
     "output_type": "stream",
     "text": [
      "Before sort:1  50  30  10  60  80  \n",
      "After sort:1  10  30  50  60  80  \n"
     ]
    }
   ],
   "source": [
    "#include <iostream>\n",
    "\n",
    "void bubble_sort(int arr[], int size)\n",
    "{\n",
    "    int temp;\n",
    "    for(int i = 0; i < size; i++)\n",
    "    {\n",
    "        for(int j = 0; j < size - i - 1; j++)\n",
    "        {\n",
    "            if(arr[j] > arr[j+1])\n",
    "            {\n",
    "                temp = arr[j];\n",
    "                arr[j] = arr[j+1];\n",
    "                arr[j+1] = temp;\n",
    "            }\n",
    "        }\n",
    "    }\n",
    "}\n",
    "\n",
    "int arr[] = {1,50,30,10,60,80};\n",
    "\n",
    "std::cout << \"Before sort:\";\n",
    "for(int ele : arr)\n",
    "{\n",
    "    std::cout << ele << \"  \";\n",
    "}\n",
    "std::cout << std::endl;\n",
    "\n",
    "int size = sizeof(arr)/sizeof(arr[0]);\n",
    "bubble_sort(arr, size);\n",
    "\n",
    "std::cout << \"After sort:\";\n",
    "for(int ele : arr)\n",
    "{\n",
    "    std::cout << ele << \"  \";\n",
    "}\n",
    "std::cout << std::endl;"
   ]
  },
  {
   "cell_type": "markdown",
   "id": "80fb85c0",
   "metadata": {},
   "source": [
    "### Big O\n",
    "It is O(n2), since we need 2 for loops to sort all the elements.\n",
    "For space complexity it uses the same array, no extra memory is needed."
   ]
  }
 ],
 "metadata": {
  "kernelspec": {
   "display_name": "C++11",
   "language": "C++11",
   "name": "xcpp11"
  },
  "language_info": {
   "codemirror_mode": "text/x-c++src",
   "file_extension": ".cpp",
   "mimetype": "text/x-c++src",
   "name": "c++",
   "version": "11"
  }
 },
 "nbformat": 4,
 "nbformat_minor": 5
}
