{
 "cells": [
  {
   "cell_type": "markdown",
   "id": "3090d4fa",
   "metadata": {},
   "source": [
    "## Statement\n",
    "Given two words check if both of them have the same characters. For example the words tea and ate have the same characters."
   ]
  },
  {
   "cell_type": "markdown",
   "id": "baebe908",
   "metadata": {},
   "source": [
    "## Solution\n",
    "if we loop character by character on both the words, the time complexity would be O(n2). A better solution would be to sort both the words and then check for equality. The time complexity would be O(nlogn) for this appoach, sorting takes nlogn if we are using heap or merge."
   ]
  },
  {
   "cell_type": "code",
   "execution_count": 4,
   "id": "3694e722",
   "metadata": {},
   "outputs": [
    {
     "name": "stdout",
     "output_type": "stream",
     "text": [
      "Same characters?:true"
     ]
    }
   ],
   "source": [
    "#include <string>\n",
    "#include <algorithm>\n",
    "#include <iostream>\n",
    "\n",
    "bool words_have_same_characters(std::string& word_1, std::string& word_2)\n",
    "{\n",
    "    if(word_1.length() != word_2.length())\n",
    "    {\n",
    "        return false;\n",
    "    }\n",
    "    std::sort(word_1.begin(), word_1.end());\n",
    "    std::sort(word_2.begin(), word_2.end());\n",
    "    return word_1 == word_2;\n",
    "}\n",
    "\n",
    "std::string word_1 = \"tea\";\n",
    "std::string word_2 = \"ate\";\n",
    "std::cout << std::boolalpha;\n",
    "std::cout << \"Same characters?:\" << words_have_same_characters(word_1, word_2);"
   ]
  }
 ],
 "metadata": {
  "kernelspec": {
   "display_name": "C++11",
   "language": "C++11",
   "name": "xcpp11"
  },
  "language_info": {
   "codemirror_mode": "text/x-c++src",
   "file_extension": ".cpp",
   "mimetype": "text/x-c++src",
   "name": "c++",
   "version": "11"
  }
 },
 "nbformat": 4,
 "nbformat_minor": 5
}
